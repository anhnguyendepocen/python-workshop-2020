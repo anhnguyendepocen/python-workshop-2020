{
 "cells": [
  {
   "cell_type": "markdown",
   "metadata": {},
   "source": [
    "# Exercise 1\n",
    "\n",
    "Let's write a two-player rock-paper-scissors game! Given player1's and player2's inputs, write a function that decides which player wins. We provided some starter code.\n",
    "\n",
    "Remember the rules:\n",
    "- Rock beats scissors\n",
    "- Scissors beats paper\n",
    "- Paper beats rock\n"
   ]
  },
  {
   "cell_type": "code",
   "execution_count": 1,
   "metadata": {},
   "outputs": [
    {
     "name": "stdout",
     "output_type": "stream",
     "text": [
      "None\n"
     ]
    }
   ],
   "source": [
    "player1 = 'rock'\n",
    "player2 = 'paper'\n",
    "\n",
    "def rps_game(input1,input2):\n",
    "    # check if the inputs are correct. the inputs can only be the strings 'rock', 'paper', or 'scissors'.\n",
    "    # if the input is anything else, raise a valuer error.\n",
    "    # add test code here:\n",
    "    \n",
    "    \n",
    "    # create a string such as 'player1 wins!' or 'player2 wins' \n",
    "    # and return the appropriate string based on the inputs.\n",
    "    # add game code here:\n",
    "    \n",
    "    \n",
    "    return \n",
    "\n",
    "print(rps_game(player1,player2))"
   ]
  },
  {
   "cell_type": "markdown",
   "metadata": {},
   "source": [
    "# Exercise 2\n",
    "The exercise 3 was to write a function that returns the unique elements in a list. I'd like you to modify this function such that it also returns how many times each element occurs in the original list. For example, if the list is [1,2,5,5,2,3,4,1,3], the unique elements in the list are [1,2,5,3,4] and these elements occur [2,2,2,2,1] times. So the elements 1, 2, 5, and 3 appear twice in the original list, and 4 appears only once.\n",
    "\n",
    "Follow the code structure we used before. Define the function, test the input, and then add the rest of the under it. Then call the function and test it."
   ]
  },
  {
   "cell_type": "code",
   "execution_count": null,
   "metadata": {},
   "outputs": [],
   "source": []
  }
 ],
 "metadata": {
  "kernelspec": {
   "display_name": "Python 3",
   "language": "python",
   "name": "python3"
  },
  "language_info": {
   "codemirror_mode": {
    "name": "ipython",
    "version": 3
   },
   "file_extension": ".py",
   "mimetype": "text/x-python",
   "name": "python",
   "nbconvert_exporter": "python",
   "pygments_lexer": "ipython3",
   "version": "3.6.10"
  }
 },
 "nbformat": 4,
 "nbformat_minor": 4
}
