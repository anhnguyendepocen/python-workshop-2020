{
 "cells": [
  {
   "cell_type": "markdown",
   "metadata": {
    "slideshow": {
     "slide_type": "slide"
    }
   },
   "source": [
    "# <center> Please go to https://ccv.jupyter.brown.edu </center>"
   ]
  },
  {
   "cell_type": "markdown",
   "metadata": {
    "slideshow": {
     "slide_type": "slide"
    }
   },
   "source": [
    "## What we've learned so far:\n",
    "- Introduction to HTML\n",
    "- Making a request to a webpage and creating a beautiful soup object\n",
    "- Simple and advanced navigation through a soup object\n",
    "- Scraping weather data example"
   ]
  },
  {
   "cell_type": "markdown",
   "metadata": {
    "slideshow": {
     "slide_type": "slide"
    }
   },
   "source": [
    "## By the end of today you will learn about:\n",
    "\n",
    "- Scraping Wikipedia for the 2019 Oscar nominees"
   ]
  },
  {
   "cell_type": "markdown",
   "metadata": {
    "slideshow": {
     "slide_type": "subslide"
    }
   },
   "source": [
    "# We will be scraping the 2019 Oscar nominees from Wikipedia.\n",
    "\n",
    "https://en.wikipedia.org/wiki/92nd_Academy_Awards\n",
    "\n",
    "### To get started let's inspect the HTML underlying the page.\n",
    "Using Chrome, go to View > Developer > Developer Tools\n",
    "\n",
    "* `<table class=\"wikitable\">` contains all tags for the nominees table.\n",
    "* `<tr>` tags are rows in the nominees table, and their `<td>` children contain individual categories and winners.\n",
    "\n",
    "We can use this information to figure out how to scrape the page."
   ]
  },
  {
   "cell_type": "markdown",
   "metadata": {
    "slideshow": {
     "slide_type": "subslide"
    }
   },
   "source": [
    "* Nominees are in tables in the Awards section\n",
    "* Winners are in bold\n",
    "* Categories are table headers\n",
    "\n",
    "We want the CSV to look like the following:\n",
    "\n",
    "|Nominee|Winner|Category|\n",
    "|---|---|---|\n",
    "|Parasite|1|Best Picture|\n",
    "|Little Women|0|Best Picture|\n",
    "|...|...|...|"
   ]
  },
  {
   "cell_type": "code",
   "execution_count": null,
   "metadata": {
    "slideshow": {
     "slide_type": "subslide"
    }
   },
   "outputs": [],
   "source": [
    "import requests\n",
    "from bs4 import BeautifulSoup\n",
    "import pandas as pd"
   ]
  },
  {
   "cell_type": "code",
   "execution_count": null,
   "metadata": {
    "slideshow": {
     "slide_type": "-"
    }
   },
   "outputs": [],
   "source": [
    "url = 'https://en.wikipedia.org/wiki/92nd_Academy_Awards'\n",
    "page = requests.get(url)"
   ]
  },
  {
   "cell_type": "code",
   "execution_count": null,
   "metadata": {
    "slideshow": {
     "slide_type": "-"
    }
   },
   "outputs": [],
   "source": [
    "soup = BeautifulSoup(page.content, 'html.parser')"
   ]
  },
  {
   "cell_type": "code",
   "execution_count": null,
   "metadata": {
    "slideshow": {
     "slide_type": "subslide"
    }
   },
   "outputs": [],
   "source": [
    "all_nominees = soup.find(class_=\"wikitable\")\n",
    "print(all_nominees)"
   ]
  },
  {
   "cell_type": "markdown",
   "metadata": {
    "slideshow": {
     "slide_type": "subslide"
    }
   },
   "source": [
    "### Extract the nominees table"
   ]
  },
  {
   "cell_type": "code",
   "execution_count": null,
   "metadata": {
    "slideshow": {
     "slide_type": "-"
    }
   },
   "outputs": [],
   "source": [
    "print(all_nominees.prettify())"
   ]
  },
  {
   "cell_type": "markdown",
   "metadata": {
    "slideshow": {
     "slide_type": "subslide"
    }
   },
   "source": [
    "## Let's figure out how to scrape cateogory, winner, and nominees from one subtable"
   ]
  },
  {
   "cell_type": "code",
   "execution_count": null,
   "metadata": {
    "slideshow": {
     "slide_type": "subslide"
    }
   },
   "outputs": [],
   "source": [
    "subtables = all_nominees.select('tr td')\n",
    "print(len(subtables))"
   ]
  },
  {
   "cell_type": "code",
   "execution_count": null,
   "metadata": {
    "scrolled": true,
    "slideshow": {
     "slide_type": "subslide"
    }
   },
   "outputs": [],
   "source": [
    "print(subtables[0].prettify())"
   ]
  },
  {
   "cell_type": "code",
   "execution_count": null,
   "metadata": {
    "slideshow": {
     "slide_type": "subslide"
    }
   },
   "outputs": [],
   "source": [
    "# find first <b> tag\n",
    "print(subtables[0].find('b'))"
   ]
  },
  {
   "cell_type": "code",
   "execution_count": null,
   "metadata": {
    "slideshow": {
     "slide_type": "-"
    }
   },
   "outputs": [],
   "source": [
    "# another way to find the first <b> tag\n",
    "print(subtables[0].b)"
   ]
  },
  {
   "cell_type": "code",
   "execution_count": null,
   "metadata": {
    "slideshow": {
     "slide_type": "-"
    }
   },
   "outputs": [],
   "source": [
    "# find first a tag within the b tag\n",
    "print(subtables[0].b.a)"
   ]
  },
  {
   "cell_type": "code",
   "execution_count": null,
   "metadata": {
    "slideshow": {
     "slide_type": "-"
    }
   },
   "outputs": [],
   "source": [
    "# get the title attribute from the a tag\n",
    "category = subtables[0].b.a['title']\n",
    "print(category)"
   ]
  },
  {
   "cell_type": "markdown",
   "metadata": {
    "slideshow": {
     "slide_type": "subslide"
    }
   },
   "source": [
    "## Exercise: get the category from the text of the a tag above"
   ]
  },
  {
   "cell_type": "code",
   "execution_count": null,
   "metadata": {
    "slideshow": {
     "slide_type": "-"
    }
   },
   "outputs": [],
   "source": []
  },
  {
   "cell_type": "markdown",
   "metadata": {
    "slideshow": {
     "slide_type": "subslide"
    }
   },
   "source": [
    "#### Find all <b> <a> </a> </b> tags within the first subtable"
   ]
  },
  {
   "cell_type": "code",
   "execution_count": null,
   "metadata": {
    "slideshow": {
     "slide_type": "-"
    }
   },
   "outputs": [],
   "source": [
    "print(subtables[0].find_all('b'))"
   ]
  },
  {
   "cell_type": "code",
   "execution_count": null,
   "metadata": {
    "slideshow": {
     "slide_type": "-"
    }
   },
   "outputs": [],
   "source": [
    "print(subtables[0].select('b a'))"
   ]
  },
  {
   "cell_type": "markdown",
   "metadata": {
    "slideshow": {
     "slide_type": "subslide"
    }
   },
   "source": [
    "#### Get the winner from the text of the `<a>` tag"
   ]
  },
  {
   "cell_type": "code",
   "execution_count": null,
   "metadata": {
    "slideshow": {
     "slide_type": "-"
    }
   },
   "outputs": [],
   "source": [
    "winner = subtables[0].select('b a')[1].get_text()\n",
    "print(winner)"
   ]
  },
  {
   "cell_type": "markdown",
   "metadata": {
    "slideshow": {
     "slide_type": "subslide"
    }
   },
   "source": [
    "## Exercise: get the winning director (Bong Joon-ho)"
   ]
  },
  {
   "cell_type": "code",
   "execution_count": null,
   "metadata": {
    "slideshow": {
     "slide_type": "-"
    }
   },
   "outputs": [],
   "source": []
  },
  {
   "cell_type": "markdown",
   "metadata": {
    "slideshow": {
     "slide_type": "subslide"
    }
   },
   "source": [
    "#### Get the nominees (inspect the HTML underlying the webpage first)"
   ]
  },
  {
   "cell_type": "code",
   "execution_count": null,
   "metadata": {
    "slideshow": {
     "slide_type": "-"
    }
   },
   "outputs": [],
   "source": [
    "nominees_table = subtables[0].ul.li.ul.find_all('li')\n",
    "print(nominees_table)"
   ]
  },
  {
   "cell_type": "code",
   "execution_count": null,
   "metadata": {
    "slideshow": {
     "slide_type": "subslide"
    }
   },
   "outputs": [],
   "source": [
    "nominees_lst = []\n",
    "for entry in nominees_table:\n",
    "    nominee = entry.a.get_text()\n",
    "    nominees_lst.append(nominee)\n",
    "print(nominees_lst) "
   ]
  },
  {
   "cell_type": "markdown",
   "metadata": {
    "slideshow": {
     "slide_type": "subslide"
    }
   },
   "source": [
    "## Exercise: get the director for each best picture nominee (ex: Peter Chernin for Ford vs. Ferrari and Martin Scorsese for The Irishman)"
   ]
  },
  {
   "cell_type": "code",
   "execution_count": null,
   "metadata": {
    "slideshow": {
     "slide_type": "-"
    }
   },
   "outputs": [],
   "source": []
  },
  {
   "cell_type": "markdown",
   "metadata": {
    "slideshow": {
     "slide_type": "subslide"
    }
   },
   "source": [
    "### We have the category, winner, and nominees. Now we just need to structure them into a data frame."
   ]
  },
  {
   "cell_type": "code",
   "execution_count": null,
   "metadata": {
    "slideshow": {
     "slide_type": "-"
    }
   },
   "outputs": [],
   "source": [
    "print(winner)\n",
    "movies_lst = [winner] + nominees_lst\n",
    "print(movies_lst)"
   ]
  },
  {
   "cell_type": "code",
   "execution_count": null,
   "metadata": {
    "slideshow": {
     "slide_type": "-"
    }
   },
   "outputs": [],
   "source": [
    "is_winner_lst = [1] + [0]*len(nominees_lst)\n",
    "print(is_winner_lst)"
   ]
  },
  {
   "cell_type": "code",
   "execution_count": null,
   "metadata": {
    "slideshow": {
     "slide_type": "-"
    }
   },
   "outputs": [],
   "source": [
    "print(category)\n",
    "categories_lst = [category]*len(movies_lst)\n",
    "print(categories_lst)"
   ]
  },
  {
   "cell_type": "code",
   "execution_count": null,
   "metadata": {
    "slideshow": {
     "slide_type": "subslide"
    }
   },
   "outputs": [],
   "source": [
    "movies_df = pd.DataFrame({\n",
    "    'movies': movies_lst,\n",
    "    'winner': is_winner_lst,\n",
    "    'category': categories_lst\n",
    "})\n",
    "print(movies_df)"
   ]
  },
  {
   "cell_type": "markdown",
   "metadata": {
    "slideshow": {
     "slide_type": "subslide"
    }
   },
   "source": [
    "## Next we will do this in a loop for all subtables"
   ]
  },
  {
   "cell_type": "code",
   "execution_count": null,
   "metadata": {
    "slideshow": {
     "slide_type": "-"
    }
   },
   "outputs": [],
   "source": [
    "for subtable in subtables:\n",
    "    category = subtable.b.a['title']\n",
    "    winner = subtable.select('b a')[1].get_text()\n",
    "    nominees_table = subtable.ul.li.ul.find_all('li')\n",
    "    nominees_lst = []\n",
    "    for entry in nominees_table:\n",
    "        nominee = entry.a.get_text()\n",
    "        nominees_lst.append(nominee)    \n",
    "    movies_lst = [winner] + nominees_lst\n",
    "    is_winner_lst = [1] + [0]*len(nominees_lst)\n",
    "    categories_lst = [category]*len(movies_lst)\n",
    "    movie_df = pd.DataFrame({\n",
    "        'movies': movies_lst,\n",
    "        'winner': is_winner_lst,\n",
    "        'category': categories_lst\n",
    "    })\n",
    "print(movie_df)"
   ]
  },
  {
   "cell_type": "markdown",
   "metadata": {
    "slideshow": {
     "slide_type": "subslide"
    }
   },
   "source": [
    "### What is the problem? How do we fix it?"
   ]
  },
  {
   "cell_type": "code",
   "execution_count": null,
   "metadata": {
    "slideshow": {
     "slide_type": "-"
    }
   },
   "outputs": [],
   "source": [
    "movies_list = []\n",
    "for subtable in subtables:\n",
    "    category = subtable.b.a['title']\n",
    "    winner = subtable.select('b a')[1].get_text()\n",
    "    nominees_table = subtable.ul.li.ul.find_all('li')\n",
    "    nominees_lst = []\n",
    "    for entry in nominees_table:\n",
    "        nominee = entry.a.get_text()\n",
    "        nominees_lst.append(nominee)    \n",
    "    movies_lst = [winner] + nominees_lst\n",
    "    is_winner_lst = [1] + [0]*len(nominees_lst)\n",
    "    categories_lst = [category]*len(movies_lst)\n",
    "    movie_df = pd.DataFrame({\n",
    "        'movies': movies_lst,\n",
    "        'winner': is_winner_lst,\n",
    "        'category': categories_lst\n",
    "    })\n",
    "    movies_list.append(movie_df)\n",
    "movies_df = pd.concat(movies_list)\n",
    "print(movies_df)"
   ]
  },
  {
   "cell_type": "code",
   "execution_count": null,
   "metadata": {
    "slideshow": {
     "slide_type": "subslide"
    }
   },
   "outputs": [],
   "source": [
    "movies_df.to_csv('data/oscars.csv', index=False)"
   ]
  }
 ],
 "metadata": {
  "celltoolbar": "Slideshow",
  "kernelspec": {
   "display_name": "Python 3",
   "language": "python",
   "name": "python3"
  },
  "language_info": {
   "codemirror_mode": {
    "name": "ipython",
    "version": 3
   },
   "file_extension": ".py",
   "mimetype": "text/x-python",
   "name": "python",
   "nbconvert_exporter": "python",
   "pygments_lexer": "ipython3",
   "version": "3.7.3"
  }
 },
 "nbformat": 4,
 "nbformat_minor": 2
}
