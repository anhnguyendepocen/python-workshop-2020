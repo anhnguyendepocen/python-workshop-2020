{
 "cells": [
  {
   "cell_type": "markdown",
   "metadata": {
    "slideshow": {
     "slide_type": "slide"
    }
   },
   "source": [
    "# <center> Please go to https://ccv.jupyter.brown.edu </center>"
   ]
  },
  {
   "cell_type": "markdown",
   "metadata": {
    "slideshow": {
     "slide_type": "slide"
    }
   },
   "source": [
    "# <center> What we learned so far... </center>\n",
    "- Variables\n",
    "- Container types\n",
    "- Control flow\n",
    "- Functions\n",
    "- How to test your code"
   ]
  },
  {
   "cell_type": "markdown",
   "metadata": {
    "slideshow": {
     "slide_type": "slide"
    }
   },
   "source": [
    "# <center> (Boolean Logic), Packages, and the Pandas package </center>\n",
    "## By the end of the day you'll be able to \n",
    "- boolean logic\n",
    "- import packages\n",
    "- describe why the Pandas package is useful\n",
    "- create a dataframe and summarize it\n",
    "- read a CSV file into a Pandas dataframe"
   ]
  },
  {
   "cell_type": "markdown",
   "metadata": {},
   "source": [
    "- boolean logic\n",
    "- <font color='LIGHTGRAY'> import packages </font>\n",
    "- <font color='LIGHTGRAY'> describe why the Pandas package is useful</font>\n",
    "- <font color='LIGHTGRAY'> create a dataframe and summarize it </font>\n",
    "- <font color='LIGHTGRAY'> read a CSV file into a Pandas dataframe</font>"
   ]
  },
  {
   "cell_type": "markdown",
   "metadata": {},
   "source": [
    "|Operator\t  |What it means\t             |What it looks like|\n",
    "|-------------|----------------------------|------------------|\n",
    "|`and`        |True if both are true       |x and y           |\n",
    "|`or`         |True if at least one is true|x or y            |\n",
    "|`not`        |True only if false          |not x             |"
   ]
  },
  {
   "cell_type": "markdown",
   "metadata": {},
   "source": [
    "## AND"
   ]
  },
  {
   "cell_type": "code",
   "execution_count": null,
   "metadata": {},
   "outputs": [],
   "source": [
    "print(True and True)\n",
    "print(True and False)\n",
    "print(False and True)\n",
    "print(False and False)"
   ]
  },
  {
   "cell_type": "markdown",
   "metadata": {},
   "source": [
    "## OR"
   ]
  },
  {
   "cell_type": "code",
   "execution_count": null,
   "metadata": {},
   "outputs": [],
   "source": [
    "print(True or True)\n",
    "print(True or False)\n",
    "print(False or True)\n",
    "print(False or False)"
   ]
  },
  {
   "cell_type": "markdown",
   "metadata": {},
   "source": [
    "## NOT"
   ]
  },
  {
   "cell_type": "code",
   "execution_count": null,
   "metadata": {},
   "outputs": [],
   "source": [
    "print(not True)\n",
    "print(not False)"
   ]
  },
  {
   "cell_type": "markdown",
   "metadata": {},
   "source": [
    "## Some more exciting examples..."
   ]
  },
  {
   "cell_type": "code",
   "execution_count": null,
   "metadata": {},
   "outputs": [],
   "source": [
    "print((5 > 3) and (5 < 9))\n",
    "print((5 > 3) and (5 > 9))\n",
    "print((5 < 3) and (5 < 9))\n",
    "print((5 < 3) and (5 > 9))"
   ]
  },
  {
   "cell_type": "code",
   "execution_count": null,
   "metadata": {},
   "outputs": [],
   "source": [
    "print(not((-0.2 > 1.4) and ((0.8 < 3.1) or (0.1 == 0.1))))"
   ]
  },
  {
   "cell_type": "code",
   "execution_count": null,
   "metadata": {},
   "outputs": [],
   "source": [
    "age = 59\n",
    "print((type(age) != float) or (type(age) != int))\n",
    "print((type(age) != float) and (type(age) != int))"
   ]
  },
  {
   "cell_type": "markdown",
   "metadata": {
    "slideshow": {
     "slide_type": "slide"
    }
   },
   "source": [
    "- <font color='LIGHTGRAY'> boolean logic </font>\n",
    "- import packages\n",
    "- <font color='LIGHTGRAY'> describe why the Pandas package is useful</font>\n",
    "- <font color='LIGHTGRAY'> create a dataframe and summarize it </font>\n",
    "- <font color='LIGHTGRAY'> read a CSV file into a Pandas dataframe</font>"
   ]
  },
  {
   "cell_type": "markdown",
   "metadata": {
    "slideshow": {
     "slide_type": "slide"
    }
   },
   "source": [
    "## What are packages\n",
    "- libraries of code\n",
    "- specific to tasks/functions\n",
    "- a lot of common functions are already written by computer scientists and are much faster than you can write\n",
    "- we will be using packages in addition to base Python in the next two weeks"
   ]
  },
  {
   "cell_type": "code",
   "execution_count": null,
   "metadata": {
    "slideshow": {
     "slide_type": "subslide"
    }
   },
   "outputs": [],
   "source": [
    "nums_list = [1,2,3,4,5,10,20,50,200]\n",
    "print(mean(nums_list))"
   ]
  },
  {
   "cell_type": "markdown",
   "metadata": {
    "slideshow": {
     "slide_type": "fragment"
    }
   },
   "source": [
    "### <center> Let's google it!"
   ]
  },
  {
   "cell_type": "code",
   "execution_count": null,
   "metadata": {
    "slideshow": {
     "slide_type": "subslide"
    }
   },
   "outputs": [],
   "source": [
    "import statistics\n",
    "\n",
    "print(statistics.mean(nums_list))"
   ]
  },
  {
   "cell_type": "code",
   "execution_count": null,
   "metadata": {
    "slideshow": {
     "slide_type": "-"
    }
   },
   "outputs": [],
   "source": [
    "help(statistics.mean)"
   ]
  },
  {
   "cell_type": "code",
   "execution_count": null,
   "metadata": {
    "slideshow": {
     "slide_type": "subslide"
    }
   },
   "outputs": [],
   "source": [
    "from statistics import mean\n",
    "\n",
    "print(mean(nums_list))"
   ]
  },
  {
   "cell_type": "code",
   "execution_count": null,
   "metadata": {
    "slideshow": {
     "slide_type": "subslide"
    }
   },
   "outputs": [],
   "source": [
    "import numpy as np\n",
    "\n",
    "print(np.mean(nums_list))"
   ]
  },
  {
   "cell_type": "code",
   "execution_count": null,
   "metadata": {
    "scrolled": true,
    "slideshow": {
     "slide_type": "-"
    }
   },
   "outputs": [],
   "source": [
    "help(np.mean)"
   ]
  },
  {
   "cell_type": "markdown",
   "metadata": {
    "slideshow": {
     "slide_type": "subslide"
    }
   },
   "source": [
    "## Exercise: google the standard deviation function in the `statistics` and `numpy` python packages. import the packages and then use the functions on `nums_list`."
   ]
  },
  {
   "cell_type": "code",
   "execution_count": null,
   "metadata": {
    "slideshow": {
     "slide_type": "-"
    }
   },
   "outputs": [],
   "source": [
    "import numpy as np\n",
    "import statistics\n",
    "\n",
    "print(np.std(nums_list))\n",
    "print(statistics.stdev(nums_list))\n",
    "help(np.std)\n",
    "help(statistics.stdev)"
   ]
  },
  {
   "cell_type": "markdown",
   "metadata": {
    "slideshow": {
     "slide_type": "slide"
    }
   },
   "source": [
    "- <font color='LIGHTGRAY'> boolean logic </font>\n",
    "- <font color='LIGHTGRAY'> import packages </font>\n",
    "- describe why the Pandas package and dataframes are useful\n",
    "- <font color='LIGHTGRAY'> create a dataframe and summarize it </font>\n",
    "- <font color='LIGHTGRAY'> read a CSV file into a Pandas dataframe</font>"
   ]
  },
  {
   "cell_type": "markdown",
   "metadata": {
    "slideshow": {
     "slide_type": "subslide"
    }
   },
   "source": [
    "## Why `Pandas`?\n",
    "- Work with tabular data with mixed types, like an excel sheet\n",
    "- Next week, we will work with Pandas to store the data that we scrape from the web\n",
    "- The following week, we will do data cleaning, calculations, and plotting using `pandas`"
   ]
  },
  {
   "cell_type": "markdown",
   "metadata": {
    "slideshow": {
     "slide_type": "subslide"
    }
   },
   "source": [
    "## The `DataFrame` container type\n",
    "\n",
    "* Part of Pandas package\n",
    "* Spreadsheet or table-like representation of data\n",
    "* Can store mixed types\n",
    "* Columns and rows are named\n",
    "* Like a nested list, where all the sublists have the same shape (basically a matrix)\n",
    "* Lots of functions for cleaning and massaging data, grouping, aggregations, plotting\n",
    "* Exceptionally popular"
   ]
  },
  {
   "cell_type": "markdown",
   "metadata": {
    "slideshow": {
     "slide_type": "-"
    }
   },
   "source": [
    "|index| name    | age | address    |\n",
    "|-|---------|-----|------------|\n",
    "|0| Ashley  | 30  | Providence |\n",
    "|...| ...     | ... | ...        |\n",
    "|10| Rihanna | 32  | Barbados   |"
   ]
  },
  {
   "cell_type": "markdown",
   "metadata": {
    "slideshow": {
     "slide_type": "subslide"
    }
   },
   "source": [
    "![title](./panda.jpg)"
   ]
  },
  {
   "cell_type": "code",
   "execution_count": null,
   "metadata": {
    "slideshow": {
     "slide_type": "-"
    }
   },
   "outputs": [],
   "source": [
    "import pandas as pd"
   ]
  },
  {
   "cell_type": "markdown",
   "metadata": {
    "slideshow": {
     "slide_type": "slide"
    }
   },
   "source": [
    "- <font color='LIGHTGRAY'> boolean logic </font>\n",
    "- <font color='LIGHTGRAY'> import packages </font>\n",
    "- <font color='LIGHTGRAY'> describe why the Pandas package is useful</font>\n",
    "- create a dataframe and summarize it\n",
    "- <font color='LIGHTGRAY'>read a CSV file into a Pandas dataframe </font>"
   ]
  },
  {
   "cell_type": "markdown",
   "metadata": {
    "slideshow": {
     "slide_type": "subslide"
    }
   },
   "source": [
    "## Creating a dataframe from a dictionary of lists"
   ]
  },
  {
   "cell_type": "code",
   "execution_count": null,
   "metadata": {
    "slideshow": {
     "slide_type": "subslide"
    }
   },
   "outputs": [],
   "source": [
    "names_list = ['Ashley', 'Andras', 'Rihanna', 'Emily']\n",
    "ages_list = [30, 36, 28, 33]\n",
    "birthplaces_list = ['USA', 'Hungary', 'Barbados', 'USA']\n",
    "singers_list = [False, False, True, False]"
   ]
  },
  {
   "cell_type": "code",
   "execution_count": null,
   "metadata": {
    "slideshow": {
     "slide_type": "-"
    }
   },
   "outputs": [],
   "source": [
    "people_df = pd.DataFrame({\n",
    "    \"name\": names_list,\n",
    "    \"age\": ages_list,\n",
    "    \"birthplace\": birthplaces_list,\n",
    "    \"is_singer\": singers_list\n",
    "})\n",
    "people_df"
   ]
  },
  {
   "cell_type": "code",
   "execution_count": null,
   "metadata": {
    "slideshow": {
     "slide_type": "subslide"
    }
   },
   "outputs": [],
   "source": [
    "people_df.shape"
   ]
  },
  {
   "cell_type": "code",
   "execution_count": null,
   "metadata": {
    "slideshow": {
     "slide_type": "-"
    }
   },
   "outputs": [],
   "source": [
    "people_df.columns"
   ]
  },
  {
   "cell_type": "code",
   "execution_count": null,
   "metadata": {
    "slideshow": {
     "slide_type": "-"
    }
   },
   "outputs": [],
   "source": [
    "people_df.dtypes"
   ]
  },
  {
   "cell_type": "code",
   "execution_count": null,
   "metadata": {
    "slideshow": {
     "slide_type": "subslide"
    }
   },
   "outputs": [],
   "source": [
    "people_df.to_csv('people.csv')"
   ]
  },
  {
   "cell_type": "markdown",
   "metadata": {
    "slideshow": {
     "slide_type": "slide"
    }
   },
   "source": [
    "- <font color='LIGHTGRAY'> boolean logic </font>\n",
    "- <font color='LIGHTGRAY'> import packages </font>\n",
    "- <font color='LIGHTGRAY'> describe why the Pandas package is useful</font>\n",
    "- <font color='LIGHTGRAY'> create a dataframe and summarize it</font>\n",
    "- read a CSV file into a Pandas dataframe"
   ]
  },
  {
   "cell_type": "markdown",
   "metadata": {
    "slideshow": {
     "slide_type": "subslide"
    }
   },
   "source": [
    "## Reading in a dataframe from a file"
   ]
  },
  {
   "cell_type": "code",
   "execution_count": null,
   "metadata": {
    "slideshow": {
     "slide_type": "subslide"
    }
   },
   "outputs": [],
   "source": [
    "df = pd.read_csv('tweets.csv')\n",
    "print(df)"
   ]
  },
  {
   "cell_type": "code",
   "execution_count": null,
   "metadata": {
    "slideshow": {
     "slide_type": "subslide"
    }
   },
   "outputs": [],
   "source": [
    "df = pd.read_csv('usnewshealth.txt', sep='|', header=None, names=['ID', 'Date', 'Tweet'])\n",
    "print(df)"
   ]
  },
  {
   "cell_type": "code",
   "execution_count": null,
   "metadata": {
    "slideshow": {
     "slide_type": "subslide"
    }
   },
   "outputs": [],
   "source": [
    "print(df.head(10))"
   ]
  }
 ],
 "metadata": {
  "celltoolbar": "Slideshow",
  "kernelspec": {
   "display_name": "Python 3",
   "language": "python",
   "name": "python3"
  },
  "language_info": {
   "codemirror_mode": {
    "name": "ipython",
    "version": 3
   },
   "file_extension": ".py",
   "mimetype": "text/x-python",
   "name": "python",
   "nbconvert_exporter": "python",
   "pygments_lexer": "ipython3",
   "version": "3.7.3"
  }
 },
 "nbformat": 4,
 "nbformat_minor": 2
}
