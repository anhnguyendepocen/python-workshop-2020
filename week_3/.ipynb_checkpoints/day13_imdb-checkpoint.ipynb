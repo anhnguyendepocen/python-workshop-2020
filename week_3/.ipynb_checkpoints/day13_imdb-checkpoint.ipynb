{
 "cells": [
  {
   "cell_type": "markdown",
   "metadata": {
    "slideshow": {
     "slide_type": "slide"
    }
   },
   "source": [
    "# <center> Please go to https://ccv.jupyter.brown.edu </center>"
   ]
  },
  {
   "cell_type": "markdown",
   "metadata": {
    "slideshow": {
     "slide_type": "slide"
    }
   },
   "source": [
    "## By the end of today you will learn about:\n",
    "\n",
    "- Scraping IMDB for movies that came out in 2019\n",
    "- Scraping a single movie\n",
    "- Scraping all movies from a single page\n",
    "- Scraping all movies from all pages"
   ]
  },
  {
   "cell_type": "markdown",
   "metadata": {
    "slideshow": {
     "slide_type": "slide"
    }
   },
   "source": [
    "- Scraping IMDB for movies that came out in 2019\n",
    "- <font color='LIGHTGRAY'> Scraping a single movie </font>\n",
    "- <font color='LIGHTGRAY'> Scraping all movies from a single page </font>\n",
    "- <font color='LIGHTGRAY'> Scraping all movies from all pages </font>"
   ]
  },
  {
   "cell_type": "markdown",
   "metadata": {
    "slideshow": {
     "slide_type": "subslide"
    }
   },
   "source": [
    "# Scraping IMDB Movie Ratings\n",
    "Modified from https://www.dataquest.io/blog/web-scraping-beautifulsoup/\n",
    "\n",
    "|Title|Year|Genre|Runtime|Rating|Synopsis|Director|Vote|\n",
    "|---|---|---|---|---|---|---|---|\n",
    "|...|...|...|...|...|...|...|...|"
   ]
  },
  {
   "cell_type": "markdown",
   "metadata": {
    "slideshow": {
     "slide_type": "-"
    }
   },
   "source": [
    "## Explore website to decide how to scrape\n",
    "\n",
    "We want to scrape the movies released in 2019 that are in IMDB's database. https://www.imdb.com has an advanced search page (https://www.imdb.com/search/title) that we can use to generate a query to get this list of movies. \n",
    "\n",
    "We first need to figure out how querying works. Let's search for \"Feature Films\" released between 2019-01-01 and 2019-12-31 with a score between 1 and 10 (to exclude movies without votes). Let's set Display Options to \"250 per page\" and \"Release Date Descending\".  \n",
    "\n",
    "The URL for the query is:\n",
    "https://www.imdb.com/search/title/?title_type=feature&release_date=2019-01-01,2019-12-31&user_rating=1.0,10.0&sort=release_date,desc&count=250"
   ]
  },
  {
   "cell_type": "code",
   "execution_count": null,
   "metadata": {
    "slideshow": {
     "slide_type": "subslide"
    }
   },
   "outputs": [],
   "source": [
    "from requests import get\n",
    "from bs4 import BeautifulSoup\n",
    "import pandas as pd\n",
    "import time\n",
    "import warnings\n",
    "from IPython.display import clear_output"
   ]
  },
  {
   "cell_type": "markdown",
   "metadata": {
    "slideshow": {
     "slide_type": "slide"
    }
   },
   "source": [
    "- <font color='LIGHTGRAY'> Scraping IMDB for movies that came out in 2019 </font>\n",
    "- Scraping a single movie\n",
    "- <font color='LIGHTGRAY'> Scraping all movies from a single page </font>\n",
    "- <font color='LIGHTGRAY'> Scraping all movies from all pages </font>"
   ]
  },
  {
   "cell_type": "markdown",
   "metadata": {
    "slideshow": {
     "slide_type": "subslide"
    }
   },
   "source": [
    "## Scrape a single movie"
   ]
  },
  {
   "cell_type": "code",
   "execution_count": null,
   "metadata": {
    "slideshow": {
     "slide_type": "-"
    }
   },
   "outputs": [],
   "source": [
    "url = \"https://www.imdb.com/search/title/?title_type=feature&release_date=2019-01-01,2019-12-31&user_rating=1.0,10.0&sort=release_date,desc&count=250\"\n",
    "response = get(url)\n",
    "print(response.status_code)"
   ]
  },
  {
   "cell_type": "code",
   "execution_count": null,
   "metadata": {
    "scrolled": true,
    "slideshow": {
     "slide_type": "subslide"
    }
   },
   "outputs": [],
   "source": [
    "soup = BeautifulSoup(response.text, 'html.parser')\n",
    "print(soup.prettify())"
   ]
  },
  {
   "cell_type": "markdown",
   "metadata": {
    "slideshow": {
     "slide_type": "subslide"
    }
   },
   "source": [
    "### Find the movie containers"
   ]
  },
  {
   "cell_type": "code",
   "execution_count": null,
   "metadata": {
    "slideshow": {
     "slide_type": "-"
    }
   },
   "outputs": [],
   "source": [
    "movie_containers_lst = soup.find_all('div', class_ = 'lister-item mode-advanced')\n",
    "print(len(movie_containers_lst))"
   ]
  },
  {
   "cell_type": "markdown",
   "metadata": {
    "slideshow": {
     "slide_type": "subslide"
    }
   },
   "source": [
    "### Scrape the first movie container"
   ]
  },
  {
   "cell_type": "code",
   "execution_count": null,
   "metadata": {
    "scrolled": true,
    "slideshow": {
     "slide_type": "-"
    }
   },
   "outputs": [],
   "source": [
    "first_movie = movie_containers_lst[0].find(class_='lister-item-content')\n",
    "print(first_movie.prettify())"
   ]
  },
  {
   "cell_type": "markdown",
   "metadata": {
    "slideshow": {
     "slide_type": "subslide"
    }
   },
   "source": [
    "#### The html for a single movie container is very long. We will use developer tools to help find the data we want."
   ]
  },
  {
   "cell_type": "code",
   "execution_count": null,
   "metadata": {
    "slideshow": {
     "slide_type": "-"
    }
   },
   "outputs": [],
   "source": [
    "title_str = first_movie.h3.a.get_text()\n",
    "print(title_str)"
   ]
  },
  {
   "cell_type": "code",
   "execution_count": null,
   "metadata": {
    "slideshow": {
     "slide_type": "subslide"
    }
   },
   "outputs": [],
   "source": [
    "year_str = first_movie.h3.find('span', class_ = 'lister-item-year text-muted unbold').get_text()\n",
    "print(year_str)"
   ]
  },
  {
   "cell_type": "code",
   "execution_count": null,
   "metadata": {
    "slideshow": {
     "slide_type": "subslide"
    }
   },
   "outputs": [],
   "source": [
    "genre_str = first_movie.p.find('span', class_ = 'genre').get_text()\n",
    "runtime_str = first_movie.p.find('span', class_ = 'runtime').get_text()\n",
    "print(genre_str)\n",
    "print(runtime_str)"
   ]
  },
  {
   "cell_type": "code",
   "execution_count": null,
   "metadata": {
    "slideshow": {
     "slide_type": "subslide"
    }
   },
   "outputs": [],
   "source": [
    "rating_flt = float(first_movie.select('.ratings-bar div strong')[0].get_text())\n",
    "print(rating_flt)"
   ]
  },
  {
   "cell_type": "code",
   "execution_count": null,
   "metadata": {
    "slideshow": {
     "slide_type": "subslide"
    }
   },
   "outputs": [],
   "source": [
    "synopsis_str = first_movie.find_all('p', class_ = 'text-muted')[1].get_text()\n",
    "print(synopsis_str)"
   ]
  },
  {
   "cell_type": "code",
   "execution_count": null,
   "metadata": {
    "slideshow": {
     "slide_type": "subslide"
    }
   },
   "outputs": [],
   "source": [
    "director_str = first_movie.find_all('p')[2].a.get_text()\n",
    "print(director_str)"
   ]
  },
  {
   "cell_type": "markdown",
   "metadata": {
    "slideshow": {
     "slide_type": "subslide"
    }
   },
   "source": [
    "#### Can search for a tag with special attributes like `<span name='nv'>`"
   ]
  },
  {
   "cell_type": "code",
   "execution_count": null,
   "metadata": {
    "slideshow": {
     "slide_type": "-"
    }
   },
   "outputs": [],
   "source": [
    "votes_tag = first_movie.find('span', attrs = {'name':'nv'})\n",
    "print(votes_tag)"
   ]
  },
  {
   "cell_type": "markdown",
   "metadata": {
    "slideshow": {
     "slide_type": "subslide"
    }
   },
   "source": [
    "#### Can treat tags like dictionaries, where key value pairs are attributes"
   ]
  },
  {
   "cell_type": "code",
   "execution_count": null,
   "metadata": {
    "slideshow": {
     "slide_type": "-"
    }
   },
   "outputs": [],
   "source": [
    "votes_int = int(votes_tag['data-value'])\n",
    "print(votes_int)"
   ]
  },
  {
   "cell_type": "markdown",
   "metadata": {
    "slideshow": {
     "slide_type": "slide"
    }
   },
   "source": [
    "- <font color='LIGHTGRAY'> Scraping IMDB for movies that came out in 2019 </font>\n",
    "- <font color='LIGHTGRAY'> Scraping a single movie </font>\n",
    "- Scraping all movies from a single page\n",
    "- <font color='LIGHTGRAY'> Scraping all movies from all pages </font>"
   ]
  },
  {
   "cell_type": "markdown",
   "metadata": {
    "slideshow": {
     "slide_type": "subslide"
    }
   },
   "source": [
    "## Next, we will scrape all movie containers from the page"
   ]
  },
  {
   "cell_type": "code",
   "execution_count": null,
   "metadata": {
    "slideshow": {
     "slide_type": "subslide"
    }
   },
   "outputs": [],
   "source": [
    "# Lists to store the scraped data in\n",
    "titles_lst = []\n",
    "years_lst = []\n",
    "genres_lst = []\n",
    "runtimes_lst = []\n",
    "ratings_lst = []\n",
    "synopsi_lst = []\n",
    "directors_lst = []\n",
    "votes_lst = []\n",
    "# Extract data from individual movie container\n",
    "for container in movie_containers_lst:\n",
    "    # movie title\n",
    "    title_str = container.h3.a.get_text()\n",
    "    titles_lst.append(title_str)\n",
    "    # year\n",
    "    year_str = container.h3.find('span', class_ = 'lister-item-year text-muted unbold').get_text()\n",
    "    years_lst.append(year_str)\n",
    "    # genre(s)\n",
    "    genre_str = container.p.find('span', class_ = 'genre').get_text()\n",
    "    genres_lst.append(genre_str)\n",
    "    # runtime\n",
    "    runtime_str = container.p.find('span', class_ = 'runtime').get_text()\n",
    "    runtimes_lst.append(runtime_str)\n",
    "    # IMDB rating\n",
    "    rating_flt = container.select('.ratings-bar div strong')[0].get_text()\n",
    "    ratings_lst.append(rating_flt)\n",
    "    # synopsis\n",
    "    synopsis_str = container.find_all('p', class_ = 'text-muted')[1].get_text()\n",
    "    synopsi_lst.append(synopsis_str)\n",
    "    # director(s)\n",
    "    director_str = container.find_all('p', class_ = '')[1].a.get_text()\n",
    "    directors_lst.append(director_str)\n",
    "    # vote count\n",
    "    votes_tag = container.find('span', attrs = {'name':'nv'})\n",
    "    vote_int = int(votes_tag['data-value'])\n",
    "    votes_lst.append(vote_int)"
   ]
  },
  {
   "cell_type": "markdown",
   "metadata": {
    "slideshow": {
     "slide_type": "subslide"
    }
   },
   "source": [
    "#### There are often exceptions to the rule in the web page - we need to debug to account for these cases."
   ]
  },
  {
   "cell_type": "code",
   "execution_count": null,
   "metadata": {
    "slideshow": {
     "slide_type": "subslide"
    }
   },
   "outputs": [],
   "source": [
    "# Lists to store the scraped data in\n",
    "titles_lst = []\n",
    "years_lst = []\n",
    "genres_lst = []\n",
    "runtimes_lst = []\n",
    "ratings_lst = []\n",
    "synopsi_lst = []\n",
    "directors_lst = []\n",
    "votes_lst = []\n",
    "# Extract data from individual movie container\n",
    "for container in movie_containers_lst:\n",
    "    # movie title\n",
    "    title_str = container.h3.a.get_text()\n",
    "    titles_lst.append(title_str)\n",
    "    print(title_str)\n",
    "    # year\n",
    "    year_str = container.h3.find('span', class_ = 'lister-item-year text-muted unbold').get_text()\n",
    "    years_lst.append(year_str)\n",
    "    # genre(s)\n",
    "    genre_str = container.p.find('span', class_ = 'genre').get_text()\n",
    "    genres_lst.append(genre_str)\n",
    "    # runtime\n",
    "    runtime_str = container.p.find('span', class_ = 'runtime').get_text()\n",
    "    runtimes_lst.append(runtime_str)\n",
    "    # IMDB rating\n",
    "    rating_flt = container.select('.ratings-bar div strong')[0].get_text()\n",
    "    ratings_lst.append(rating_flt)\n",
    "    # synopsis\n",
    "    synopsis_str = container.find_all('p', class_ = 'text-muted')[1].get_text()\n",
    "    synopsi_lst.append(synopsis_str)\n",
    "    # director(s)\n",
    "    director_str = container.find_all('p', class_ = '')[1].a.get_text()\n",
    "    directors_lst.append(director_str)\n",
    "    # vote count\n",
    "    votes_tag = container.find('span', attrs = {'name':'nv'})\n",
    "    vote_int = int(votes_tag['data-value'])\n",
    "    votes_lst.append(vote_int)"
   ]
  },
  {
   "cell_type": "markdown",
   "metadata": {
    "slideshow": {
     "slide_type": "subslide"
    }
   },
   "source": [
    "### The problem is that not all movies have a listed runtime. "
   ]
  },
  {
   "cell_type": "code",
   "execution_count": null,
   "metadata": {
    "scrolled": true,
    "slideshow": {
     "slide_type": "subslide"
    }
   },
   "outputs": [],
   "source": [
    "# Lists to store the scraped data in\n",
    "titles_lst = []\n",
    "years_lst = []\n",
    "genres_lst = []\n",
    "runtimes_lst = []\n",
    "ratings_lst = []\n",
    "synopsi_lst = []\n",
    "directors_lst = []\n",
    "votes_lst = []\n",
    "# Extract data from individual movie container\n",
    "for container in movie_containers_lst:\n",
    "    # movie title\n",
    "    title_str = container.h3.a.get_text()\n",
    "    titles_lst.append(title_str)\n",
    "    print(title_str)\n",
    "    # year\n",
    "    year_str = container.h3.find('span', class_ = 'lister-item-year text-muted unbold').get_text()\n",
    "    years_lst.append(year_str)\n",
    "    # genre(s)\n",
    "    genre_str = container.p.find('span', class_ = 'genre').get_text()\n",
    "    genres_lst.append(genre_str)\n",
    "    # runtime\n",
    "    if container.p.find('span', class_ = 'runtime') is not None:\n",
    "        runtime_str = container.p.find('span', class_ = 'runtime').get_text()\n",
    "    else:\n",
    "        runtime_str = ''\n",
    "    runtimes_lst.append(runtime_str)\n",
    "    # IMDB rating\n",
    "    rating_flt = container.select('.ratings-bar div strong')[0].get_text()\n",
    "    ratings_lst.append(rating_flt)\n",
    "    # synopsis\n",
    "    synopsis_str = container.find_all('p', class_ = 'text-muted')[1].get_text()\n",
    "    synopsi_lst.append(synopsis_str)\n",
    "    # director(s)\n",
    "    director_str = container.find_all('p', class_ = '')[1].a.get_text()\n",
    "    directors_lst.append(director_str)\n",
    "    # vote count\n",
    "    votes_tag = container.find('span', attrs = {'name':'nv'})\n",
    "    vote_int = int(votes_tag['data-value'])\n",
    "    votes_lst.append(vote_int)\n",
    "    print(votes_int)"
   ]
  },
  {
   "cell_type": "code",
   "execution_count": null,
   "metadata": {
    "slideshow": {
     "slide_type": "subslide"
    }
   },
   "outputs": [],
   "source": [
    "# Lists to store the scraped data in\n",
    "titles_lst = []\n",
    "years_lst = []\n",
    "genres_lst = []\n",
    "runtimes_lst = []\n",
    "ratings_lst = []\n",
    "synopsi_lst = []\n",
    "directors_lst = []\n",
    "votes_lst = []\n",
    "# Extract data from individual movie container\n",
    "for container in movie_containers_lst:\n",
    "    # movie title\n",
    "    title_str = container.h3.a.get_text()\n",
    "    titles_lst.append(title_str)\n",
    "    print(title_str)\n",
    "    # year\n",
    "    year_str = container.h3.find('span', class_ = 'lister-item-year text-muted unbold').get_text()\n",
    "    years_lst.append(year_str)\n",
    "    # genre(s)\n",
    "    if container.p.find('span', class_ = 'genre') is not None:\n",
    "        genre_str = container.p.find('span', class_ = 'genre').get_text()\n",
    "    else:\n",
    "        genre_str = ''\n",
    "    genres_lst.append(genre_str)\n",
    "    # runtime\n",
    "    if container.p.find('span', class_ = 'runtime') is not None:\n",
    "        runtime_str = container.p.find('span', class_ = 'runtime').get_text()\n",
    "    else:\n",
    "        runtime_str = ''\n",
    "    runtimes_lst.append(runtime_str)\n",
    "    # IMDB rating\n",
    "    rating_flt = container.select('.ratings-bar div strong')[0].get_text()\n",
    "    ratings_lst.append(rating_flt)\n",
    "    # synopsis\n",
    "    synopsis_str = container.find_all('p', class_ = 'text-muted')[1].get_text()\n",
    "    synopsi_lst.append(synopsis_str)\n",
    "    # director(s)\n",
    "    director_str = container.find_all('p', class_ = '')[1].a.get_text()\n",
    "    directors_lst.append(director_str)\n",
    "    # vote count\n",
    "    votes_tag = container.find('span', attrs = {'name':'nv'})\n",
    "    vote_int = int(votes_tag['data-value'])\n",
    "    votes_lst.append(vote_int)"
   ]
  },
  {
   "cell_type": "code",
   "execution_count": null,
   "metadata": {
    "slideshow": {
     "slide_type": "subslide"
    }
   },
   "outputs": [],
   "source": [
    "# Lists to store the scraped data in\n",
    "titles_lst = []\n",
    "years_lst = []\n",
    "genres_lst = []\n",
    "runtimes_lst = []\n",
    "ratings_lst = []\n",
    "synopsi_lst = []\n",
    "directors_lst = []\n",
    "votes_lst = []\n",
    "# Extract data from individual movie container\n",
    "for container in movie_containers_lst:\n",
    "    # movie title\n",
    "    title_str = container.h3.a.get_text()\n",
    "    titles_lst.append(title_str)\n",
    "    print(title_str)\n",
    "    # year\n",
    "    year_str = container.h3.find('span', class_ = 'lister-item-year text-muted unbold').get_text()\n",
    "    years_lst.append(year_str)\n",
    "    # genre(s)\n",
    "    if container.p.find('span', class_ = 'genre') is not None:\n",
    "        genre_str = container.p.find('span', class_ = 'genre').get_text()\n",
    "    else:\n",
    "        genre_str = ''\n",
    "    genres_lst.append(genre_str)\n",
    "    # runtime\n",
    "    if container.p.find('span', class_ = 'runtime') is not None:\n",
    "        runtime_str = container.p.find('span', class_ = 'runtime').get_text()\n",
    "    else:\n",
    "        runtime_str = ''\n",
    "    runtimes_lst.append(runtime_str)\n",
    "    # IMDB rating\n",
    "    rating_flt = container.select('.ratings-bar div strong')[0].get_text()\n",
    "    ratings_lst.append(rating_flt)\n",
    "    # synopsis\n",
    "    synopsis_str = container.find_all('p', class_ = 'text-muted')[1].get_text()\n",
    "    synopsi_lst.append(synopsis_str)\n",
    "    # director(s)\n",
    "    if container.find_all('p', class_ = '')[1].a is not None:\n",
    "        director_str = container.find_all('p', class_ = '')[1].a.get_text()\n",
    "    else:\n",
    "        director_str = ''\n",
    "    directors_lst.append(director_str)\n",
    "    # vote count\n",
    "    votes_tag = container.find('span', attrs = {'name':'nv'})\n",
    "    vote_int = int(votes_tag['data-value'])\n",
    "    votes_lst.append(vote_int)"
   ]
  },
  {
   "cell_type": "code",
   "execution_count": null,
   "metadata": {
    "slideshow": {
     "slide_type": "subslide"
    }
   },
   "outputs": [],
   "source": [
    "test_df = pd.DataFrame({'title': titles_lst,\n",
    "'year': years_lst,\n",
    "'genre': genres_lst,\n",
    "'runtime': runtimes_lst,\n",
    "'rating': ratings_lst,\n",
    "'synopsis': synopsi_lst,\n",
    "'director': directors_lst,\n",
    "'vote': votes_lst\n",
    "})\n",
    "print(test_df)"
   ]
  },
  {
   "cell_type": "markdown",
   "metadata": {
    "slideshow": {
     "slide_type": "subslide"
    }
   },
   "source": [
    "### Let's create a function that will scrape a page. It takes `movies_container_lst` as input and assumes that empty lists have been created outside of the function."
   ]
  },
  {
   "cell_type": "code",
   "execution_count": null,
   "metadata": {
    "slideshow": {
     "slide_type": "subslide"
    }
   },
   "outputs": [],
   "source": [
    "def scrape_page(lst):\n",
    "    # Extract data from individual movie container\n",
    "    for container in lst:\n",
    "        # movie title\n",
    "        title_str = container.h3.a.get_text()\n",
    "        titles_lst.append(title_str)\n",
    "        # year\n",
    "        year_str = container.h3.find('span', class_ = 'lister-item-year text-muted unbold').get_text()\n",
    "        years_lst.append(year_str)\n",
    "        # genre(s)\n",
    "        if container.p.find('span', class_ = 'genre') is not None:\n",
    "            genre_str = container.p.find('span', class_ = 'genre').get_text()\n",
    "        else:\n",
    "            genre_str = ''\n",
    "        genres_lst.append(genre_str)\n",
    "        # runtime\n",
    "        if container.p.find('span', class_ = 'runtime') is not None:\n",
    "            runtime_str = container.p.find('span', class_ = 'runtime').get_text()\n",
    "        else:\n",
    "            runtime_str = ''\n",
    "        runtimes_lst.append(runtime_str)\n",
    "        # IMDB rating\n",
    "        rating_flt = container.select('.ratings-bar div strong')[0].get_text()\n",
    "        ratings_lst.append(rating_flt)\n",
    "        # synopsis\n",
    "        synopsis_str = container.find_all('p', class_ = 'text-muted')[1].get_text()\n",
    "        synopsi_lst.append(synopsis_str)\n",
    "        # director(s)\n",
    "        if container.find_all('p', class_ = '')[1].a is not None:\n",
    "            director_str = container.find_all('p', class_ = '')[1].a.get_text()\n",
    "        else:\n",
    "            director_str = ''\n",
    "        directors_lst.append(director_str)\n",
    "        # vote count\n",
    "        votes_tag = container.find('span', attrs = {'name':'nv'})\n",
    "        vote_int = int(votes_tag['data-value'])\n",
    "        votes_lst.append(vote_int)\n",
    "    return"
   ]
  },
  {
   "cell_type": "code",
   "execution_count": null,
   "metadata": {
    "slideshow": {
     "slide_type": "subslide"
    }
   },
   "outputs": [],
   "source": [
    "# Lists to store the scraped data in\n",
    "titles_lst = []\n",
    "years_lst = []\n",
    "genres_lst = []\n",
    "runtimes_lst = []\n",
    "ratings_lst = []\n",
    "synopsi_lst = []\n",
    "directors_lst = []\n",
    "votes_lst = []\n",
    "\n",
    "scrape_page(movie_containers_lst)\n",
    "\n",
    "test_df = pd.DataFrame({'title': titles_lst,\n",
    "'year': years_lst,\n",
    "'genre': genres_lst,\n",
    "'runtime': runtimes_lst,\n",
    "'rating': ratings_lst,\n",
    "'synopsis': synopsi_lst,\n",
    "'director': directors_lst,\n",
    "'vote': votes_lst\n",
    "})\n",
    "print(test_df.shape)"
   ]
  },
  {
   "cell_type": "markdown",
   "metadata": {
    "slideshow": {
     "slide_type": "slide"
    }
   },
   "source": [
    "- <font color='LIGHTGRAY'> Scraping IMDB for movies that came out in 2019 </font>\n",
    "- <font color='LIGHTGRAY'> Scraping a single movie </font>\n",
    "- <font color='LIGHTGRAY'> Scraping all movies from a single page </font>\n",
    "- Scraping all movies from all pages"
   ]
  },
  {
   "cell_type": "markdown",
   "metadata": {
    "slideshow": {
     "slide_type": "subslide"
    }
   },
   "source": [
    "## Scrape multiple pages"
   ]
  },
  {
   "cell_type": "markdown",
   "metadata": {
    "slideshow": {
     "slide_type": "-"
    }
   },
   "source": [
    "* Make all the requests we want from within the loop.\n",
    "* Control the loop’s rate to avoid bombarding the server with requests.\n",
    "* Monitor the loop while it runs."
   ]
  },
  {
   "cell_type": "markdown",
   "metadata": {
    "slideshow": {
     "slide_type": "subslide"
    }
   },
   "source": [
    "## Make all requests we want from within the loop"
   ]
  },
  {
   "cell_type": "markdown",
   "metadata": {
    "slideshow": {
     "slide_type": "-"
    }
   },
   "source": [
    "The next page has the following URL: https://www.imdb.com/search/title/?title_type=feature&release_date=2019-01-01,2019-12-31&user_rating=1.0,10.0&sort=release_date,desc&count=250&start=251&ref_=adv_nxt\n",
    "\n",
    "`&start=251` refers to starting at movie 251. Incrementing this query parameter will allow us to navigate to all pages of the search."
   ]
  },
  {
   "cell_type": "code",
   "execution_count": null,
   "metadata": {
    "slideshow": {
     "slide_type": "-"
    }
   },
   "outputs": [],
   "source": [
    "movie_indices = [str(i) for i in range(1,5972,250)]\n",
    "print(movie_indices)"
   ]
  },
  {
   "cell_type": "code",
   "execution_count": null,
   "metadata": {
    "slideshow": {
     "slide_type": "subslide"
    }
   },
   "outputs": [],
   "source": [
    "base_url = 'https://www.imdb.com/search/title/?title_type=feature&release_date=2019-01-01,2019-12-31&user_rating=1.0,10.0&sort=release_date,desc&count=250'\n",
    "for movie_index in movie_indices:\n",
    "    print(base_url + '&start=' + movie_index + '&ref_=adv_nxt')"
   ]
  },
  {
   "cell_type": "markdown",
   "metadata": {
    "slideshow": {
     "slide_type": "subslide"
    }
   },
   "source": [
    "## Controlling the crawl rate\n",
    "\n",
    "Controlling the rate of crawling is beneficial for us, and for the website we are scraping. If we avoid hammering the server with tens of requests per second, then we are much less likely to get our IP address banned. We also avoid disrupting the activity of the website we scrape by allowing the server to respond to other users’ requests too.\n",
    "\n",
    "We’ll control the loop’s rate by using the `sleep()` function from Python’s `time` module. `sleep()` will pause the execution of the loop for a specified amount of seconds."
   ]
  },
  {
   "cell_type": "code",
   "execution_count": null,
   "metadata": {
    "slideshow": {
     "slide_type": "-"
    }
   },
   "outputs": [],
   "source": [
    "for i in range(0,5):\n",
    "    delay = 2\n",
    "    print(delay)\n",
    "    time.sleep(delay)"
   ]
  },
  {
   "cell_type": "markdown",
   "metadata": {
    "slideshow": {
     "slide_type": "subslide"
    }
   },
   "source": [
    "## Monitoring the scraping loop\n",
    "* The frequency (speed) of requests, so we make sure our program is not overloading the server.\n",
    "* The status code of our requests, so we make sure the server is sending back the proper responses."
   ]
  },
  {
   "cell_type": "code",
   "execution_count": null,
   "metadata": {
    "slideshow": {
     "slide_type": "-"
    }
   },
   "outputs": [],
   "source": [
    "# Set a starting time using the time() function from the time module, and assign the value to start_time.\n",
    "start_time = time.time()\n",
    "\n",
    "# Assign 0 to the variable requests which we’ll use to count the number of requests.\n",
    "requests = 0\n",
    "\n",
    "# Start a loop, and then with each iteration:\n",
    "for i in range(5):\n",
    "    # Simulate a request.\n",
    "    # <<<A request would go here>>>\n",
    "    # Increment the number of requests by 1.\n",
    "    requests = requests + 1\n",
    "    # Pause the loop for 1 second\n",
    "    time.sleep(1)\n",
    "    # Calculate the elapsed time since the first request, and assign the value to elapsed_time.\n",
    "    elapsed_time = time.time() - start_time\n",
    "    # Print the number of requests and the frequency.\n",
    "    print('Request: ' + str(requests) + ' ' + 'Frequency: ' + str(requests/elapsed_time) + ' requests/sec')\n",
    "    # clears the output of print, and waits until there is a new output\n",
    "    clear_output(wait = True)"
   ]
  },
  {
   "cell_type": "markdown",
   "metadata": {
    "slideshow": {
     "slide_type": "subslide"
    }
   },
   "source": [
    "### Import the warn function to throw a warning if there is a non-200 response. Warn rather than throw an error because we will still scrape enough even if there are some hiccups"
   ]
  },
  {
   "cell_type": "code",
   "execution_count": null,
   "metadata": {
    "slideshow": {
     "slide_type": "-"
    }
   },
   "outputs": [],
   "source": [
    "warnings.warn(\"Warning Simulation !!!\")"
   ]
  },
  {
   "cell_type": "markdown",
   "metadata": {
    "slideshow": {
     "slide_type": "subslide"
    }
   },
   "source": [
    "## Full scraping snippet"
   ]
  },
  {
   "cell_type": "code",
   "execution_count": null,
   "metadata": {
    "slideshow": {
     "slide_type": "-"
    }
   },
   "outputs": [],
   "source": [
    "# Redeclaring the lists to store data in\n",
    "titles_lst = []\n",
    "years_lst = []\n",
    "genres_lst = []\n",
    "runtimes_lst = []\n",
    "ratings_lst = []\n",
    "synopsi_lst = []\n",
    "directors_lst = []\n",
    "votes_lst = []\n",
    "\n",
    "# Preparing the monitoring of the loop\n",
    "start_time = time.time()\n",
    "requests = 0\n",
    "movie_indices = [str(i) for i in range(1, 5972, 250)]\n",
    "\n",
    "# For every page in the interval 1-4\n",
    "for movie_index in movie_indices:\n",
    "\n",
    "    # Make a get request\n",
    "    base_url = 'https://www.imdb.com/search/title/?title_type=feature&release_date=2019-01-01,2019-12-31&user_rating=1.0,10.0&sort=release_date,desc&count=250'\n",
    "    url = base_url + '&start=' + movie_index + '&ref_=adv_nxt'\n",
    "    response = get(url)\n",
    "\n",
    "    # Pause the loop\n",
    "    time.sleep(1)\n",
    "\n",
    "    # Monitor the requests\n",
    "    requests = requests + 1\n",
    "    elapsed_time = time.time() - start_time\n",
    "    print('Request: ' + str(requests) + ' ' + 'Frequency: ' + str(requests/elapsed_time) + ' requests/sec')\n",
    "    clear_output(wait = True)\n",
    "\n",
    "    # Throw a warning for non-200 status codes\n",
    "    if response.status_code != 200:\n",
    "        warnings.warn('Request: ' + str(requests) + '; Status code: ' + str(response.status_code))\n",
    "\n",
    "    # Parse the content of the request with BeautifulSoup\n",
    "    soup = BeautifulSoup(response.text, 'html.parser')\n",
    "\n",
    "    # Select all the 250 movie containers from a single page and scrape\n",
    "    movie_containers_lst = soup.find_all('div', class_ = 'lister-item mode-advanced')\n",
    "    scrape_page(movie_containers_lst)"
   ]
  },
  {
   "cell_type": "code",
   "execution_count": null,
   "metadata": {
    "scrolled": true,
    "slideshow": {
     "slide_type": "subslide"
    }
   },
   "outputs": [],
   "source": [
    "movies_df = pd.DataFrame({'title': titles_lst,\n",
    "'year': years_lst,\n",
    "'genre': genres_lst,\n",
    "'runtime': runtimes_lst,\n",
    "'rating': ratings_lst,\n",
    "'synopsis': synopsi_lst,\n",
    "'director': directors_lst,\n",
    "'vote': votes_lst\n",
    "})\n",
    "print(movies_df)"
   ]
  },
  {
   "cell_type": "code",
   "execution_count": null,
   "metadata": {
    "slideshow": {
     "slide_type": "-"
    }
   },
   "outputs": [],
   "source": [
    "movies_df.to_csv('data/imdb.csv', index=False)"
   ]
  },
  {
   "cell_type": "code",
   "execution_count": null,
   "metadata": {},
   "outputs": [],
   "source": []
  }
 ],
 "metadata": {
  "celltoolbar": "Slideshow",
  "kernelspec": {
   "display_name": "Python 3",
   "language": "python",
   "name": "python3"
  },
  "language_info": {
   "codemirror_mode": {
    "name": "ipython",
    "version": 3
   },
   "file_extension": ".py",
   "mimetype": "text/x-python",
   "name": "python",
   "nbconvert_exporter": "python",
   "pygments_lexer": "ipython3",
   "version": "3.7.3"
  }
 },
 "nbformat": 4,
 "nbformat_minor": 2
}
