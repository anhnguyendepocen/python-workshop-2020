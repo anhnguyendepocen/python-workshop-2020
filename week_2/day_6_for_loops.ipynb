{
 "cells": [
  {
   "cell_type": "markdown",
   "metadata": {
    "slideshow": {
     "slide_type": "slide"
    }
   },
   "source": [
    "# <center> Please go to https://ccv.jupyter.brown.edu </center>"
   ]
  },
  {
   "cell_type": "markdown",
   "metadata": {
    "slideshow": {
     "slide_type": "slide"
    }
   },
   "source": [
    "# <center> What we learned so far...</center>\n",
    "- What are if statements useful for\n",
    "- How to write simple and multiple condition if statements"
   ]
  },
  {
   "cell_type": "markdown",
   "metadata": {
    "slideshow": {
     "slide_type": "slide"
    }
   },
   "source": [
    "# <center> `for` loops </center>\n",
    "## By the end of the day you will be able to\n",
    "- write for loops to iterate over containers\n",
    "- write for loops to iterate a given number of times\n",
    "- updating containers in a for loop\n",
    "- write a list comprehension\n",
    "- write a dictionary comprehension"
   ]
  },
  {
   "cell_type": "markdown",
   "metadata": {
    "slideshow": {
     "slide_type": "slide"
    }
   },
   "source": [
    "- write for loops to iterate over containers\n",
    "- <font color='LIGHTGRAY'> write for loops to iterate a given number of times </font>\n",
    "- <font color='LIGHTGRAY'> updating containers in a for loop </font>\n",
    "- <font color='LIGHTGRAY'> write a list comprehension </font>\n",
    "- <font color='LIGHTGRAY'> write a dictionary comprehension </font>"
   ]
  },
  {
   "cell_type": "markdown",
   "metadata": {
    "slideshow": {
     "slide_type": "subslide"
    }
   },
   "source": [
    "## <center>For loop</center>\n",
    "```sequence_list = [item 1, item 2, item 3, item 4, item 5]\n",
    "for item in sequence_list:\n",
    "    do something with item\n",
    "    (do another thing with item)```"
   ]
  },
  {
   "cell_type": "code",
   "execution_count": null,
   "metadata": {
    "slideshow": {
     "slide_type": "-"
    }
   },
   "outputs": [],
   "source": [
    "num_list = [1,2,3,4,5]\n",
    "\n",
    "for item in num_list:\n",
    "    print(item)"
   ]
  },
  {
   "cell_type": "code",
   "execution_count": null,
   "metadata": {
    "slideshow": {
     "slide_type": "subslide"
    }
   },
   "outputs": [],
   "source": [
    "for item in num_list:\n",
    "    print(item)\n",
    "    print(item * 10)"
   ]
  },
  {
   "cell_type": "code",
   "execution_count": null,
   "metadata": {
    "slideshow": {
     "slide_type": "subslide"
    }
   },
   "outputs": [],
   "source": [
    "letters_list = ['a','s','h','l','e','y']\n",
    "for item in letters_list:\n",
    "    print(item)\n",
    "    new_item = item + 'Z'\n",
    "    print(new_item)"
   ]
  },
  {
   "cell_type": "markdown",
   "metadata": {
    "slideshow": {
     "slide_type": "subslide"
    }
   },
   "source": [
    "## Exercise\n",
    "iterate through the items in `my_numbers_list`, add 100 to each item, and print each item. `my_numbers_list = [10,20,30,40,50]`\n",
    "\n",
    "Use the format:\n",
    "```\n",
    "for item in ...\n",
    "```"
   ]
  },
  {
   "cell_type": "code",
   "execution_count": null,
   "metadata": {
    "slideshow": {
     "slide_type": "-"
    }
   },
   "outputs": [],
   "source": [
    "from gofer.ok import check\n",
    "# write your code after this line\n",
    "\n",
    "my_numbers_list = [10,20,30,40,50]\n",
    "for item in\n",
    "    \n",
    "# write your code before this line\n",
    "check('tests/lec6_p1.py')"
   ]
  },
  {
   "cell_type": "markdown",
   "metadata": {
    "slideshow": {
     "slide_type": "subslide"
    }
   },
   "source": [
    "## Iterating over strings"
   ]
  },
  {
   "cell_type": "code",
   "execution_count": null,
   "metadata": {
    "slideshow": {
     "slide_type": "-"
    }
   },
   "outputs": [],
   "source": [
    "# iterate over characters in a string\n",
    "my_str = 'ashley s. lee'\n",
    "\n",
    "for char in my_str:\n",
    "    print(char)"
   ]
  },
  {
   "cell_type": "code",
   "execution_count": null,
   "metadata": {
    "slideshow": {
     "slide_type": "subslide"
    }
   },
   "outputs": [],
   "source": [
    "# iterate over words in a string (split by space)\n",
    "for word in my_str.split():\n",
    "    print(word)"
   ]
  },
  {
   "cell_type": "markdown",
   "metadata": {
    "slideshow": {
     "slide_type": "subslide"
    }
   },
   "source": [
    "## Exercise: `this_str = 'I am a dog.'`\n",
    "\n",
    "#### Iterate over the characters in `this_str` and print the characters. \n",
    "Use the format:\n",
    "```\n",
    "for char in ...\n",
    "```\n",
    "\n",
    "#### Then, iterate over the words and print.\n",
    "Use the format:\n",
    "```\n",
    "for word in ...\n",
    "```"
   ]
  },
  {
   "cell_type": "code",
   "execution_count": null,
   "metadata": {
    "slideshow": {
     "slide_type": "subslide"
    }
   },
   "outputs": [],
   "source": [
    "this_str = 'I am a dog.'\n",
    "\n",
    "for char in\n",
    "\n",
    "    \n",
    "for word in\n",
    "\n",
    "    \n",
    "# write your code before this line\n",
    "check('tests/lec6_p2.py')"
   ]
  },
  {
   "cell_type": "markdown",
   "metadata": {
    "slideshow": {
     "slide_type": "subslide"
    }
   },
   "source": [
    "## For loops that iterate over dictionaries"
   ]
  },
  {
   "cell_type": "code",
   "execution_count": null,
   "metadata": {
    "slideshow": {
     "slide_type": "-"
    }
   },
   "outputs": [],
   "source": [
    "birth_year_dict = dict(Ashley=1990, Rihanna=1992, Emily=1986)\n",
    "print(birth_year_dict)"
   ]
  },
  {
   "cell_type": "code",
   "execution_count": null,
   "metadata": {
    "slideshow": {
     "slide_type": "-"
    }
   },
   "outputs": [],
   "source": [
    "for key in birth_year_dict.keys():\n",
    "    print(key)"
   ]
  },
  {
   "cell_type": "code",
   "execution_count": null,
   "metadata": {
    "slideshow": {
     "slide_type": "subslide"
    }
   },
   "outputs": [],
   "source": [
    "for value in birth_year_dict.values():\n",
    "    print(value)"
   ]
  },
  {
   "cell_type": "code",
   "execution_count": null,
   "metadata": {
    "slideshow": {
     "slide_type": "-"
    }
   },
   "outputs": [],
   "source": [
    "for key, value in birth_year_dict.items():\n",
    "    print(key, value)"
   ]
  },
  {
   "cell_type": "code",
   "execution_count": null,
   "metadata": {
    "slideshow": {
     "slide_type": "subslide"
    }
   },
   "outputs": [],
   "source": [
    "for k, v in birth_year_dict.items():\n",
    "    birth_year_dict[k] = v + 1\n",
    "    \n",
    "print(birth_year_dict)\n",
    "# keys cannot be updated in this way"
   ]
  },
  {
   "cell_type": "markdown",
   "metadata": {
    "slideshow": {
     "slide_type": "subslide"
    }
   },
   "source": [
    "## Exercise: Iterate over `cities_dict`, printing keys and values\n",
    "```\n",
    "cities_dict = {'BOS': 'Boston',\n",
    "          'NYC': 'New York City',\n",
    "          'LAX': 'Los Angeles'}\n",
    "```\n",
    "          \n",
    "\n",
    "Use the format:\n",
    "```\n",
    "for key, value in ...\n",
    "```"
   ]
  },
  {
   "cell_type": "code",
   "execution_count": null,
   "metadata": {
    "slideshow": {
     "slide_type": "-"
    }
   },
   "outputs": [],
   "source": [
    "cities_dict = {'BOS': 'Boston',\n",
    "          'NYC': 'New York City',\n",
    "          'LAX': 'Los Angeles'}\n",
    "\n",
    "for key, value in\n",
    "\n",
    "# write your code before this line\n",
    "check('tests/lec6_p6.py')"
   ]
  },
  {
   "cell_type": "markdown",
   "metadata": {
    "slideshow": {
     "slide_type": "slide"
    }
   },
   "source": [
    "- <font color='LIGHTGRAY'> write for loops to iterate over containers </font>\n",
    "- write for loops to iterate a given number of times\n",
    "- <font color='LIGHTGRAY'> updating containers in a for loop </font>\n",
    "- <font color='LIGHTGRAY'> write a list comprehension </font>\n",
    "- <font color='LIGHTGRAY'> write a dictionary comprehension </font>"
   ]
  },
  {
   "cell_type": "markdown",
   "metadata": {
    "slideshow": {
     "slide_type": "subslide"
    }
   },
   "source": [
    "## Iterating for a given number of times"
   ]
  },
  {
   "cell_type": "code",
   "execution_count": null,
   "metadata": {
    "slideshow": {
     "slide_type": "-"
    }
   },
   "outputs": [],
   "source": [
    "for i in range(12):\n",
    "    print(i)"
   ]
  },
  {
   "cell_type": "code",
   "execution_count": null,
   "metadata": {
    "slideshow": {
     "slide_type": "subslide"
    }
   },
   "outputs": [],
   "source": [
    "for i in range(len(my_str)):\n",
    "    print(i, my_str[i])"
   ]
  },
  {
   "cell_type": "markdown",
   "metadata": {
    "slideshow": {
     "slide_type": "slide"
    }
   },
   "source": [
    "- <font color='LIGHTGRAY'> write for loops to iterate over containers </font>\n",
    "- <font color='LIGHTGRAY'> write for loops to iterate a given number of times </font>\n",
    "- updating containers in a for loop\n",
    "- <font color='LIGHTGRAY'> write a list comprehension </font>\n",
    "- <font color='LIGHTGRAY'> write a dictionary comprehension </font>"
   ]
  },
  {
   "cell_type": "markdown",
   "metadata": {
    "slideshow": {
     "slide_type": "subslide"
    }
   },
   "source": [
    "## Updating list elements by index"
   ]
  },
  {
   "cell_type": "code",
   "execution_count": null,
   "metadata": {
    "slideshow": {
     "slide_type": "-"
    }
   },
   "outputs": [],
   "source": [
    "\n",
    "prime_list = [1,3,5,7,11]\n",
    "for i in range(len(prime_list)):\n",
    "    prime_list[i] = prime_list[i] ** 2\n",
    "    \n",
    "print(prime_list)"
   ]
  },
  {
   "cell_type": "markdown",
   "metadata": {
    "slideshow": {
     "slide_type": "subslide"
    }
   },
   "source": [
    "## Exercise: Iterate over the length of `years_list`, update the values in `years_list` by adding 5 to each value, and print the index of each list item and the list item.\n",
    "\n",
    "years_list = [1990, 1956, 1959, 1988]\n",
    "\n",
    "\n",
    "Use the format:\n",
    "```\n",
    "for i in ...\n",
    "```"
   ]
  },
  {
   "cell_type": "code",
   "execution_count": null,
   "metadata": {
    "slideshow": {
     "slide_type": "-"
    }
   },
   "outputs": [],
   "source": [
    "years_list = [1990, 1959, 1956, 1988]\n",
    "\n",
    "for i in\n",
    "\n",
    "# write your code before this line\n",
    "check('tests/lec6_p3.py')"
   ]
  },
  {
   "cell_type": "markdown",
   "metadata": {
    "slideshow": {
     "slide_type": "subslide"
    }
   },
   "source": [
    "## Appending to a list in a loop"
   ]
  },
  {
   "cell_type": "code",
   "execution_count": null,
   "metadata": {
    "slideshow": {
     "slide_type": "-"
    }
   },
   "outputs": [],
   "source": [
    "coins_list = [0.01, 0.05, 0.1, 0.25]\n",
    "coins_list.append(1.0)\n",
    "print(coins_list)"
   ]
  },
  {
   "cell_type": "code",
   "execution_count": null,
   "metadata": {
    "slideshow": {
     "slide_type": "-"
    }
   },
   "outputs": [],
   "source": [
    "new_coins_list = []\n",
    "new_coins_list.append(1.0)\n",
    "print(new_coins_list)"
   ]
  },
  {
   "cell_type": "code",
   "execution_count": null,
   "metadata": {
    "slideshow": {
     "slide_type": "subslide"
    }
   },
   "outputs": [],
   "source": [
    "ints_list = [1,2,3,4]\n",
    "sq_list = []\n",
    "for item in ints_list:\n",
    "    sq_list.append(item**2)\n",
    "    \n",
    "print(sq_list)"
   ]
  },
  {
   "cell_type": "markdown",
   "metadata": {
    "slideshow": {
     "slide_type": "subslide"
    }
   },
   "source": [
    "## Exercise: Iterate over `int_list`, multiply the values by 10, and append the values to an empty list called `tens_list`. Then, print it. `int_list = [1,2,3,4,5,6,7,8,9,10]`\n",
    "\n",
    "Use the format:\n",
    "```\n",
    "for item in ...\n",
    "```"
   ]
  },
  {
   "cell_type": "code",
   "execution_count": null,
   "metadata": {
    "slideshow": {
     "slide_type": "-"
    }
   },
   "outputs": [],
   "source": [
    "int_list = [1,2,3,4,5,6,7,8,9,10]\n",
    "tens_list = []\n",
    "for item in\n",
    "\n",
    "# write your code before this line\n",
    "check('tests/lec6_p4.py')"
   ]
  },
  {
   "cell_type": "markdown",
   "metadata": {
    "slideshow": {
     "slide_type": "slide"
    }
   },
   "source": [
    "- <font color='LIGHTGRAY'> write for loops to iterate over containers </font>\n",
    "- <font color='LIGHTGRAY'> write for loops to iterate a given number of times </font>\n",
    "- <font color='LIGHTGRAY'> updating containers in a for loop </font>\n",
    "- write a list comprehension\n",
    "- <font color='LIGHTGRAY'> write a dictionary comprehension </font>"
   ]
  },
  {
   "cell_type": "markdown",
   "metadata": {
    "slideshow": {
     "slide_type": "subslide"
    }
   },
   "source": [
    "## List Comprehensions (another way to iterate over a list)\n",
    "`[do something to item for item in sequence]`"
   ]
  },
  {
   "cell_type": "code",
   "execution_count": null,
   "metadata": {
    "slideshow": {
     "slide_type": "-"
    }
   },
   "outputs": [],
   "source": [
    "print(num_list)\n",
    "print([item for item in num_list])"
   ]
  },
  {
   "cell_type": "code",
   "execution_count": null,
   "metadata": {
    "slideshow": {
     "slide_type": "-"
    }
   },
   "outputs": [],
   "source": [
    "print([number for number in num_list])"
   ]
  },
  {
   "cell_type": "code",
   "execution_count": null,
   "metadata": {
    "slideshow": {
     "slide_type": "-"
    }
   },
   "outputs": [],
   "source": [
    "print([item * 100 for item in num_list])"
   ]
  },
  {
   "cell_type": "code",
   "execution_count": null,
   "metadata": {
    "slideshow": {
     "slide_type": "subslide"
    }
   },
   "outputs": [],
   "source": [
    "this_str = 'hello world'\n",
    "print(this_str)"
   ]
  },
  {
   "cell_type": "code",
   "execution_count": null,
   "metadata": {
    "slideshow": {
     "slide_type": "-"
    }
   },
   "outputs": [],
   "source": [
    "chars_list = [char for char in this_str]\n",
    "print(chars_list)"
   ]
  },
  {
   "cell_type": "code",
   "execution_count": null,
   "metadata": {
    "slideshow": {
     "slide_type": "-"
    }
   },
   "outputs": [],
   "source": [
    "words_list = [word for word in this_str.split()]\n",
    "print(words_list)"
   ]
  },
  {
   "cell_type": "code",
   "execution_count": null,
   "metadata": {
    "slideshow": {
     "slide_type": "subslide"
    }
   },
   "outputs": [],
   "source": [
    "index_list = [[i, this_str[i]] for i in range(len(this_str))]\n",
    "print(index_list)"
   ]
  },
  {
   "cell_type": "markdown",
   "metadata": {
    "slideshow": {
     "slide_type": "subslide"
    }
   },
   "source": [
    "## Exercise: construct a list comprehension that multiplies each number in `exercise_list` by 2 and assign it to a container called `doubles_list`. Print it.\n",
    "\n",
    "`exercise_list = [10, 20, 30, 40, 50, 100]`"
   ]
  },
  {
   "cell_type": "code",
   "execution_count": null,
   "metadata": {
    "slideshow": {
     "slide_type": "-"
    }
   },
   "outputs": [],
   "source": [
    "exercise_list = [10, 20, 30, 40, 50, 100]\n",
    "\n",
    "\n",
    "# write your code before this line\n",
    "check('tests/lec6_p5.py')"
   ]
  },
  {
   "cell_type": "markdown",
   "metadata": {
    "slideshow": {
     "slide_type": "slide"
    }
   },
   "source": [
    "- <font color='LIGHTGRAY'> write for loops to iterate over containers </font>\n",
    "- <font color='LIGHTGRAY'> write for loops to iterate a given number of times </font>\n",
    "- <font color='LIGHTGRAY'> updating containers in a for loop </font>\n",
    "- <font color='LIGHTGRAY'> write a list comprehension </font>\n",
    "- write a dictionary comprehension"
   ]
  },
  {
   "cell_type": "markdown",
   "metadata": {
    "slideshow": {
     "slide_type": "subslide"
    }
   },
   "source": [
    "## Dictionary Comprehensions"
   ]
  },
  {
   "cell_type": "code",
   "execution_count": null,
   "metadata": {
    "slideshow": {
     "slide_type": "-"
    }
   },
   "outputs": [],
   "source": [
    "print([key for key in birth_year_dict.keys()])"
   ]
  },
  {
   "cell_type": "code",
   "execution_count": null,
   "metadata": {
    "slideshow": {
     "slide_type": "-"
    }
   },
   "outputs": [],
   "source": [
    "print([value for value in birth_year_dict.values()])"
   ]
  },
  {
   "cell_type": "code",
   "execution_count": null,
   "metadata": {
    "slideshow": {
     "slide_type": "-"
    }
   },
   "outputs": [],
   "source": [
    "print([[key, value] for key, value in birth_year_dict.items()])"
   ]
  },
  {
   "cell_type": "markdown",
   "metadata": {
    "slideshow": {
     "slide_type": "subslide"
    }
   },
   "source": [
    "## Exercise: Construct a dictionary comprehension that iterates over the values in `cities_dict` and assign it to a variable called `cities_list`. Print it.\n",
    "```\n",
    "cities_dict = {'BOS': 'Boston',\n",
    "          'NYC': 'New York City',\n",
    "          'LAX': 'Los Angeles'}\n",
    "```      "
   ]
  },
  {
   "cell_type": "code",
   "execution_count": null,
   "metadata": {
    "slideshow": {
     "slide_type": "-"
    }
   },
   "outputs": [],
   "source": [
    "cities_dict = {'BOS': 'Boston',\n",
    "          'NYC': 'New York City',\n",
    "          'LAX': 'Los Angeles'}\n",
    "\n",
    "\n",
    "# write your code before this line\n",
    "check('tests/lec6_p7.py')"
   ]
  }
 ],
 "metadata": {
  "celltoolbar": "Slideshow",
  "kernelspec": {
   "display_name": "Python 3",
   "language": "python",
   "name": "python3"
  },
  "language_info": {
   "codemirror_mode": {
    "name": "ipython",
    "version": 3
   },
   "file_extension": ".py",
   "mimetype": "text/x-python",
   "name": "python",
   "nbconvert_exporter": "python",
   "pygments_lexer": "ipython3",
   "version": "3.7.3"
  }
 },
 "nbformat": 4,
 "nbformat_minor": 2
}
