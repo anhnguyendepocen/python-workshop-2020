{
 "cells": [
  {
   "cell_type": "markdown",
   "metadata": {
    "slideshow": {
     "slide_type": "slide"
    }
   },
   "source": [
    "# Control flow - the 'grammar' of programing languages\n",
    "Today we combine for loops and if statements to do more complex operations\n",
    "\n",
    "### By the end of the day you'll be able to\n",
    "- filter container elements using a combination of a for loop and an if statement\n",
    "- update values in a nested list using double for loops (aka nested loop)\n",
    "- sort a list of numbers using a nested loop and an if statement\n"
   ]
  },
  {
   "cell_type": "markdown",
   "metadata": {
    "slideshow": {
     "slide_type": "slide"
    }
   },
   "source": [
    "## Recap - if statement"
   ]
  },
  {
   "cell_type": "code",
   "execution_count": null,
   "metadata": {},
   "outputs": [],
   "source": [
    "if var1_bool: # by default python check for True condition \n",
    "    # do something\n",
    "elif var2_bool:\n",
    "    # do something else\n",
    "...\n",
    "else: # if none of the conditions above were true\n",
    "    # do something else\n",
    "# continue the code"
   ]
  },
  {
   "cell_type": "markdown",
   "metadata": {
    "slideshow": {
     "slide_type": "slide"
    }
   },
   "source": [
    "## Recap - for loop"
   ]
  },
  {
   "cell_type": "code",
   "execution_count": null,
   "metadata": {},
   "outputs": [],
   "source": [
    "for item in container:\n",
    "    # do something with the item\n",
    "# continue the code "
   ]
  },
  {
   "cell_type": "markdown",
   "metadata": {
    "slideshow": {
     "slide_type": "slide"
    }
   },
   "source": [
    "### <font color='LIGHTGRAY'>By the end of the day you'll be able to</font>\n",
    "- **filter container elements using a combination of a for loop and an if statement**\n",
    "- <font color='LIGHTGRAY'>update values in a nested list using double for loops (aka nested loop)</font>\n",
    "- <font color='LIGHTGRAY'>sort a list of numbers using a nested loop and an if statement</font>"
   ]
  },
  {
   "cell_type": "code",
   "execution_count": null,
   "metadata": {
    "slideshow": {
     "slide_type": "slide"
    }
   },
   "outputs": [],
   "source": [
    "my_lst = ['ambivert', 24, 4567, 582, 78, 'calcspar', 'deaness', 12, 675, 'entrete', 'gades']\n",
    "\n",
    "# collect the string items of this list\n",
    "\n",
    "str_lst = [] # empty list to collect strings in\n",
    "for item in my_lst:\n",
    "    if type(item) == str: # indented once\n",
    "        str_lst.append(item) # indented twice\n",
    "    print(item) # indented once so this line is outside the if statement\n",
    "print(str_lst) # no indent, this line is performed once the for loop is done\n"
   ]
  },
  {
   "cell_type": "markdown",
   "metadata": {
    "slideshow": {
     "slide_type": "slide"
    }
   },
   "source": [
    "## Exercise 1:\n",
    "Create a `nums_lst`. Collect all numbers from `my_lst` into `nums_lst`."
   ]
  },
  {
   "cell_type": "code",
   "execution_count": null,
   "metadata": {},
   "outputs": [],
   "source": [
    "from gofer.ok import check\n",
    "\n",
    "\n",
    "check('tests/lec7_p1.py')"
   ]
  },
  {
   "cell_type": "code",
   "execution_count": null,
   "metadata": {
    "slideshow": {
     "slide_type": "subslide"
    }
   },
   "outputs": [],
   "source": [
    "people_dict = {} # the keys are names, the values are a list of age and whether the person is a singer or not\n",
    "people_dict['Andras'] = [36, 'not singer']\n",
    "people_dict['Rihanna'] = [28, 'singer']\n",
    "people_dict['Madonna'] = [62, 'singer']\n",
    "people_dict['Ashley'] = [30, 'not singer']\n",
    "people_dict['Shawn Mendez'] = [22, 'singer']\n",
    "\n",
    "print(people_dict)\n"
   ]
  },
  {
   "cell_type": "code",
   "execution_count": null,
   "metadata": {
    "slideshow": {
     "slide_type": "subslide"
    }
   },
   "outputs": [],
   "source": [
    "# collect who the singers are\n",
    "singers_lst = [] # empty list to store the singers' names in\n",
    "for key, value in people_dict.items(): # iterate through the key-value pairs of the dict\n",
    "    print(key,value)\n",
    "    if value[1] == 'singer': # one indent: check if value[1] is singer\n",
    "        singers_lst.append(key) # two indent: if it is, append to list\n",
    "print(singers_lst) # print the list once the for loop is done"
   ]
  },
  {
   "cell_type": "markdown",
   "metadata": {
    "slideshow": {
     "slide_type": "slide"
    }
   },
   "source": [
    "## Exercise 2\n",
    "Collect everyone's name who is older than 30 into `oldies_lst`. :)"
   ]
  },
  {
   "cell_type": "code",
   "execution_count": null,
   "metadata": {},
   "outputs": [],
   "source": [
    "\n",
    "\n",
    "check('tests/lec7_p2.py')"
   ]
  },
  {
   "cell_type": "markdown",
   "metadata": {
    "slideshow": {
     "slide_type": "slide"
    }
   },
   "source": [
    "### <font color='LIGHTGRAY'>By the end of the day you'll be able to</font>\n",
    "- <font color='LIGHTGRAY'>filter container elements using a combination of a for loop and an if statement</font>\n",
    "- **update values in a nested list using double for loops (aka nested loop)**\n",
    "- <font color='LIGHTGRAY'>sort a list of numbers using a nested loop and an if statement</font>"
   ]
  },
  {
   "cell_type": "code",
   "execution_count": null,
   "metadata": {
    "scrolled": true,
    "slideshow": {
     "slide_type": "slide"
    }
   },
   "outputs": [],
   "source": [
    "# each item in the list contains the birthyears of people living in the same household\n",
    "birthyears_lst = [[1976,1956,2013],[1989,2002],[1954,1978,1928,2009,1938],[2001],[1978,2000,2015,1981,1995]]\n",
    "\n",
    "# let's print out each number\n",
    "for item in birthyears_lst:\n",
    "    print('before:',item) # one indent!\n",
    "    for num in item:\n",
    "        print('before:',num)\n",
    "        num = num + 1\n",
    "        print('after:',num)\n",
    "    print('after:',item)\n",
    "print(birthyears_lst)\n",
    "# can we modify birthyears_lst with this approach?"
   ]
  },
  {
   "cell_type": "code",
   "execution_count": null,
   "metadata": {
    "scrolled": true,
    "slideshow": {
     "slide_type": "subslide"
    }
   },
   "outputs": [],
   "source": [
    "# if you want to modify a list element, you need to reference them by index.\n",
    "\n",
    "i = 2\n",
    "j = 4\n",
    "print(birthyears_lst[i][j]) # just a reminder how to index nested lists\n",
    "\n",
    "\n",
    "for i in range(len(birthyears_lst)):\n",
    "    print('i',i,'sublist',birthyears_lst[i]) # one indent!\n",
    "    for j in range(len(birthyears_lst[i])):\n",
    "        print('   before i:',i,'j:',j,'element:',birthyears_lst[i][j])\n",
    "        # birthyears_lst[i][j] can be modified!\n",
    "        birthyears_lst[i][j] = birthyears_lst[i][j] + 1\n",
    "        print('   after i:',i,'j:',j,'element:',birthyears_lst[i][j])\n",
    "\n",
    "    print('moving on to the next sublist')\n",
    "print(birthyears_lst)"
   ]
  },
  {
   "cell_type": "markdown",
   "metadata": {
    "slideshow": {
     "slide_type": "subslide"
    }
   },
   "source": [
    "### Let's create a list that contains everyone's age and has the same shape as birthyears_lst"
   ]
  },
  {
   "cell_type": "code",
   "execution_count": null,
   "metadata": {
    "scrolled": true,
    "slideshow": {
     "slide_type": "-"
    }
   },
   "outputs": [],
   "source": [
    "ages_lst = [] \n",
    "for i in range(len(birthyears_lst)):\n",
    "    print('sublist before:',birthyears_lst[i])\n",
    "    ages_lst.append([]) # add an empty sublist\n",
    "    for j in range(len(birthyears_lst[i])):\n",
    "        print('   before:',birthyears_lst[i][j])\n",
    "        ages_lst[i].append(2020 - birthyears_lst[i][j]) # add an element to the sublist\n",
    "        print('   after:',ages_lst[i][j])\n",
    "    print('sublist after:',ages_lst[i])\n",
    "print(ages_lst)"
   ]
  },
  {
   "cell_type": "markdown",
   "metadata": {
    "slideshow": {
     "slide_type": "slide"
    }
   },
   "source": [
    "## Exercise 3:\n",
    "Create a boolean nested list of the same shape as ages_lst and make the items True if someone is 18 or older and False otherwise. Call this list `can_vote_lst`."
   ]
  },
  {
   "cell_type": "code",
   "execution_count": null,
   "metadata": {
    "scrolled": true
   },
   "outputs": [],
   "source": [
    "\n",
    "\n",
    "check('tests/lec7_p3.py')"
   ]
  },
  {
   "cell_type": "markdown",
   "metadata": {
    "slideshow": {
     "slide_type": "slide"
    }
   },
   "source": [
    "### <font color='LIGHTGRAY'>By the end of the day you'll be able to</font>\n",
    "- <font color='LIGHTGRAY'>filter container elements using a combination of a for loop and an if statement</font>\n",
    "- <font color='LIGHTGRAY'>update values in a nested list using double for loops (aka nested loop)</font>\n",
    "- **sort a list of numbers using a nested loop and an if statement**"
   ]
  },
  {
   "cell_type": "markdown",
   "metadata": {
    "slideshow": {
     "slide_type": "slide"
    }
   },
   "source": [
    "## Sorting\n",
    "- Given a list of numbers, rearrange the elements such that they are in increasing order.\n",
    "- Bubble sort is a simple but inefficient way to sort numbers.\n",
    "- It is good to learn about nesting loops and if statements\n",
    "\n",
    "[34, 8, 1335, 7]"
   ]
  },
  {
   "cell_type": "code",
   "execution_count": null,
   "metadata": {
    "slideshow": {
     "slide_type": "subslide"
    }
   },
   "outputs": [],
   "source": [
    "nums_lst = [34,7,1335,8,24,78,123,576,38]\n",
    "\n",
    "for i in range(len(nums_lst)):\n",
    "    for j in range(i):\n",
    "        print('before:','element',j,':',nums_lst[j],'element', i,':', nums_lst[i])\n",
    "        if nums_lst[j] > nums_lst[i]: # if an item is smaller than its neighbor, switch them\n",
    "            temp = nums_lst[i] # temporary variable\n",
    "            nums_lst[i] = nums_lst[j]\n",
    "            nums_lst[j] = temp\n",
    "            print('   we switched elements')\n",
    "        # note: no else statement. if an element is equal or larger than its neighbor, there is nothing to do\n",
    "        print('after:','element',j,':',nums_lst[j],'element', i,':', nums_lst[i])\n",
    "        print(nums_lst)"
   ]
  },
  {
   "cell_type": "markdown",
   "metadata": {
    "slideshow": {
     "slide_type": "slide"
    }
   },
   "source": [
    "## Exercise 4\n",
    "Rewrite the bubble sort algorithm above to order strings in a list ascii-betically. \n",
    "\n",
    "Hint 1: You can compare strings with greater than (>) and smaller than (<). For example 'ba' < 'bb' is True, try it. \n",
    "\n",
    "Hint 2: The smaller than operation will tell you if two items in a list needs to be swapped."
   ]
  },
  {
   "cell_type": "code",
   "execution_count": null,
   "metadata": {
    "slideshow": {
     "slide_type": "-"
    }
   },
   "outputs": [],
   "source": [
    "str_lst = ['bath','knot','thank','library','sisters','scatter','chicken','confused','marked','breathe']\n",
    "\n",
    "\n",
    "\n",
    "check('tests/lec7_p4.py')"
   ]
  }
 ],
 "metadata": {
  "celltoolbar": "Slideshow",
  "kernelspec": {
   "display_name": "Python 3",
   "language": "python",
   "name": "python3"
  },
  "language_info": {
   "codemirror_mode": {
    "name": "ipython",
    "version": 3
   },
   "file_extension": ".py",
   "mimetype": "text/x-python",
   "name": "python",
   "nbconvert_exporter": "python",
   "pygments_lexer": "ipython3",
   "version": "3.6.10"
  }
 },
 "nbformat": 4,
 "nbformat_minor": 4
}
