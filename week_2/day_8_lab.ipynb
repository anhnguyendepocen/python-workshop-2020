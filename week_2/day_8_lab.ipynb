{
 "cells": [
  {
   "cell_type": "markdown",
   "metadata": {},
   "source": [
    "# <center> Problem 1 </center>"
   ]
  },
  {
   "cell_type": "markdown",
   "metadata": {},
   "source": [
    "## Using the following dictionaries, create a list called `students` that contains lloyd, alice, and tyler."
   ]
  },
  {
   "cell_type": "code",
   "execution_count": 2,
   "metadata": {},
   "outputs": [
    {
     "data": {
      "text/html": [
       "\n",
       "    \n",
       "    \n",
       "        <p>All tests passed!</p>\n",
       "    \n",
       "    "
      ],
      "text/plain": [
       "<gofer.ok.OKTestsResult at 0x7fe8809e1208>"
      ]
     },
     "execution_count": 2,
     "metadata": {},
     "output_type": "execute_result"
    }
   ],
   "source": [
    "from gofer.ok import check\n",
    "\n",
    "lloyd = {\n",
    "    \"name\": \"Lloyd\",\n",
    "    \"homework\": [90.0, 97.0, 75.0, 92.0],\n",
    "    \"quizzes\": [88.0, 40.0, 94.0],\n",
    "    \"tests\": [75.0, 90.0]\n",
    "}\n",
    "alice = {\n",
    "    \"name\": \"Alice\",\n",
    "    \"homework\": [100.0, 92.0, 98.0, 100.0],\n",
    "    \"quizzes\": [82.0, 83.0, 91.0],\n",
    "    \"tests\": [89.0, 97.0]\n",
    "}\n",
    "tyler = {\n",
    "    \"name\": \"Tyler\",\n",
    "    \"homework\": [0.0, 87.0, 75.0, 22.0],\n",
    "    \"quizzes\": [0.0, 75.0, 78.0],\n",
    "    \"tests\": [100.0, 100.0]\n",
    "}\n",
    "# write your code below this line\n",
    "\n",
    "\n",
    "\n",
    "# write your code above this line\n",
    "check('tests/lab8_p1.py')"
   ]
  },
  {
   "cell_type": "markdown",
   "metadata": {},
   "source": [
    "## Write a function `average` that takes a list of numbers and returns the average.\n",
    "* Inside that function, call the built-in `sum()` function with the numbers list as a parameter. Store the result in a variable called `total`.\n",
    "* Divide `total` by the length of the numbers list. Use the built-in `len()` function to calculate that.\n",
    "* Return that result.\n",
    "\n",
    "## Test your function. Call your `get_average` function with `[1,2,3]`. Assign the resulting average to a variable called `avg_flt` and print."
   ]
  },
  {
   "cell_type": "code",
   "execution_count": 7,
   "metadata": {},
   "outputs": [
    {
     "name": "stdout",
     "output_type": "stream",
     "text": [
      "2.0\n"
     ]
    },
    {
     "data": {
      "text/html": [
       "\n",
       "    \n",
       "    \n",
       "        <p>All tests passed!</p>\n",
       "    \n",
       "    "
      ],
      "text/plain": [
       "<gofer.ok.OKTestsResult at 0x7fe8809d8780>"
      ]
     },
     "execution_count": 7,
     "metadata": {},
     "output_type": "execute_result"
    }
   ],
   "source": [
    "\n",
    "\n",
    "# write your code above this line\n",
    "check('tests/lab8_p2.py')"
   ]
  },
  {
   "cell_type": "markdown",
   "metadata": {},
   "source": [
    "## Write a function called `get_average` that takes a student dictionary (like `lloyd`, `alice`, or `tyler`) as input and returns the student's weighted average.\n",
    "* Make a variable `homework` that stores the `average()` of `student[\"homework\"]`.\n",
    "* Repeat step 2 for `quizzes` and `tests`.\n",
    "* Multiply the 3 averages by their weights and return the sum of those three. Homework is 10%, quizzes are 30% and tests are 60%.\n",
    "## Test your function. Call your `get_average` function with `lloyd` and set the result to a variable called `lloyd_avg_flt`. Print the resulting average grade."
   ]
  },
  {
   "cell_type": "code",
   "execution_count": 11,
   "metadata": {},
   "outputs": [
    {
     "name": "stdout",
     "output_type": "stream",
     "text": [
      "80.55\n"
     ]
    },
    {
     "data": {
      "text/html": [
       "\n",
       "    \n",
       "    \n",
       "        <p>All tests passed!</p>\n",
       "    \n",
       "    "
      ],
      "text/plain": [
       "<gofer.ok.OKTestsResult at 0x7fe8503d9278>"
      ]
     },
     "execution_count": 11,
     "metadata": {},
     "output_type": "execute_result"
    }
   ],
   "source": [
    "\n",
    "\n",
    "# write your code above this line\n",
    "check('tests/lab8_p3.py')"
   ]
  },
  {
   "cell_type": "markdown",
   "metadata": {},
   "source": [
    "## Define a new function called `get_letter_grade` that has one argument called `score`. Expect `score` to be a number.\n",
    "\n",
    "### Inside your function, test `score` using a chain of `if:` / `elif:` / `else:` statements, like so:\n",
    "\n",
    "* If score is 90 or above: return \"A\"\n",
    "* Else if score is 80 or above: return \"B\"\n",
    "* Else if score is 70 or above: return \"C\"\n",
    "* Else if score is 60 or above: return \"D\"\n",
    "* Otherwise: return \"F\"\n",
    "\n",
    "## Finally, test your function. Call your `get_letter_grade` function with the result of `get_average(lloyd)` and assign the result to a variable caled `lloyd_avg_str`. Print the resulting letter grade."
   ]
  },
  {
   "cell_type": "code",
   "execution_count": 12,
   "metadata": {},
   "outputs": [
    {
     "name": "stdout",
     "output_type": "stream",
     "text": [
      "B\n"
     ]
    },
    {
     "data": {
      "text/html": [
       "\n",
       "    \n",
       "    \n",
       "        <p>All tests passed!</p>\n",
       "    \n",
       "    "
      ],
      "text/plain": [
       "<gofer.ok.OKTestsResult at 0x7fe8809aeb70>"
      ]
     },
     "execution_count": 12,
     "metadata": {},
     "output_type": "execute_result"
    }
   ],
   "source": [
    "\n",
    "\n",
    "# write your code above this line\n",
    "check('tests/lab8_p4.py')"
   ]
  },
  {
   "cell_type": "markdown",
   "metadata": {},
   "source": [
    "## Define a function called `get_class_average` that has one argument, `students`. You can expect `students` to be a list containing your three students.\n",
    "* First, make an empty list called `results`.\n",
    "* For each student item in the class list, calculate `get_average(student)` and then call `results.append()` with that result.\n",
    "* Finally, return the result of calling `average()` with `results`.\n",
    "* Finally, assign the result of calling `get_class_average` with your `students` list to a variable called `class_avg_flt` and print. Your students should be `[lloyd, alice, tyler]`."
   ]
  },
  {
   "cell_type": "code",
   "execution_count": 13,
   "metadata": {},
   "outputs": [
    {
     "name": "stdout",
     "output_type": "stream",
     "text": [
      "83.86666666666666\n"
     ]
    },
    {
     "data": {
      "text/html": [
       "\n",
       "    \n",
       "    \n",
       "        <p>All tests passed!</p>\n",
       "    \n",
       "    "
      ],
      "text/plain": [
       "<gofer.ok.OKTestsResult at 0x7fe880b352b0>"
      ]
     },
     "execution_count": 13,
     "metadata": {},
     "output_type": "execute_result"
    }
   ],
   "source": [
    "\n",
    "\n",
    "# write your code above this line\n",
    "check('tests/lab8_p5.py')"
   ]
  },
  {
   "cell_type": "markdown",
   "metadata": {},
   "source": [
    "## Then, assign the result of `get_letter_grade` for the class's average to a variable called `class_avg_str` and print."
   ]
  },
  {
   "cell_type": "code",
   "execution_count": 18,
   "metadata": {},
   "outputs": [
    {
     "name": "stdout",
     "output_type": "stream",
     "text": [
      "B\n"
     ]
    }
   ],
   "source": [
    "\n",
    "\n",
    "# write your code above this line\n",
    "check('tests/lab8_p6.py')"
   ]
  },
  {
   "cell_type": "code",
   "execution_count": null,
   "metadata": {},
   "outputs": [],
   "source": []
  }
 ],
 "metadata": {
  "kernelspec": {
   "display_name": "Python 3",
   "language": "python",
   "name": "python3"
  },
  "language_info": {
   "codemirror_mode": {
    "name": "ipython",
    "version": 3
   },
   "file_extension": ".py",
   "mimetype": "text/x-python",
   "name": "python",
   "nbconvert_exporter": "python",
   "pygments_lexer": "ipython3",
   "version": "3.7.3"
  }
 },
 "nbformat": 4,
 "nbformat_minor": 2
}
