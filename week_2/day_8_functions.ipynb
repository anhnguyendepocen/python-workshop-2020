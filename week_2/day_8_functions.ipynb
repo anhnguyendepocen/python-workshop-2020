{
 "cells": [
  {
   "cell_type": "markdown",
   "metadata": {
    "slideshow": {
     "slide_type": "slide"
    }
   },
   "source": [
    "# <center> Please go to https://ccv.jupyter.brown.edu </center>"
   ]
  },
  {
   "cell_type": "markdown",
   "metadata": {
    "slideshow": {
     "slide_type": "slide"
    }
   },
   "source": [
    "# <center> What we learned so far... </center>\n",
    "- Variables: integers, floats, booleans, strings\n",
    "- Container types: lists, dictionaries\n",
    "- Control flow: if-else statements, for loops, comprehensions"
   ]
  },
  {
   "cell_type": "markdown",
   "metadata": {
    "slideshow": {
     "slide_type": "slide"
    }
   },
   "source": [
    "# <center> Functions </center>\n",
    "### By the end of the day you'll be able to\n",
    "- Write simple functions for making code organized and reusable\n",
    "- Write functions with multiple arguments and outputs\n",
    "- Write functions with named arguments and default argument values\n",
    "- Describe the difference between Global and Local scope\n",
    "- Handle errors within your code"
   ]
  },
  {
   "cell_type": "markdown",
   "metadata": {
    "slideshow": {
     "slide_type": "slide"
    }
   },
   "source": [
    "- Write simple functions for making code organized and reusable\n",
    "- <font color='LIGHTGRAY'> Write functions with multiple arguments and outputs </font>\n",
    "- <font color='LIGHTGRAY'> Write functions with named arguments and default argument values </font>\n",
    "- <font color='LIGHTGRAY'> Describe the difference between Global and Local scope </font>\n",
    "- <font color='LIGHTGRAY'> Handle errors within your code </font>"
   ]
  },
  {
   "cell_type": "markdown",
   "metadata": {
    "slideshow": {
     "slide_type": "subslide"
    }
   },
   "source": [
    "## Defining Simple Functions"
   ]
  },
  {
   "cell_type": "markdown",
   "metadata": {
    "slideshow": {
     "slide_type": "-"
    }
   },
   "source": [
    "- Functions are discrete units of code\n",
    "- Similar to functions in mathematics\n",
    "  + Take some input, return some output (_usually_)\n",
    "- Functions have a very specific syntax that uses indentation and special keywords that let Python know you are defining or creating a new function\n",
    "\n",
    "```\n",
    "def function_name(input):\n",
    "    do something here\n",
    "    (maybe do another thing here)\n",
    "    \n",
    "    return output```"
   ]
  },
  {
   "cell_type": "code",
   "execution_count": 1,
   "metadata": {
    "slideshow": {
     "slide_type": "subslide"
    }
   },
   "outputs": [
    {
     "name": "stdout",
     "output_type": "stream",
     "text": [
      "43\n",
      "10\n"
     ]
    }
   ],
   "source": [
    "# Define simple function.\n",
    "# Note: Indentation used to denote function body\n",
    "# Note 2: The lines within def are only run when you call the function\n",
    "\n",
    "def add_one(number):\n",
    "    res = number + 1\n",
    "    \n",
    "    return res\n",
    "\n",
    "res1_int = add_one(42)\n",
    "res2_int = add_one(9)\n",
    "print(res1_int)\n",
    "print(res2_int)"
   ]
  },
  {
   "cell_type": "markdown",
   "metadata": {
    "slideshow": {
     "slide_type": "subslide"
    }
   },
   "source": [
    "## Exercise: define a function that takes a number as input, multiplies it by 2, and returns the result. Test your function on a few examples: 1, 9, 19. Assign the results to variables named res1_int, res2_int, and res3_int. Print the results."
   ]
  },
  {
   "cell_type": "code",
   "execution_count": 2,
   "metadata": {
    "slideshow": {
     "slide_type": "-"
    }
   },
   "outputs": [
    {
     "name": "stdout",
     "output_type": "stream",
     "text": [
      "2\n",
      "18\n",
      "38\n"
     ]
    },
    {
     "data": {
      "text/html": [
       "\n",
       "    \n",
       "    \n",
       "        <p>All tests passed!</p>\n",
       "    \n",
       "    "
      ],
      "text/plain": [
       "<gofer.ok.OKTestsResult at 0x7ff7b8190cf8>"
      ]
     },
     "execution_count": 2,
     "metadata": {},
     "output_type": "execute_result"
    }
   ],
   "source": [
    "from gofer.ok import check\n",
    "# write your code below this line\n",
    "\n",
    "\n",
    "\n",
    "# write your code above this line\n",
    "check('tests/lec8_p1.py')"
   ]
  },
  {
   "cell_type": "markdown",
   "metadata": {
    "slideshow": {
     "slide_type": "slide"
    }
   },
   "source": [
    "- <font color='LIGHTGRAY'> Write simple functions for making code organized and reusable </font>\n",
    "- Write functions with multiple arguments and outputs\n",
    "- <font color='LIGHTGRAY'> Write functions with named arguments and default argument values </font>\n",
    "- <font color='LIGHTGRAY'> Describe the difference between Global and Local scope </font>\n",
    "- <font color='LIGHTGRAY'> Handle errors within your code </font>"
   ]
  },
  {
   "cell_type": "markdown",
   "metadata": {
    "slideshow": {
     "slide_type": "subslide"
    }
   },
   "source": [
    "## Functions can take multiple inputs"
   ]
  },
  {
   "cell_type": "code",
   "execution_count": 4,
   "metadata": {
    "slideshow": {
     "slide_type": "-"
    }
   },
   "outputs": [
    {
     "name": "stdout",
     "output_type": "stream",
     "text": [
      "hello world\n",
      "goodbye moon\n"
     ]
    }
   ],
   "source": [
    "# Function with multiple arguments\n",
    "\n",
    "def combine_strings(string_1, string_2):\n",
    "    res = string_1 + ' ' + string_2\n",
    "    \n",
    "    return res \n",
    "\n",
    "res1_str = combine_strings('hello', 'world')\n",
    "res2_str = combine_strings('goodbye', 'moon')\n",
    "\n",
    "print(res1_str)\n",
    "print(res2_str)"
   ]
  },
  {
   "cell_type": "markdown",
   "metadata": {
    "slideshow": {
     "slide_type": "subslide"
    }
   },
   "source": [
    "## Exercise: define a function that adds two numbers and returns the result. Test your function on a few pairs - (5, 9) and (10, 20) - and assign the results to variables named `res1_int` and `res2_int`. Print the results."
   ]
  },
  {
   "cell_type": "code",
   "execution_count": 5,
   "metadata": {
    "slideshow": {
     "slide_type": "-"
    }
   },
   "outputs": [
    {
     "name": "stdout",
     "output_type": "stream",
     "text": [
      "14\n",
      "30\n"
     ]
    },
    {
     "data": {
      "text/html": [
       "\n",
       "    \n",
       "    \n",
       "        <p>All tests passed!</p>\n",
       "    \n",
       "    "
      ],
      "text/plain": [
       "<gofer.ok.OKTestsResult at 0x7ff799510c88>"
      ]
     },
     "execution_count": 5,
     "metadata": {},
     "output_type": "execute_result"
    }
   ],
   "source": [
    "\n",
    "\n",
    "# write your code above this line\n",
    "check('tests/lec8_p2.py')"
   ]
  },
  {
   "cell_type": "markdown",
   "metadata": {
    "slideshow": {
     "slide_type": "subslide"
    }
   },
   "source": [
    "## When defining a function, you can call another function you already defined."
   ]
  },
  {
   "cell_type": "code",
   "execution_count": 6,
   "metadata": {
    "slideshow": {
     "slide_type": "subslide"
    }
   },
   "outputs": [
    {
     "name": "stdout",
     "output_type": "stream",
     "text": [
      "False\n",
      "True\n"
     ]
    }
   ],
   "source": [
    "# Function to determine if number is even\n",
    "\n",
    "def is_even(n):\n",
    "    res = n % 2 == 0\n",
    "    \n",
    "    return res\n",
    "\n",
    "res1_int = is_even(17)\n",
    "res2_int = is_even(2)\n",
    "\n",
    "print(res1_int)\n",
    "print(res2_int)"
   ]
  },
  {
   "cell_type": "code",
   "execution_count": 7,
   "metadata": {
    "slideshow": {
     "slide_type": "-"
    }
   },
   "outputs": [
    {
     "name": "stdout",
     "output_type": "stream",
     "text": [
      "False\n",
      "True\n"
     ]
    }
   ],
   "source": [
    "# Functions that call other functions\n",
    "\n",
    "def is_odd(n):\n",
    "    res = not is_even(n)\n",
    "    \n",
    "    return res\n",
    "\n",
    "res1_int = is_odd(30)\n",
    "res2_int = is_odd(31)\n",
    "\n",
    "print(res1_int) \n",
    "print(res2_int)"
   ]
  },
  {
   "cell_type": "markdown",
   "metadata": {
    "slideshow": {
     "slide_type": "subslide"
    }
   },
   "source": [
    "## Exercise: let's write a function that finds the mean of two numbers. The function should call the `add_vals()` function we defined above and divide the result by two. Test the function on some example pairs - (10, 20) and (16, 16) - and assign the results to variables named `res1_flt` and `res2_flt`. Print the results."
   ]
  },
  {
   "cell_type": "code",
   "execution_count": 8,
   "metadata": {
    "slideshow": {
     "slide_type": "-"
    }
   },
   "outputs": [
    {
     "name": "stdout",
     "output_type": "stream",
     "text": [
      "15.0\n",
      "16.0\n"
     ]
    },
    {
     "data": {
      "text/html": [
       "\n",
       "    \n",
       "    \n",
       "        <p>All tests passed!</p>\n",
       "    \n",
       "    "
      ],
      "text/plain": [
       "<gofer.ok.OKTestsResult at 0x7ff799521c18>"
      ]
     },
     "execution_count": 8,
     "metadata": {},
     "output_type": "execute_result"
    }
   ],
   "source": [
    "\n",
    "\n",
    "# write your code above this line\n",
    "check('tests/lec8_p3.py')"
   ]
  },
  {
   "cell_type": "markdown",
   "metadata": {
    "slideshow": {
     "slide_type": "subslide"
    }
   },
   "source": [
    "## Functions can return multiple outputs"
   ]
  },
  {
   "cell_type": "code",
   "execution_count": 13,
   "metadata": {
    "slideshow": {
     "slide_type": "-"
    }
   },
   "outputs": [
    {
     "name": "stdout",
     "output_type": "stream",
     "text": [
      "5.5 5.259911279353167\n"
     ]
    }
   ],
   "source": [
    "# Functions that return multiple values\n",
    "from statistics import mean, stdev\n",
    "\n",
    "def mean_sd(numbers_list):\n",
    "    m = mean(numbers_list)\n",
    "    sd = stdev(numbers_list)\n",
    "    \n",
    "    return m, sd\n",
    "\n",
    "mean_flt, sd_flt = mean_sd([0,2,10,10])\n",
    "print(mean_flt, sd_flt)"
   ]
  },
  {
   "cell_type": "markdown",
   "metadata": {
    "slideshow": {
     "slide_type": "subslide"
    }
   },
   "source": [
    "## Exercise: write a function that takes as input two values, and return two outputs: the sum and the product of the two values. Test on a few example pairs (10, 20) and (5, 9) - and assign the results to variables named `a1_int, a2_int` and `b1_int, b2_int`. Print the results"
   ]
  },
  {
   "cell_type": "code",
   "execution_count": 14,
   "metadata": {
    "slideshow": {
     "slide_type": "-"
    }
   },
   "outputs": [
    {
     "name": "stdout",
     "output_type": "stream",
     "text": [
      "30 200\n",
      "14 45\n"
     ]
    },
    {
     "data": {
      "text/html": [
       "\n",
       "    \n",
       "    \n",
       "        <p>All tests passed!</p>\n",
       "    \n",
       "    "
      ],
      "text/plain": [
       "<gofer.ok.OKTestsResult at 0x7ff799527780>"
      ]
     },
     "execution_count": 14,
     "metadata": {},
     "output_type": "execute_result"
    }
   ],
   "source": [
    "\n",
    "\n",
    "# write your code above this line\n",
    "check('tests/lec8_p4.py')"
   ]
  },
  {
   "cell_type": "markdown",
   "metadata": {
    "slideshow": {
     "slide_type": "slide"
    }
   },
   "source": [
    "- <font color='LIGHTGRAY'> Write simple functions for making code organized and reusable </font>\n",
    "- <font color='LIGHTGRAY'> Write functions with multiple arguments and outputs </font>\n",
    "- Write functions with named arguments and default argument values\n",
    "- <font color='LIGHTGRAY'> Describe the difference between Global and Local scope </font>\n",
    "- <font color='LIGHTGRAY'> Handle errors within your code </font>"
   ]
  },
  {
   "cell_type": "markdown",
   "metadata": {
    "slideshow": {
     "slide_type": "subslide"
    }
   },
   "source": [
    "## Using Named Arguments\n",
    "- So far, we been using \"positional\" matching of arguments\n",
    "- More complicated functions can take many arguments\n",
    "- Remembering the order of the arguments can get tricky\n",
    "- Python allows \"keyword\" arguments"
   ]
  },
  {
   "cell_type": "code",
   "execution_count": 15,
   "metadata": {
    "slideshow": {
     "slide_type": "subslide"
    }
   },
   "outputs": [],
   "source": [
    "def make_sentence(subj, verb, obj):\n",
    "    res = subj + \" \" + verb + \" \" + obj\n",
    "    return res"
   ]
  },
  {
   "cell_type": "code",
   "execution_count": 16,
   "metadata": {
    "slideshow": {
     "slide_type": "-"
    }
   },
   "outputs": [
    {
     "data": {
      "text/plain": [
       "'paul ate the potato'"
      ]
     },
     "execution_count": 16,
     "metadata": {},
     "output_type": "execute_result"
    }
   ],
   "source": [
    "# Run our function with positional arguments\n",
    "make_sentence(\"paul\", \"ate\", \"the potato\")"
   ]
  },
  {
   "cell_type": "code",
   "execution_count": 17,
   "metadata": {
    "slideshow": {
     "slide_type": "-"
    }
   },
   "outputs": [
    {
     "data": {
      "text/plain": [
       "'the potato ate paul'"
      ]
     },
     "execution_count": 17,
     "metadata": {},
     "output_type": "execute_result"
    }
   ],
   "source": [
    "# Change order of positional arguments\n",
    "make_sentence(\"the potato\", \"ate\", \"paul\")"
   ]
  },
  {
   "cell_type": "code",
   "execution_count": 18,
   "metadata": {
    "slideshow": {
     "slide_type": "-"
    }
   },
   "outputs": [
    {
     "data": {
      "text/plain": [
       "'paul ate the potato'"
      ]
     },
     "execution_count": 18,
     "metadata": {},
     "output_type": "execute_result"
    }
   ],
   "source": [
    "# Change order of keyword arguments\n",
    "make_sentence(obj=\"the potato\", verb=\"ate\", subj=\"paul\")"
   ]
  },
  {
   "cell_type": "markdown",
   "metadata": {
    "slideshow": {
     "slide_type": "subslide"
    }
   },
   "source": [
    "## Exercise: write a function that concatenates two words together. Using keyword arguments, print the concatenation of `hello` and `world`, regardless of the position of the arguments given as input."
   ]
  },
  {
   "cell_type": "code",
   "execution_count": 20,
   "metadata": {
    "slideshow": {
     "slide_type": "-"
    }
   },
   "outputs": [
    {
     "name": "stdout",
     "output_type": "stream",
     "text": [
      "hello world\n",
      "hello world\n"
     ]
    }
   ],
   "source": []
  },
  {
   "cell_type": "markdown",
   "metadata": {
    "slideshow": {
     "slide_type": "subslide"
    }
   },
   "source": [
    "## Default Argument Values\n",
    "- Can specify defaults for some (or all) arguments"
   ]
  },
  {
   "cell_type": "code",
   "execution_count": 21,
   "metadata": {
    "slideshow": {
     "slide_type": "-"
    }
   },
   "outputs": [
    {
     "name": "stdout",
     "output_type": "stream",
     "text": [
      "Ashley hates the potato\n"
     ]
    }
   ],
   "source": [
    "def make_sentence(subj, verb, obj='the potato'):\n",
    "    res = subj + \" \" + verb + \" \" + obj\n",
    "    \n",
    "    return res\n",
    "\n",
    "print(make_sentence('Ashley', 'hates'))"
   ]
  },
  {
   "cell_type": "code",
   "execution_count": 22,
   "metadata": {
    "slideshow": {
     "slide_type": "-"
    }
   },
   "outputs": [
    {
     "name": "stdout",
     "output_type": "stream",
     "text": [
      "Ashley hates the croissant\n"
     ]
    }
   ],
   "source": [
    "print(make_sentence('Ashley', 'hates', 'the croissant'))"
   ]
  },
  {
   "cell_type": "code",
   "execution_count": 24,
   "metadata": {
    "slideshow": {
     "slide_type": "subslide"
    }
   },
   "outputs": [
    {
     "name": "stdout",
     "output_type": "stream",
     "text": [
      "Ashley hates the croissant\n"
     ]
    }
   ],
   "source": [
    "print(make_sentence(verb='hates', subj='Ashley', obj='the croissant'))"
   ]
  },
  {
   "cell_type": "code",
   "execution_count": 25,
   "metadata": {
    "slideshow": {
     "slide_type": "-"
    }
   },
   "outputs": [
    {
     "name": "stdout",
     "output_type": "stream",
     "text": [
      "Ashley hates the potato\n"
     ]
    }
   ],
   "source": [
    "print(make_sentence(verb='hates', subj='Ashley'))"
   ]
  },
  {
   "cell_type": "markdown",
   "metadata": {
    "slideshow": {
     "slide_type": "subslide"
    }
   },
   "source": [
    "## Exercise: write a function that concatenates two words together with a space between the words. The second word should have a default value of 'ran'. Test your function on `dog` and `dog, ate` and assign the results to `res1_str` and `res2_str`."
   ]
  },
  {
   "cell_type": "code",
   "execution_count": 26,
   "metadata": {
    "slideshow": {
     "slide_type": "-"
    }
   },
   "outputs": [
    {
     "name": "stdout",
     "output_type": "stream",
     "text": [
      "dog ran\n",
      "dog ate\n"
     ]
    },
    {
     "data": {
      "text/html": [
       "\n",
       "    \n",
       "    \n",
       "        <p>All tests passed!</p>\n",
       "    \n",
       "    "
      ],
      "text/plain": [
       "<gofer.ok.OKTestsResult at 0x7ff79939e400>"
      ]
     },
     "execution_count": 26,
     "metadata": {},
     "output_type": "execute_result"
    }
   ],
   "source": [
    "\n",
    "\n",
    "# write your code above this line\n",
    "check('tests/lec8_p6.py')"
   ]
  },
  {
   "cell_type": "markdown",
   "metadata": {
    "slideshow": {
     "slide_type": "slide"
    }
   },
   "source": [
    "- <font color='LIGHTGRAY'> Write simple functions for making code organized and reusable </font>\n",
    "- <font color='LIGHTGRAY'> Write functions with multiple arguments and outputs </font>\n",
    "- <font color='LIGHTGRAY'> Write functions with named arguments and default argument values </font>\n",
    "- Describe the difference between Global and Local scope\n",
    "- <font color='LIGHTGRAY'> Handle errors within your code </font>"
   ]
  },
  {
   "cell_type": "markdown",
   "metadata": {
    "slideshow": {
     "slide_type": "subslide"
    }
   },
   "source": [
    "## Functions and Scope\n",
    "\n",
    "#### Scope:\n",
    "The scope of a variable refers to the places where you can see and access it.\n",
    "\n",
    "- Global scope can be considered the top level\n",
    "- Functions introduce \"local scope\""
   ]
  },
  {
   "cell_type": "code",
   "execution_count": 29,
   "metadata": {
    "slideshow": {
     "slide_type": "subslide"
    }
   },
   "outputs": [
    {
     "name": "stdout",
     "output_type": "stream",
     "text": [
      "True False True\n",
      "True\n",
      "False\n",
      "True\n",
      "False\n"
     ]
    },
    {
     "ename": "NameError",
     "evalue": "name 'ham' is not defined",
     "output_type": "error",
     "traceback": [
      "\u001b[0;31m---------------------------------------------------------------------------\u001b[0m",
      "\u001b[0;31mNameError\u001b[0m                                 Traceback (most recent call last)",
      "\u001b[0;32m<ipython-input-29-7c0fe18a1d94>\u001b[0m in \u001b[0;36m<module>\u001b[0;34m()\u001b[0m\n\u001b[1;32m     15\u001b[0m \u001b[0mprint\u001b[0m\u001b[0;34m(\u001b[0m\u001b[0meggs\u001b[0m\u001b[0;34m)\u001b[0m\u001b[0;34m\u001b[0m\u001b[0;34m\u001b[0m\u001b[0m\n\u001b[1;32m     16\u001b[0m \u001b[0mprint\u001b[0m\u001b[0;34m(\u001b[0m\u001b[0mbacon\u001b[0m\u001b[0;34m)\u001b[0m\u001b[0;34m\u001b[0m\u001b[0;34m\u001b[0m\u001b[0m\n\u001b[0;32m---> 17\u001b[0;31m \u001b[0mprint\u001b[0m\u001b[0;34m(\u001b[0m\u001b[0mham\u001b[0m\u001b[0;34m)\u001b[0m\u001b[0;34m\u001b[0m\u001b[0;34m\u001b[0m\u001b[0m\n\u001b[0m",
      "\u001b[0;31mNameError\u001b[0m: name 'ham' is not defined"
     ]
    }
   ],
   "source": [
    "# local variables cannot be used in the global scope, only the local scope\n",
    "def breakfast(ham):\n",
    "    eggs = True\n",
    "    if ham == True:\n",
    "        bacon = False\n",
    "    else:\n",
    "        bacon = True\n",
    "#     print(eggs, bacon, ham)\n",
    "    \n",
    "    return(eggs, bacon)\n",
    "\n",
    "eggs_bool, bacon_bool = breakfast(True)\n",
    "print(eggs_bool)\n",
    "print(bacon_bool)\n",
    "print(eggs)\n",
    "print(bacon)\n",
    "print(ham)"
   ]
  },
  {
   "cell_type": "code",
   "execution_count": 36,
   "metadata": {
    "slideshow": {
     "slide_type": "subslide"
    }
   },
   "outputs": [
    {
     "name": "stdout",
     "output_type": "stream",
     "text": [
      "over easy\n"
     ]
    }
   ],
   "source": [
    "# global variables can be read from a local scope or global scope\n",
    "def breakfast():\n",
    "    print(eggs_str)\n",
    "    \n",
    "    return\n",
    "    \n",
    "eggs_str = 'over easy'\n",
    "breakfast()"
   ]
  },
  {
   "cell_type": "markdown",
   "metadata": {
    "slideshow": {
     "slide_type": "subslide"
    }
   },
   "source": [
    "## Exercise: Are the following variables (my_val, val, and i) local or global in scope?"
   ]
  },
  {
   "cell_type": "code",
   "execution_count": null,
   "metadata": {
    "slideshow": {
     "slide_type": "-"
    }
   },
   "outputs": [],
   "source": [
    "my_val = 19\n",
    "\n",
    "def double_val(val):\n",
    "    val * 2\n",
    "    return val\n",
    "\n",
    "for i in range(10):\n",
    "    print(i)"
   ]
  },
  {
   "cell_type": "markdown",
   "metadata": {
    "slideshow": {
     "slide_type": "-"
    }
   },
   "source": []
  },
  {
   "cell_type": "code",
   "execution_count": 37,
   "metadata": {
    "slideshow": {
     "slide_type": "subslide"
    }
   },
   "outputs": [
    {
     "ename": "NameError",
     "evalue": "name 'val' is not defined",
     "output_type": "error",
     "traceback": [
      "\u001b[0;31m---------------------------------------------------------------------------\u001b[0m",
      "\u001b[0;31mNameError\u001b[0m                                 Traceback (most recent call last)",
      "\u001b[0;32m<ipython-input-37-c659980467b0>\u001b[0m in \u001b[0;36m<module>\u001b[0;34m()\u001b[0m\n\u001b[1;32m      3\u001b[0m     \u001b[0;32mreturn\u001b[0m \u001b[0mval\u001b[0m\u001b[0;34m\u001b[0m\u001b[0;34m\u001b[0m\u001b[0m\n\u001b[1;32m      4\u001b[0m \u001b[0;34m\u001b[0m\u001b[0m\n\u001b[0;32m----> 5\u001b[0;31m \u001b[0mprint\u001b[0m\u001b[0;34m(\u001b[0m\u001b[0mval\u001b[0m\u001b[0;34m)\u001b[0m\u001b[0;34m\u001b[0m\u001b[0;34m\u001b[0m\u001b[0m\n\u001b[0m",
      "\u001b[0;31mNameError\u001b[0m: name 'val' is not defined"
     ]
    }
   ],
   "source": [
    "def double_val(val):\n",
    "    val * 2\n",
    "    return val\n",
    "\n",
    "print(val)"
   ]
  },
  {
   "cell_type": "code",
   "execution_count": 38,
   "metadata": {
    "slideshow": {
     "slide_type": "subslide"
    }
   },
   "outputs": [
    {
     "name": "stdout",
     "output_type": "stream",
     "text": [
      "0\n",
      "1\n",
      "2\n",
      "3\n",
      "4\n",
      "5\n",
      "6\n",
      "7\n",
      "8\n",
      "9\n",
      "---\n",
      "9\n"
     ]
    }
   ],
   "source": [
    "for i in range(10):\n",
    "    print(i)\n",
    "    \n",
    "print('---')\n",
    "print(i)"
   ]
  },
  {
   "cell_type": "code",
   "execution_count": 43,
   "metadata": {
    "slideshow": {
     "slide_type": "subslide"
    }
   },
   "outputs": [
    {
     "name": "stdout",
     "output_type": "stream",
     "text": [
      "['hi', 'hello', 'hey']\n"
     ]
    }
   ],
   "source": [
    "# don't use the same variable name in local and global scope\n",
    "def chop(my_string):\n",
    "    split_string = my_string.split()\n",
    "    \n",
    "    return split_string\n",
    "\n",
    "split_string = chop('hi hello hey')\n",
    "print(split_string)"
   ]
  },
  {
   "cell_type": "markdown",
   "metadata": {
    "slideshow": {
     "slide_type": "slide"
    }
   },
   "source": [
    "- <font color='LIGHTGRAY'> Write simple functions for making code organized and reusable </font>\n",
    "- <font color='LIGHTGRAY'> Write functions with multiple arguments and outputs </font>\n",
    "- <font color='LIGHTGRAY'> Write functions with named arguments and default argument values </font>\n",
    "- <font color='LIGHTGRAY'> Describe the difference between Global and Local scope </font>\n",
    "- Handle errors within your code"
   ]
  },
  {
   "cell_type": "markdown",
   "metadata": {
    "slideshow": {
     "slide_type": "subslide"
    }
   },
   "source": [
    "## Exception Handling\n",
    "\n",
    "As we have written code up until now, getting an error (or exception) means your entire program will crash. Instead, we can detect errors, handle them, and continue to run."
   ]
  },
  {
   "cell_type": "code",
   "execution_count": 44,
   "metadata": {
    "slideshow": {
     "slide_type": "-"
    }
   },
   "outputs": [
    {
     "data": {
      "text/plain": [
       "'EPON'"
      ]
     },
     "execution_count": 44,
     "metadata": {},
     "output_type": "execute_result"
    }
   ],
   "source": [
    "def reverse(my_string):\n",
    "    rev_string = my_string[::-1]\n",
    "    return rev_string\n",
    "\n",
    "reverse(\"NOPE\")"
   ]
  },
  {
   "cell_type": "code",
   "execution_count": 46,
   "metadata": {
    "slideshow": {
     "slide_type": "-"
    }
   },
   "outputs": [
    {
     "ename": "TypeError",
     "evalue": "'int' object is not subscriptable",
     "output_type": "error",
     "traceback": [
      "\u001b[0;31m---------------------------------------------------------------------------\u001b[0m",
      "\u001b[0;31mTypeError\u001b[0m                                 Traceback (most recent call last)",
      "\u001b[0;32m<ipython-input-46-356e52644604>\u001b[0m in \u001b[0;36m<module>\u001b[0;34m()\u001b[0m\n\u001b[0;32m----> 1\u001b[0;31m \u001b[0mreverse\u001b[0m\u001b[0;34m(\u001b[0m\u001b[0;36m999\u001b[0m\u001b[0;34m)\u001b[0m\u001b[0;34m\u001b[0m\u001b[0;34m\u001b[0m\u001b[0m\n\u001b[0m",
      "\u001b[0;32m<ipython-input-44-9e2a8fe3d058>\u001b[0m in \u001b[0;36mreverse\u001b[0;34m(my_string)\u001b[0m\n\u001b[1;32m      1\u001b[0m \u001b[0;32mdef\u001b[0m \u001b[0mreverse\u001b[0m\u001b[0;34m(\u001b[0m\u001b[0mmy_string\u001b[0m\u001b[0;34m)\u001b[0m\u001b[0;34m:\u001b[0m\u001b[0;34m\u001b[0m\u001b[0;34m\u001b[0m\u001b[0m\n\u001b[0;32m----> 2\u001b[0;31m     \u001b[0mrev_string\u001b[0m \u001b[0;34m=\u001b[0m \u001b[0mmy_string\u001b[0m\u001b[0;34m[\u001b[0m\u001b[0;34m:\u001b[0m\u001b[0;34m:\u001b[0m\u001b[0;34m-\u001b[0m\u001b[0;36m1\u001b[0m\u001b[0;34m]\u001b[0m\u001b[0;34m\u001b[0m\u001b[0;34m\u001b[0m\u001b[0m\n\u001b[0m\u001b[1;32m      3\u001b[0m     \u001b[0;32mreturn\u001b[0m \u001b[0mrev_string\u001b[0m\u001b[0;34m\u001b[0m\u001b[0;34m\u001b[0m\u001b[0m\n\u001b[1;32m      4\u001b[0m \u001b[0;34m\u001b[0m\u001b[0m\n\u001b[1;32m      5\u001b[0m \u001b[0mreverse\u001b[0m\u001b[0;34m(\u001b[0m\u001b[0;34m\"NOPE\"\u001b[0m\u001b[0;34m)\u001b[0m\u001b[0;34m\u001b[0m\u001b[0;34m\u001b[0m\u001b[0m\n",
      "\u001b[0;31mTypeError\u001b[0m: 'int' object is not subscriptable"
     ]
    }
   ],
   "source": [
    "reverse(999)"
   ]
  },
  {
   "cell_type": "code",
   "execution_count": 48,
   "metadata": {
    "slideshow": {
     "slide_type": "subslide"
    }
   },
   "outputs": [
    {
     "name": "stdout",
     "output_type": "stream",
     "text": [
      "invalid argument\n"
     ]
    }
   ],
   "source": [
    "def reverse(my_string):\n",
    "    try:\n",
    "        rev_string = my_string[::-1]\n",
    "        return rev_string\n",
    "    except:\n",
    "        print('invalid argument')\n",
    "        return\n",
    "        \n",
    "reverse(999)"
   ]
  },
  {
   "cell_type": "markdown",
   "metadata": {
    "slideshow": {
     "slide_type": "subslide"
    }
   },
   "source": [
    "## Exercise: write a function that adds 2 to a number. Handle the error that would occur if you passed a string to the function. Test your function on `9` and `hello`"
   ]
  },
  {
   "cell_type": "code",
   "execution_count": 49,
   "metadata": {
    "slideshow": {
     "slide_type": "-"
    }
   },
   "outputs": [
    {
     "name": "stdout",
     "output_type": "stream",
     "text": [
      "11\n",
      "invalid argument. enter a numeric value.\n",
      "None\n"
     ]
    }
   ],
   "source": []
  }
 ],
 "metadata": {
  "celltoolbar": "Slideshow",
  "kernelspec": {
   "display_name": "Python 3",
   "language": "python",
   "name": "python3"
  },
  "language_info": {
   "codemirror_mode": {
    "name": "ipython",
    "version": 3
   },
   "file_extension": ".py",
   "mimetype": "text/x-python",
   "name": "python",
   "nbconvert_exporter": "python",
   "pygments_lexer": "ipython3",
   "version": "3.7.3"
  }
 },
 "nbformat": 4,
 "nbformat_minor": 2
}
