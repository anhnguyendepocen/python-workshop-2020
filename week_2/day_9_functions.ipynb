{
 "cells": [
  {
   "cell_type": "markdown",
   "metadata": {
    "slideshow": {
     "slide_type": "slide"
    }
   },
   "source": [
    "# Functions - the 'sentences' of programing languages\n",
    "Very little new material today. We will practice everything we learnt so far.\n",
    "\n",
    "### By the end of the day you'll be able to\n",
    "- test your function inputs\n"
   ]
  },
  {
   "cell_type": "markdown",
   "metadata": {
    "slideshow": {
     "slide_type": "slide"
    }
   },
   "source": [
    "## Overview\n",
    "\n",
    "We covered a lot so far!\n",
    "\n",
    "- variables\n",
    "- container types\n",
    "- control flow (if statements and for loops)\n",
    "- functions\n",
    "\n",
    "You can solve a ton of problems by combining these pieces"
   ]
  },
  {
   "cell_type": "markdown",
   "metadata": {
    "slideshow": {
     "slide_type": "slide"
    }
   },
   "source": [
    "### <font color='LIGHTGRAY'>By the end of the day you'll be able to</font>\n",
    "- **test your function inputs**\n"
   ]
  },
  {
   "cell_type": "markdown",
   "metadata": {
    "slideshow": {
     "slide_type": "slide"
    }
   },
   "source": [
    "## Type of errors\n",
    "- obvious errors that give you an error message\n",
    "   - usually syntax errors, forgotten :, type error, forgotten tabs, etc.\n",
    "   - it can be quickly resolved with some googling\n",
    "- sneaky errors that don't throw an error message\n",
    "   - your code runs but the results are incorrect\n",
    "   - it can only be caught by extensive testing   "
   ]
  },
  {
   "cell_type": "markdown",
   "metadata": {
    "slideshow": {
     "slide_type": "subslide"
    }
   },
   "source": [
    "- test-driven development is encouraged!\n",
    "   - figure out how you'll test your code even before you start writing it!\n",
    "- test your data too!\n",
    "   - what properties do you expect the data to have?\n",
    "   - test those!\n",
    "   - errors in data collection often occur"
   ]
  },
  {
   "cell_type": "markdown",
   "metadata": {
    "slideshow": {
     "slide_type": "slide"
    }
   },
   "source": [
    "### How to test your data?\n",
    "- consider what properties the input data to your functions should have:\n",
    "- age should be larger than 0 but smaller than ~150\n",
    "   - sounds obvious but negative values or values over 200 can occur due to typos\n",
    "- salary should be positive\n",
    "- names should not contain non-alpha characters like numbers or special characters"
   ]
  },
  {
   "cell_type": "markdown",
   "metadata": {
    "slideshow": {
     "slide_type": "slide"
    }
   },
   "source": [
    "## Example"
   ]
  },
  {
   "cell_type": "code",
   "execution_count": null,
   "metadata": {},
   "outputs": [],
   "source": [
    "employees_dict = {}\n",
    "employees_dict['employee1'] = [50000,'male',39] # salary, gender, age\n",
    "employees_dict['employee2'] = [70000,'female',46]\n",
    "employees_dict['employee3'] = [60000,'female',556]\n",
    "employees_dict['employee4'] = [130000,'male',60]\n",
    "employees_dict['employee5'] = [80000,'female',29]\n",
    "employees_dict['employee6'] = [40000,'femele',45]\n",
    "employees_dict['employee7'] = [70000,'male',34]"
   ]
  },
  {
   "cell_type": "code",
   "execution_count": null,
   "metadata": {
    "slideshow": {
     "slide_type": "subslide"
    }
   },
   "outputs": [],
   "source": [
    "# let's test data first\n",
    "\n",
    "def test_employee_dictionary(input_dict):\n",
    "    # let's iterate through each key-value pair and write tests\n",
    "    for key,value in input_dict.items():\n",
    "        # salary: salary should be positive\n",
    "        if value[0] < 0:\n",
    "            print('salary is negative')\n",
    "            print(key,value)\n",
    "            raise ValueError\n",
    "        # gender should only be 'male' or 'female'\n",
    "        if (value[1] != 'male') and (value[1] != 'female'):\n",
    "            print('unrecognized gender value')\n",
    "            print(key,value)\n",
    "            raise ValueError\n",
    "        # age should be between 0 and 150\n",
    "        if (value[2] < 0) or (value[2] > 150):\n",
    "            print('age is unrealistic')\n",
    "            print(key,value)\n",
    "            raise ValueError\n",
    "    return\n",
    "\n",
    "test_employee_dictionary(employees_dict)"
   ]
  },
  {
   "cell_type": "code",
   "execution_count": null,
   "metadata": {
    "slideshow": {
     "slide_type": "slide"
    }
   },
   "outputs": [],
   "source": [
    "# let's compare the mean salaries of males and females\n",
    "import statistics\n",
    "\n",
    "def mean_salaries_by_gender(input_dict):\n",
    "    # test the data\n",
    "    test_employee_dictionary(input_dict)\n",
    "    \n",
    "    male_salaries = []\n",
    "    female_salaries = []\n",
    "    for key,value in input_dict.items():\n",
    "        if value[1] == 'male':\n",
    "            male_salaries.append(value[0])\n",
    "        else:\n",
    "            female_salaries.append(value[0])\n",
    "    \n",
    "    mean_male_salary = statistics.mean(male_salaries)\n",
    "    mean_female_salary = statistics.mean(female_salaries)\n",
    "    \n",
    "    return mean_male_salary, mean_female_salary\n",
    "\n",
    "male_sal_flt, female_sal_flt = mean_salaries_by_gender(employees_dict)\n",
    "print(male_sal_flt, female_sal_flt)"
   ]
  },
  {
   "cell_type": "markdown",
   "metadata": {
    "slideshow": {
     "slide_type": "slide"
    }
   },
   "source": [
    "## Exercise 1\n",
    "Compare the mean salaries of people under 45 vs 45 and above. Call the function mean_salaries_by_age."
   ]
  },
  {
   "cell_type": "code",
   "execution_count": null,
   "metadata": {},
   "outputs": [],
   "source": []
  },
  {
   "cell_type": "markdown",
   "metadata": {
    "slideshow": {
     "slide_type": "slide"
    }
   },
   "source": [
    "## Exercise 2\n",
    "Modify the function such that the critical age (which was 45 years in exercise 1) is an input to the function and can be changed. Please check that this function returns the same result as before for critical_age = 45! What happens if you set critical age to 0 or to 100?"
   ]
  },
  {
   "cell_type": "code",
   "execution_count": null,
   "metadata": {
    "scrolled": true
   },
   "outputs": [],
   "source": []
  },
  {
   "cell_type": "markdown",
   "metadata": {
    "slideshow": {
     "slide_type": "slide"
    }
   },
   "source": [
    "## Exercise 3\n",
    "Take the bubble sort algorithm from two days ago, wrap it in a function, and add a test on top to check if all items in the list are float or int. If there are non-numeric elements in the list, the code should print a diagnostic message and raise a value error."
   ]
  },
  {
   "cell_type": "code",
   "execution_count": null,
   "metadata": {},
   "outputs": [],
   "source": [
    "# list you need to use for testing. note that some elements are str, list, or boolean\n",
    "nums_lst = [24,76.4,23,86,'f',[23,6],True]\n",
    "\n",
    "# bubble sort algorithm\n",
    "for i in range(len(nums_lst)):\n",
    "    for j in range(i):\n",
    "        if nums_lst[j] > nums_lst[i]: # if an item is smaller than its neighbor, switch them\n",
    "            temp = nums_lst[i] # temporary variable\n",
    "            nums_lst[i] = nums_lst[j]\n",
    "            nums_lst[j] = temp\n",
    "            "
   ]
  },
  {
   "cell_type": "code",
   "execution_count": null,
   "metadata": {
    "slideshow": {
     "slide_type": "slide"
    }
   },
   "outputs": [],
   "source": []
  }
 ],
 "metadata": {
  "celltoolbar": "Slideshow",
  "kernelspec": {
   "display_name": "Python 3",
   "language": "python",
   "name": "python3"
  },
  "language_info": {
   "codemirror_mode": {
    "name": "ipython",
    "version": 3
   },
   "file_extension": ".py",
   "mimetype": "text/x-python",
   "name": "python",
   "nbconvert_exporter": "python",
   "pygments_lexer": "ipython3",
   "version": "3.6.10"
  }
 },
 "nbformat": 4,
 "nbformat_minor": 4
}
