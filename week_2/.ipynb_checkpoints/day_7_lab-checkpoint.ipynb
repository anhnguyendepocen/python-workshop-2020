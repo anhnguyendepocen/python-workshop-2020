{
 "cells": [
  {
   "cell_type": "markdown",
   "metadata": {},
   "source": [
    "## Exercise 1\n",
    "Given a dictionary of temperatures, please convert the Celsius values to Fahrenheit and update the dictionary. The equation to convert from Celsius to Fahrenheit is below. Please note that the temperature values are strings and not numbers!\n",
    "\n",
    "Fahrenheit = (Celsius * 9/5) + 32"
   ]
  },
  {
   "cell_type": "code",
   "execution_count": 1,
   "metadata": {},
   "outputs": [],
   "source": [
    "weather_dict = {}\n",
    "weather_dict['May 1'] = '15C'\n",
    "weather_dict['May 2'] = '10C'\n",
    "weather_dict['May 3'] = '8C'\n",
    "weather_dict['May 4'] = '9C'\n",
    "weather_dict['May 5'] = '17C'\n",
    "weather_dict['May 6'] = '20C'\n",
    "weather_dict['May 7'] = '22C'\n",
    "weather_dict['May 8'] = '20C'"
   ]
  },
  {
   "cell_type": "code",
   "execution_count": 5,
   "metadata": {},
   "outputs": [
    {
     "name": "stdout",
     "output_type": "stream",
     "text": [
      "{'May 1': 59.0, 'May 2': 50.0, 'May 3': 46.4, 'May 4': 48.2, 'May 5': 62.6, 'May 6': 68.0, 'May 7': 71.6, 'May 8': 68.0}\n"
     ]
    }
   ],
   "source": [
    "for key, value in weather_dict.items():\n",
    "    tempC_int = int(value[:-1])\n",
    "    tempF_int = tempC_int * (9/5) + 32\n",
    "    weather_dict[key] = tempF_int\n",
    "    \n",
    "print(weather_dict)"
   ]
  },
  {
   "cell_type": "markdown",
   "metadata": {},
   "source": [
    "## Exercise 2\n",
    "Given a string, create a dictionary which has two keys 'vowel' and 'consonant' and the values are the number of vowels and consonants in the string. Test your code with a couple of simple words to make sure it works correctly."
   ]
  },
  {
   "cell_type": "code",
   "execution_count": 11,
   "metadata": {},
   "outputs": [
    {
     "name": "stdout",
     "output_type": "stream",
     "text": [
      "{'vowel': 2, 'consonant': 3}\n"
     ]
    }
   ],
   "source": [
    "my_str = 'apple'\n",
    "\n",
    "char_type = {}\n",
    "char_type['vowel'] = 0\n",
    "char_type['consonant'] = 0\n",
    "for char in my_str:\n",
    "    if char in ['a','e','i','o','u']:\n",
    "        char_type['vowel'] = char_type['vowel'] + 1\n",
    "    else:\n",
    "        char_type['consonant'] = char_type['consonant'] + 1\n",
    "        \n",
    "print(char_type)"
   ]
  },
  {
   "cell_type": "markdown",
   "metadata": {},
   "source": [
    "## Exercise 3\n",
    "What happens if your string contains capital letters or numbers or any other non-alpha characters? Fix your code to work correctly under thosee conditions! \n",
    "\n",
    "Hint: use the .isalpha() method. char.isalpha() returns True if char is in the alphabet, False otherwise.\n",
    "\n",
    "Some strings you should try:\n",
    "\n",
    "'Apple'\n",
    "\n",
    "'5 apples'\n",
    "\n",
    "'I like apples!'"
   ]
  },
  {
   "cell_type": "code",
   "execution_count": 10,
   "metadata": {},
   "outputs": [
    {
     "name": "stdout",
     "output_type": "stream",
     "text": [
      "{'vowel': 5, 'consonant': 6}\n"
     ]
    }
   ],
   "source": [
    "my_str = 'I like apples!'\n",
    "\n",
    "char_type = {}\n",
    "char_type['vowel'] = 0\n",
    "char_type['consonant'] = 0\n",
    "for char in my_str:\n",
    "    if char.isalpha():\n",
    "        if (char in ['a','e','i','o','u']) or (char in ['A','E','I','O','U']):\n",
    "            char_type['vowel'] = char_type['vowel'] + 1\n",
    "        else:\n",
    "            char_type['consonant'] = char_type['consonant'] + 1\n",
    "\n",
    "print(char_type)"
   ]
  }
 ],
 "metadata": {
  "kernelspec": {
   "display_name": "Python 3",
   "language": "python",
   "name": "python3"
  },
  "language_info": {
   "codemirror_mode": {
    "name": "ipython",
    "version": 3
   },
   "file_extension": ".py",
   "mimetype": "text/x-python",
   "name": "python",
   "nbconvert_exporter": "python",
   "pygments_lexer": "ipython3",
   "version": "3.6.10"
  }
 },
 "nbformat": 4,
 "nbformat_minor": 4
}
