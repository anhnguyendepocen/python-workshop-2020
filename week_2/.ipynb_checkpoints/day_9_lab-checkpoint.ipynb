{
 "cells": [
  {
   "cell_type": "markdown",
   "metadata": {},
   "source": [
    "## Exercise 1\n",
    "Write a function that takes a string as input and it returns whether the string is a valid password (the return value is True) or not (the return value is False). A string is a valid password if \n",
    "- it contains least 1 number between 0 and 9,\n",
    "- if it contains at least 1 character from the list ['$','#','@','.','!','?','<','>'],\n",
    "- if it has a minimum length of at least 6 characters.\n",
    "\n",
    "Please check that the input to the function is indeed a string. If it is not, print a diagnostic message and raise a value error.\n",
    "\n",
    "Test your function with the strings below to make sure it works correctly. Note how the test strings try all possible ways the conditions can fail. You should aim to test your code with such thoroughness.\n",
    "\n",
    "'ilikeplums!' => False (fails on first condition)\n",
    "\n",
    "'plum2020' => False (fails on second condition)\n",
    "\n",
    "'a2b3?' => False (fails on third condition)\n",
    "\n",
    "'applesaretasty' => False (fails on the first and second conditionss)\n",
    "\n",
    "'plum!' => False (fails on first and third conditions)\n",
    "\n",
    "'plum5' => False (fails on second and third conditions)\n",
    "\n",
    "'apple' => False (fails all three conditions)\n",
    "\n",
    "'<apple>1234' => True\n",
    "\n",
    "'!p1umsareblue' => True"
   ]
  },
  {
   "cell_type": "code",
   "execution_count": 6,
   "metadata": {},
   "outputs": [
    {
     "name": "stdout",
     "output_type": "stream",
     "text": [
      "ilikeplums! False\n",
      "plum2020 False\n",
      "a2b3? False\n",
      "applesaretasty False\n",
      "plum! False\n",
      "plum5 False\n",
      "apple False\n",
      "<apple>1234 True\n",
      "!p1umsareblue True\n"
     ]
    }
   ],
   "source": [
    "# this is a list with all the test passwords\n",
    "passwords_lst = ['ilikeplums!','plum2020','a2b3?','applesaretasty','plum!','plum5','apple','<apple>1234','!p1umsareblue']\n",
    "\n",
    "\n",
    "def safe_password(string):\n",
    "    if type(string) != str:\n",
    "        print('input is not string')\n",
    "        print(string)\n",
    "        raise ValueError\n",
    "        \n",
    "    nums_lst = ['0','1','2','3','4','5','6','7','8','9']\n",
    "    spec_chars_lst = ['$','#','@','.','!','?','<','>']\n",
    "    \n",
    "    cond1 = False\n",
    "    for char in string:\n",
    "        if char in nums_lst:\n",
    "            cond1 = True\n",
    "\n",
    "    cond2 = False\n",
    "    for char in string:\n",
    "        if char in spec_chars_lst:\n",
    "            cond2 = True\n",
    "\n",
    "    cond3 = len(string) > 6\n",
    "    \n",
    "    if cond1 and cond2 and cond3:\n",
    "        return True\n",
    "    else:\n",
    "        return False\n",
    "    \n",
    "passwords_lst = ['ilikeplums!','plum2020','a2b3?','applesaretasty','plum!','plum5','apple','<apple>1234','!p1umsareblue']\n",
    "\n",
    "for item in passwords_lst:\n",
    "    print(item,safe_password(item))"
   ]
  },
  {
   "cell_type": "markdown",
   "metadata": {},
   "source": [
    "## Exercise 2\n",
    "Write a function which takes a list of strings as input and it returns a list of booleans that are true for valid password strings and false otherwise. Call the function you wrote in exercise 1. Please check that the input to the function is indeed a list. If it is not, print a diagnostic message and raise a value error.\n",
    "\n",
    "Call the function with the list below and verify that the output list is correct."
   ]
  },
  {
   "cell_type": "code",
   "execution_count": 8,
   "metadata": {},
   "outputs": [
    {
     "name": "stdout",
     "output_type": "stream",
     "text": [
      "[False, False, False, False, False, False, False, True, True]\n"
     ]
    }
   ],
   "source": [
    "\n",
    "def check_passwords(input_lst):\n",
    "    \n",
    "    if type(input_lst) != list:\n",
    "        print('input is not list')\n",
    "        print(type(input_lst))\n",
    "        raise ValueError\n",
    "        \n",
    "    output_lst = []\n",
    "    for item in input_lst:\n",
    "        output = safe_password(item)\n",
    "        output_lst.append(output)\n",
    "    \n",
    "    return output_lst\n",
    "\n",
    "passwords_lst = ['ilikeplums!','plum2020','a2b3?','applesaretasty','plum!','plum5','apple','<apple>1234','!p1umsareblue']\n",
    "\n",
    "print(check_passwords(passwords_lst))"
   ]
  },
  {
   "cell_type": "markdown",
   "metadata": {},
   "source": [
    "## Exercise 3\n",
    "Write a function that takes a list as input and returns a new list with the unique elements of the input list. For example, if the input is [1,2,5,5,2,3,4,1,3], it returns [1,2,5,3,4]. The function should work with a list of strings or any other item types.\n",
    "\n",
    "As before, please check that the input is indeed a list and do the usual things if it is not.\n",
    "\n",
    "Come up with input lists to test your algorithm! "
   ]
  },
  {
   "cell_type": "code",
   "execution_count": 10,
   "metadata": {},
   "outputs": [
    {
     "name": "stdout",
     "output_type": "stream",
     "text": [
      "[1, 2, 5, 3, 4]\n"
     ]
    }
   ],
   "source": [
    "def unique_elements(input_lst):\n",
    "    if type(input_lst) != list:\n",
    "        print('input is not list')\n",
    "        print(type(input_lst))\n",
    "        raise ValueError\n",
    "        \n",
    "    output_lst = []\n",
    "    for item in input_lst:\n",
    "        if item not in output_lst:\n",
    "            output_lst.append(item)\n",
    "    \n",
    "    return output_lst\n",
    "\n",
    "test_lst = [1,2,5,5,2,3,4,1,3]\n",
    "print(unique_elements(test_lst))"
   ]
  },
  {
   "cell_type": "code",
   "execution_count": null,
   "metadata": {},
   "outputs": [],
   "source": []
  }
 ],
 "metadata": {
  "kernelspec": {
   "display_name": "Python 3",
   "language": "python",
   "name": "python3"
  },
  "language_info": {
   "codemirror_mode": {
    "name": "ipython",
    "version": 3
   },
   "file_extension": ".py",
   "mimetype": "text/x-python",
   "name": "python",
   "nbconvert_exporter": "python",
   "pygments_lexer": "ipython3",
   "version": "3.6.10"
  }
 },
 "nbformat": 4,
 "nbformat_minor": 4
}
