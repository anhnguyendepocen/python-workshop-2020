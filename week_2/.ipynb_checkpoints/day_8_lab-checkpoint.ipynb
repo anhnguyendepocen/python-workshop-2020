{
 "cells": [
  {
   "cell_type": "markdown",
   "metadata": {},
   "source": [
    "# <center> Problem 1 </center>"
   ]
  },
  {
   "cell_type": "markdown",
   "metadata": {},
   "source": [
    "## Create three dictionaries: `lloyd`, `alice`, and `tyler`.\n",
    "```\n",
    "lloyd = {\n",
    "  \"name\": \"Lloyd\",\n",
    "  \"homework\": [90.0,97.0,75.0,92.0],\n",
    "  \"quizzes\": [88.0,40.0,94.0],\n",
    "  \"tests\": [75.0,90.0]\n",
    "}\n",
    "alice = {\n",
    "  \"name\": \"Alice\",\n",
    "  \"homework\": [100.0, 92.0, 98.0, 100.0],\n",
    "  \"quizzes\": [82.0, 83.0, 91.0],\n",
    "  \"tests\": [89.0, 97.0]\n",
    "}\n",
    "tyler = {\n",
    "  \"name\": \"Tyler\",\n",
    "  \"homework\": [0.0, 87.0, 75.0, 22.0],\n",
    "  \"quizzes\": [0.0, 75.0, 78.0],\n",
    "  \"tests\": [100.0, 100.0]\n",
    "}\n",
    "```\n",
    "## Create a list called `students` that contains lloyd, alice, and tyler."
   ]
  },
  {
   "cell_type": "code",
   "execution_count": 2,
   "metadata": {},
   "outputs": [
    {
     "data": {
      "text/html": [
       "\n",
       "    \n",
       "    \n",
       "        <p>All tests passed!</p>\n",
       "    \n",
       "    "
      ],
      "text/plain": [
       "<gofer.ok.OKTestsResult at 0x7fe8809e1208>"
      ]
     },
     "execution_count": 2,
     "metadata": {},
     "output_type": "execute_result"
    }
   ],
   "source": [
    "from gofer.ok import check\n",
    "# write your code below this line\n",
    "\n",
    "lloyd = {\n",
    "    \"name\": \"Lloyd\",\n",
    "    \"homework\": [90.0, 97.0, 75.0, 92.0],\n",
    "    \"quizzes\": [88.0, 40.0, 94.0],\n",
    "    \"tests\": [75.0, 90.0]\n",
    "}\n",
    "alice = {\n",
    "    \"name\": \"Alice\",\n",
    "    \"homework\": [100.0, 92.0, 98.0, 100.0],\n",
    "    \"quizzes\": [82.0, 83.0, 91.0],\n",
    "    \"tests\": [89.0, 97.0]\n",
    "}\n",
    "tyler = {\n",
    "    \"name\": \"Tyler\",\n",
    "    \"homework\": [0.0, 87.0, 75.0, 22.0],\n",
    "    \"quizzes\": [0.0, 75.0, 78.0],\n",
    "    \"tests\": [100.0, 100.0]\n",
    "}\n",
    "\n",
    "students = [lloyd, alice, tyler]\n",
    "\n",
    "# write your code above this line\n",
    "check('tests/lab8_p1.py')"
   ]
  },
  {
   "cell_type": "markdown",
   "metadata": {},
   "source": [
    "## for each student in your `students` list, print out that student's data, as follows:\n",
    "* print the student's `name`\n",
    "* print the student's `homework`\n",
    "* print the student's `quizzes`\n",
    "* print the student's `tests`"
   ]
  },
  {
   "cell_type": "code",
   "execution_count": 5,
   "metadata": {},
   "outputs": [
    {
     "name": "stdout",
     "output_type": "stream",
     "text": [
      "Lloyd\n",
      "[90.0, 97.0, 75.0, 92.0]\n",
      "[88.0, 40.0, 94.0]\n",
      "[75.0, 90.0]\n",
      "Alice\n",
      "[100.0, 92.0, 98.0, 100.0]\n",
      "[82.0, 83.0, 91.0]\n",
      "[89.0, 97.0]\n",
      "Tyler\n",
      "[0.0, 87.0, 75.0, 22.0]\n",
      "[0.0, 75.0, 78.0]\n",
      "[100.0, 100.0]\n"
     ]
    },
    {
     "data": {
      "text/html": [
       "\n",
       "    \n",
       "    \n",
       "        <p>0 of 1 tests passed</p>\n",
       "        \n",
       "        \n",
       "        <p> <strong>Tests failed: </strong>\n",
       "            <ul>\n",
       "            \n",
       "                <li> \n",
       "    <p><strong style='color: red;'>tests/lab8_p2.py</strong></p>\n",
       "\n",
       "    <p><strong>Test code:</strong><pre><div class=\"highlight\" style=\"background: #f8f8f8\"><pre style=\"line-height: 125%\"><span></span><span style=\"color: #000080; font-weight: bold\">&gt;&gt;&gt; </span><span style=\"color: #408080; font-style: italic\"># It looks like there is a problem in your loop.</span>\n",
       "<span style=\"color: #000080; font-weight: bold\">&gt;&gt;&gt; </span>_ <span style=\"color: #666666\">==</span> [<span style=\"color: #666666\">100.0</span>, <span style=\"color: #666666\">100.0</span>]\n",
       "<span style=\"color: #888888\">True</span>\n",
       "</pre></div>\n",
       "</pre></p>\n",
       "\n",
       "    <p><strong>Test result:</strong><pre>Trying:\n",
       "    _ == [100.0, 100.0]\n",
       "Expecting:\n",
       "    True\n",
       "**********************************************************************\n",
       "Line 3, in tests/lab8_p2.py 0\n",
       "Failed example:\n",
       "    _ == [100.0, 100.0]\n",
       "Expected:\n",
       "    True\n",
       "Got:\n",
       "    False\n",
       "</pre></p>\n",
       "     </li>\n",
       "            \n",
       "            </ul>\n",
       "        \n",
       "    \n",
       "    "
      ],
      "text/plain": [
       "<gofer.ok.OKTestsResult at 0x7fe880b329b0>"
      ]
     },
     "execution_count": 5,
     "metadata": {},
     "output_type": "execute_result"
    }
   ],
   "source": [
    "for student in students:\n",
    "    print(student[\"name\"])\n",
    "    print(student[\"homework\"])\n",
    "    print(student[\"quizzes\"])\n",
    "    print(student[\"tests\"])"
   ]
  },
  {
   "cell_type": "markdown",
   "metadata": {},
   "source": [
    "## Write a function `average` that takes a list of numbers and returns the average.\n",
    "* Inside that function, call the built-in `sum()` function with the numbers list as a parameter. Store the result in a variable called `total`.\n",
    "* Divide `total` by the length of the numbers list. Use the built-in `len()` function to calculate that.\n",
    "* Return that result.\n",
    "\n",
    "## Test your function. Call your `get_average` function with `[1,2,3]`. Assign the resulting average to a variable called `avg_flt` and print."
   ]
  },
  {
   "cell_type": "code",
   "execution_count": 3,
   "metadata": {},
   "outputs": [
    {
     "name": "stdout",
     "output_type": "stream",
     "text": [
      "2.0\n"
     ]
    },
    {
     "ename": "FileNotFoundError",
     "evalue": "[Errno 2] No such file or directory: 'tests/lab8_p3.py'",
     "output_type": "error",
     "traceback": [
      "\u001b[0;31m---------------------------------------------------------------------------\u001b[0m",
      "\u001b[0;31mFileNotFoundError\u001b[0m                         Traceback (most recent call last)",
      "\u001b[0;32m<ipython-input-3-1aec0ea87cc0>\u001b[0m in \u001b[0;36m<module>\u001b[0;34m()\u001b[0m\n\u001b[1;32m      8\u001b[0m \u001b[0;34m\u001b[0m\u001b[0m\n\u001b[1;32m      9\u001b[0m \u001b[0;31m# write your code above this line\u001b[0m\u001b[0;34m\u001b[0m\u001b[0;34m\u001b[0m\u001b[0m\n\u001b[0;32m---> 10\u001b[0;31m \u001b[0mcheck\u001b[0m\u001b[0;34m(\u001b[0m\u001b[0;34m'tests/lab8_p3.py'\u001b[0m\u001b[0;34m)\u001b[0m\u001b[0;34m\u001b[0m\u001b[0m\n\u001b[0m",
      "\u001b[0;32m~/.pyenv/versions/anaconda3-5.3.1/lib/python3.7/site-packages/gofer/ok.py\u001b[0m in \u001b[0;36mcheck\u001b[0;34m(test_file_path, global_env)\u001b[0m\n\u001b[1;32m    289\u001b[0m     \u001b[0mReturns\u001b[0m \u001b[0ma\u001b[0m \u001b[0mTestResult\u001b[0m \u001b[0mobject\u001b[0m\u001b[0;34m.\u001b[0m\u001b[0;34m\u001b[0m\u001b[0m\n\u001b[1;32m    290\u001b[0m     \"\"\"\n\u001b[0;32m--> 291\u001b[0;31m     \u001b[0mtests\u001b[0m \u001b[0;34m=\u001b[0m \u001b[0mOKTests\u001b[0m\u001b[0;34m(\u001b[0m\u001b[0;34m[\u001b[0m\u001b[0mtest_file_path\u001b[0m\u001b[0;34m]\u001b[0m\u001b[0;34m)\u001b[0m\u001b[0;34m\u001b[0m\u001b[0m\n\u001b[0m\u001b[1;32m    292\u001b[0m \u001b[0;34m\u001b[0m\u001b[0m\n\u001b[1;32m    293\u001b[0m     \u001b[0;32mif\u001b[0m \u001b[0mglobal_env\u001b[0m \u001b[0;32mis\u001b[0m \u001b[0;32mNone\u001b[0m\u001b[0;34m:\u001b[0m\u001b[0;34m\u001b[0m\u001b[0m\n",
      "\u001b[0;32m~/.pyenv/versions/anaconda3-5.3.1/lib/python3.7/site-packages/gofer/ok.py\u001b[0m in \u001b[0;36m__init__\u001b[0;34m(self, test_paths)\u001b[0m\n\u001b[1;32m    136\u001b[0m     \u001b[0;32mdef\u001b[0m \u001b[0m__init__\u001b[0m\u001b[0;34m(\u001b[0m\u001b[0mself\u001b[0m\u001b[0;34m,\u001b[0m \u001b[0mtest_paths\u001b[0m\u001b[0;34m)\u001b[0m\u001b[0;34m:\u001b[0m\u001b[0;34m\u001b[0m\u001b[0m\n\u001b[1;32m    137\u001b[0m         \u001b[0mself\u001b[0m\u001b[0;34m.\u001b[0m\u001b[0mpaths\u001b[0m \u001b[0;34m=\u001b[0m \u001b[0mtest_paths\u001b[0m\u001b[0;34m\u001b[0m\u001b[0m\n\u001b[0;32m--> 138\u001b[0;31m         \u001b[0mself\u001b[0m\u001b[0;34m.\u001b[0m\u001b[0mtests\u001b[0m \u001b[0;34m=\u001b[0m \u001b[0;34m[\u001b[0m\u001b[0mOKTest\u001b[0m\u001b[0;34m.\u001b[0m\u001b[0mfrom_file\u001b[0m\u001b[0;34m(\u001b[0m\u001b[0mpath\u001b[0m\u001b[0;34m)\u001b[0m \u001b[0;32mfor\u001b[0m \u001b[0mpath\u001b[0m \u001b[0;32min\u001b[0m \u001b[0mself\u001b[0m\u001b[0;34m.\u001b[0m\u001b[0mpaths\u001b[0m\u001b[0;34m]\u001b[0m\u001b[0;34m\u001b[0m\u001b[0m\n\u001b[0m\u001b[1;32m    139\u001b[0m \u001b[0;34m\u001b[0m\u001b[0m\n\u001b[1;32m    140\u001b[0m     \u001b[0;32mdef\u001b[0m \u001b[0mrun\u001b[0m\u001b[0;34m(\u001b[0m\u001b[0mself\u001b[0m\u001b[0;34m,\u001b[0m \u001b[0mglobal_environment\u001b[0m\u001b[0;34m,\u001b[0m \u001b[0minclude_grade\u001b[0m\u001b[0;34m=\u001b[0m\u001b[0;32mTrue\u001b[0m\u001b[0;34m)\u001b[0m\u001b[0;34m:\u001b[0m\u001b[0;34m\u001b[0m\u001b[0m\n",
      "\u001b[0;32m~/.pyenv/versions/anaconda3-5.3.1/lib/python3.7/site-packages/gofer/ok.py\u001b[0m in \u001b[0;36m<listcomp>\u001b[0;34m(.0)\u001b[0m\n\u001b[1;32m    136\u001b[0m     \u001b[0;32mdef\u001b[0m \u001b[0m__init__\u001b[0m\u001b[0;34m(\u001b[0m\u001b[0mself\u001b[0m\u001b[0;34m,\u001b[0m \u001b[0mtest_paths\u001b[0m\u001b[0;34m)\u001b[0m\u001b[0;34m:\u001b[0m\u001b[0;34m\u001b[0m\u001b[0m\n\u001b[1;32m    137\u001b[0m         \u001b[0mself\u001b[0m\u001b[0;34m.\u001b[0m\u001b[0mpaths\u001b[0m \u001b[0;34m=\u001b[0m \u001b[0mtest_paths\u001b[0m\u001b[0;34m\u001b[0m\u001b[0m\n\u001b[0;32m--> 138\u001b[0;31m         \u001b[0mself\u001b[0m\u001b[0;34m.\u001b[0m\u001b[0mtests\u001b[0m \u001b[0;34m=\u001b[0m \u001b[0;34m[\u001b[0m\u001b[0mOKTest\u001b[0m\u001b[0;34m.\u001b[0m\u001b[0mfrom_file\u001b[0m\u001b[0;34m(\u001b[0m\u001b[0mpath\u001b[0m\u001b[0;34m)\u001b[0m \u001b[0;32mfor\u001b[0m \u001b[0mpath\u001b[0m \u001b[0;32min\u001b[0m \u001b[0mself\u001b[0m\u001b[0;34m.\u001b[0m\u001b[0mpaths\u001b[0m\u001b[0;34m]\u001b[0m\u001b[0;34m\u001b[0m\u001b[0m\n\u001b[0m\u001b[1;32m    139\u001b[0m \u001b[0;34m\u001b[0m\u001b[0m\n\u001b[1;32m    140\u001b[0m     \u001b[0;32mdef\u001b[0m \u001b[0mrun\u001b[0m\u001b[0;34m(\u001b[0m\u001b[0mself\u001b[0m\u001b[0;34m,\u001b[0m \u001b[0mglobal_environment\u001b[0m\u001b[0;34m,\u001b[0m \u001b[0minclude_grade\u001b[0m\u001b[0;34m=\u001b[0m\u001b[0;32mTrue\u001b[0m\u001b[0;34m)\u001b[0m\u001b[0;34m:\u001b[0m\u001b[0;34m\u001b[0m\u001b[0m\n",
      "\u001b[0;32m~/.pyenv/versions/anaconda3-5.3.1/lib/python3.7/site-packages/gofer/ok.py\u001b[0m in \u001b[0;36mfrom_file\u001b[0;34m(cls, path)\u001b[0m\n\u001b[1;32m    103\u001b[0m         \u001b[0;31m# ok test files are python files, with a global 'test' defined\u001b[0m\u001b[0;34m\u001b[0m\u001b[0;34m\u001b[0m\u001b[0m\n\u001b[1;32m    104\u001b[0m         \u001b[0mtest_globals\u001b[0m \u001b[0;34m=\u001b[0m \u001b[0;34m{\u001b[0m\u001b[0;34m}\u001b[0m\u001b[0;34m\u001b[0m\u001b[0m\n\u001b[0;32m--> 105\u001b[0;31m         \u001b[0;32mwith\u001b[0m \u001b[0mopen\u001b[0m\u001b[0;34m(\u001b[0m\u001b[0mpath\u001b[0m\u001b[0;34m)\u001b[0m \u001b[0;32mas\u001b[0m \u001b[0mf\u001b[0m\u001b[0;34m:\u001b[0m\u001b[0;34m\u001b[0m\u001b[0m\n\u001b[0m\u001b[1;32m    106\u001b[0m             \u001b[0mexec\u001b[0m\u001b[0;34m(\u001b[0m\u001b[0mf\u001b[0m\u001b[0;34m.\u001b[0m\u001b[0mread\u001b[0m\u001b[0;34m(\u001b[0m\u001b[0;34m)\u001b[0m\u001b[0;34m,\u001b[0m \u001b[0mtest_globals\u001b[0m\u001b[0;34m)\u001b[0m\u001b[0;34m\u001b[0m\u001b[0m\n\u001b[1;32m    107\u001b[0m \u001b[0;34m\u001b[0m\u001b[0m\n",
      "\u001b[0;31mFileNotFoundError\u001b[0m: [Errno 2] No such file or directory: 'tests/lab8_p3.py'"
     ]
    }
   ],
   "source": [
    "def average(numbers):\n",
    "    total = sum(numbers)\n",
    "    mean = total/(len(numbers))\n",
    "    return mean\n",
    "\n",
    "avg_flt = average([1,2,3])\n",
    "print(avg_flt)\n",
    "\n",
    "# write your code above this line\n",
    "check('tests/lab8_p2.py')"
   ]
  },
  {
   "cell_type": "markdown",
   "metadata": {},
   "source": [
    "## Write a function called `get_average` that takes a student dictionary (like `lloyd`, `alice`, or `tyler`) as input and returns the student's weighted average.\n",
    "* Make a variable `homework` that stores the `average()` of `student[\"homework\"]`.\n",
    "* Repeat step 2 for `quizzes` and `tests`.\n",
    "* Multiply the 3 averages by their weights and return the sum of those three. Homework is 10%, quizzes are 30% and tests are 60%.\n",
    "## Test your function. Call your `get_average` function with `lloyd` and set the result to a variable called `lloyd_avg_flt`. Print the resulting average grade."
   ]
  },
  {
   "cell_type": "code",
   "execution_count": 14,
   "metadata": {},
   "outputs": [
    {
     "data": {
      "text/plain": [
       "80.55"
      ]
     },
     "execution_count": 14,
     "metadata": {},
     "output_type": "execute_result"
    }
   ],
   "source": [
    "def get_average(student):\n",
    "    homework = average(student[\"homework\"])\n",
    "    quizzes = average(student[\"quizzes\"])\n",
    "    tests = average(student[\"tests\"])\n",
    "    final = 0.1*homework + 0.3*quizzes + 0.6*tests\n",
    "    return final\n",
    "\n",
    "lloyd_avg_flt = get_average(lloyd)\n",
    "print(lloyd_avg_flt)\n",
    "\n",
    "# write your code above this line\n",
    "check('tests/lab8_p3.py')"
   ]
  },
  {
   "cell_type": "markdown",
   "metadata": {},
   "source": [
    "## Define a new function called `get_letter_grade` that has one argument called `score`. Expect `score` to be a number.\n",
    "\n",
    "### Inside your function, test `score` using a chain of `if:` / `elif:` / `else:` statements, like so:\n",
    "\n",
    "* If score is 90 or above: return \"A\"\n",
    "* Else if score is 80 or above: return \"B\"\n",
    "* Else if score is 70 or above: return \"C\"\n",
    "* Else if score is 60 or above: return \"D\"\n",
    "* Otherwise: return \"F\"\n",
    "\n",
    "## Finally, test your function. Call your `get_letter_grade` function with the result of `get_average(lloyd)` and assign the result to a variable caled `lloyd_avg_str`. Print the resulting letter grade."
   ]
  },
  {
   "cell_type": "code",
   "execution_count": 16,
   "metadata": {},
   "outputs": [
    {
     "name": "stdout",
     "output_type": "stream",
     "text": [
      "B\n"
     ]
    }
   ],
   "source": [
    "def get_letter_grade(score):\n",
    "    if score >= 90:\n",
    "        return \"A\"\n",
    "    elif score >=80:\n",
    "        return \"B\"\n",
    "    elif score >=70:\n",
    "        return \"C\"\n",
    "    elif score >=60:\n",
    "        return \"D\"\n",
    "    else:\n",
    "        return \"F\"\n",
    "\n",
    "lloyd_avg_str = get_letter_grade(get_average(lloyd))\n",
    "print(lloyd_avg_str)\n",
    "\n",
    "# write your code above this line\n",
    "check('tests/lab8_p4.py')"
   ]
  },
  {
   "cell_type": "markdown",
   "metadata": {},
   "source": [
    "## Define a function called `get_class_average` that has one argument, `students`. You can expect `students` to be a list containing your three students.\n",
    "* First, make an empty list called `results`.\n",
    "* For each student item in the class list, calculate `get_average(student)` and then call `results.append()` with that result.\n",
    "* Finally, return the result of calling `average()` with `results`.\n",
    "* Finally, assign the result of calling `get_class_average` with your `students` list to a variable called `class_avg_flt` and print. Your students should be `[lloyd, alice, tyler]`."
   ]
  },
  {
   "cell_type": "code",
   "execution_count": 17,
   "metadata": {},
   "outputs": [
    {
     "name": "stdout",
     "output_type": "stream",
     "text": [
      "83.86666666666666\n"
     ]
    }
   ],
   "source": [
    "def get_class_average(students):\n",
    "    results = []\n",
    "    for student in students:\n",
    "        result = get_average(student)\n",
    "        results.append(result)\n",
    "\n",
    "    return average(results)\n",
    "\n",
    "class_avg_flt = get_class_average(students)\n",
    "print(class_avg_flt)\n",
    "\n",
    "# write your code above this line\n",
    "check('tests/lab8_p5.py')"
   ]
  },
  {
   "cell_type": "markdown",
   "metadata": {},
   "source": [
    "## Then, assign the result of `get_letter_grade` for the class's average to a variable called `class_avg_str` and print."
   ]
  },
  {
   "cell_type": "code",
   "execution_count": 18,
   "metadata": {},
   "outputs": [
    {
     "name": "stdout",
     "output_type": "stream",
     "text": [
      "B\n"
     ]
    }
   ],
   "source": [
    "class_avg_str = get_letter_grade(get_class_average(students))\n",
    "print(class_avg_str)\n",
    "\n",
    "# write your code above this line\n",
    "check('tests/lab8_p6.py')"
   ]
  },
  {
   "cell_type": "markdown",
   "metadata": {},
   "source": [
    "# <center> Problem 2 </center>"
   ]
  },
  {
   "cell_type": "markdown",
   "metadata": {},
   "source": [
    "## Make a list called groceries with the values \"banana\",\"orange\", and \"apple\".\n",
    "## Define these two dictionaries:\n",
    "```\n",
    "stock = {\n",
    "    \"banana\": 6,\n",
    "    \"apple\": 0,\n",
    "    \"orange\": 32,\n",
    "    \"pear\": 15\n",
    "}\n",
    "\n",
    "prices = {\n",
    "    \"banana\": 4,\n",
    "    \"apple\": 2,\n",
    "    \"orange\": 1.5,\n",
    "    \"pear\": 3\n",
    "}\n",
    "```"
   ]
  },
  {
   "cell_type": "code",
   "execution_count": 1,
   "metadata": {},
   "outputs": [],
   "source": [
    "groceries = ['banana', 'orange', 'apple']\n",
    "\n",
    "stock = {\n",
    "    \"banana\": 6,\n",
    "    \"apple\": 0,\n",
    "    \"orange\": 32,\n",
    "    \"pear\": 15\n",
    "}\n",
    "\n",
    "prices = {\n",
    "    \"banana\": 4,\n",
    "    \"apple\": 2,\n",
    "    \"orange\": 1.5,\n",
    "    \"pear\": 3\n",
    "}\n",
    "\n",
    "# write your code above this line\n",
    "check('tests/lab8_p7.py')"
   ]
  },
  {
   "cell_type": "markdown",
   "metadata": {},
   "source": [
    "## Define a function, `compute_bill`, that takes one argument, `food`, as input. \n",
    "* In the function, create a variable `total` with an initial value of zero. \n",
    "* For each item in the `food` list, add the price of that item to `total`. \n",
    "* Finally, return the `total` and assign to a variable called `groc_tot_flt`. Print the result.\n",
    "* Ignore whether or not the item you're billing for is in stock. \n",
    "* Note that your function should work for any food list."
   ]
  },
  {
   "cell_type": "code",
   "execution_count": 4,
   "metadata": {},
   "outputs": [
    {
     "name": "stdout",
     "output_type": "stream",
     "text": [
      "7.5\n"
     ]
    }
   ],
   "source": [
    "def compute_bill(food):\n",
    "    total = 0\n",
    "    for x in food:\n",
    "        price = prices[x]\n",
    "        total = total + price\n",
    "    return total\n",
    "\n",
    "groc_tot_flt = compute_bill(groceries)\n",
    "print(groc_tot_flt)\n",
    "\n",
    "# write your code above this line\n",
    "check('tests/lab8_p8.py')"
   ]
  },
  {
   "cell_type": "markdown",
   "metadata": {},
   "source": [
    "## Bonus: Make the following changes to your compute_bill function:\n",
    "* While you loop through each item of `food`, only add the price of the item to `total` if the item's `stock` count is greater than zero.\n",
    "* If the item is in `stock` and after you add the price to the `total`, subtract one from the item's `stock` count.\n",
    "* Return the total and assign to a variable called `better_groc_tot_flt`. Print the result."
   ]
  },
  {
   "cell_type": "code",
   "execution_count": 5,
   "metadata": {},
   "outputs": [
    {
     "name": "stdout",
     "output_type": "stream",
     "text": [
      "5.5\n"
     ]
    }
   ],
   "source": [
    "def compute_bill(food):\n",
    "    total = 0\n",
    "    for x in food:\n",
    "        price = prices[x]\n",
    "        if stock[x] > 0:\n",
    "            total = total + price\n",
    "            stock[x] = stock[x] -1\n",
    "    return total\n",
    "\n",
    "better_groc_tot_flt = compute_bill(groceries)\n",
    "print(better_groc_tot_flt)\n",
    "\n",
    "# write your code above this line\n",
    "check('tests/lab8_p9.py')"
   ]
  }
 ],
 "metadata": {
  "kernelspec": {
   "display_name": "Python 3",
   "language": "python",
   "name": "python3"
  },
  "language_info": {
   "codemirror_mode": {
    "name": "ipython",
    "version": 3
   },
   "file_extension": ".py",
   "mimetype": "text/x-python",
   "name": "python",
   "nbconvert_exporter": "python",
   "pygments_lexer": "ipython3",
   "version": "3.7.0"
  }
 },
 "nbformat": 4,
 "nbformat_minor": 2
}
