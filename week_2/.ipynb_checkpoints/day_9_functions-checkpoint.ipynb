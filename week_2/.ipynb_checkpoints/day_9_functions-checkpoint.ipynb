{
 "cells": [
  {
   "cell_type": "markdown",
   "metadata": {
    "slideshow": {
     "slide_type": "slide"
    }
   },
   "source": [
    "# Functions - the 'sentences' of programing languages\n",
    "Very little new material today. We will practice everything we learnt so far.\n",
    "\n",
    "### By the end of the day you'll be able to\n",
    "- test your function inputs\n"
   ]
  },
  {
   "cell_type": "markdown",
   "metadata": {
    "slideshow": {
     "slide_type": "slide"
    }
   },
   "source": [
    "## Overview\n",
    "\n",
    "We covered a lot so far!\n",
    "\n",
    "- variables\n",
    "- container types\n",
    "- control flow (if statements and for loops)\n",
    "- functions\n",
    "\n",
    "You can solve a ton of problems by combining these pieces"
   ]
  },
  {
   "cell_type": "markdown",
   "metadata": {
    "slideshow": {
     "slide_type": "slide"
    }
   },
   "source": [
    "### <font color='LIGHTGRAY'>By the end of the day you'll be able to</font>\n",
    "- **test your function inputs**\n"
   ]
  },
  {
   "cell_type": "markdown",
   "metadata": {
    "slideshow": {
     "slide_type": "slide"
    }
   },
   "source": [
    "## Type of errors\n",
    "- obvious errors that give you an error message\n",
    "   - usually syntax errors, forgotten :, type error, forgotten tabs, etc.\n",
    "   - it can be quickly resolved with some googling\n",
    "- sneaky errors that don't throw an error message\n",
    "   - your code runs but the results are incorrect\n",
    "   - it can only be caught by extensive testing   "
   ]
  },
  {
   "cell_type": "markdown",
   "metadata": {
    "slideshow": {
     "slide_type": "subslide"
    }
   },
   "source": [
    "- test-driven development is encouraged!\n",
    "   - figure out how you'll test your code even before you start writing it!\n",
    "- test your data too!\n",
    "   - what properties do you expect the data to have?\n",
    "   - test those!\n",
    "   - errors in data collection often occur"
   ]
  },
  {
   "cell_type": "markdown",
   "metadata": {
    "slideshow": {
     "slide_type": "slide"
    }
   },
   "source": [
    "### How to test your data?\n",
    "- consider what properties the input data to your functions should have:\n",
    "- age should be larger than 0 but smaller than ~150\n",
    "   - sounds obvious but negative values or values over 200 can occur due to typos\n",
    "- salary should be positive\n",
    "- names should not contain non-alpha characters like numbers or special characters"
   ]
  },
  {
   "cell_type": "markdown",
   "metadata": {
    "slideshow": {
     "slide_type": "slide"
    }
   },
   "source": [
    "## Example"
   ]
  },
  {
   "cell_type": "code",
   "execution_count": 51,
   "metadata": {},
   "outputs": [],
   "source": [
    "employees_dict = {}\n",
    "employees_dict['employee1'] = [50000,'male',39] # salary, gender, age\n",
    "employees_dict['employee2'] = [70000,'female',46]\n",
    "employees_dict['employee3'] = [60000,'female',56]\n",
    "employees_dict['employee4'] = [130000,'male',60]\n",
    "employees_dict['employee5'] = [80000,'female',29]\n",
    "employees_dict['employee6'] = [40000,'female',45]\n",
    "employees_dict['employee7'] = [70000,'male',34]"
   ]
  },
  {
   "cell_type": "code",
   "execution_count": 52,
   "metadata": {
    "slideshow": {
     "slide_type": "subslide"
    }
   },
   "outputs": [],
   "source": [
    "# let's test data first\n",
    "\n",
    "def test_employee_dictionary(input_dict):\n",
    "    # let's iterate through each key-value pair and write tests\n",
    "    for key,value in input_dict.items():\n",
    "        # salary: salary should be positive\n",
    "        if value[0] < 0:\n",
    "            print('salary is negative')\n",
    "            print(key,value)\n",
    "            raise ValueError\n",
    "        # gender should only be 'male' or 'female'\n",
    "        if (value[1] != 'male') and (value[1] != 'female'):\n",
    "            print('unrecognized gender value')\n",
    "            print(key,value)\n",
    "            raise ValueError\n",
    "        # age should be between 0 and 150\n",
    "        if (value[2] < 0) or (value[2] > 150):\n",
    "            print('age is unrealistic')\n",
    "            print(key,value)\n",
    "            raise ValueError\n",
    "    return\n",
    "\n",
    "test_employee_dictionary(employees_dict)"
   ]
  },
  {
   "cell_type": "code",
   "execution_count": 54,
   "metadata": {
    "slideshow": {
     "slide_type": "slide"
    }
   },
   "outputs": [
    {
     "name": "stdout",
     "output_type": "stream",
     "text": [
      "83333.33333333333 62500\n"
     ]
    }
   ],
   "source": [
    "# let's compare the mean salaries of males and females\n",
    "import statistics\n",
    "\n",
    "def mean_salaries_by_gender(input_dict):\n",
    "    # test the data\n",
    "    test_employee_dictionary(input_dict)\n",
    "    \n",
    "    male_salaries = []\n",
    "    female_salaries = []\n",
    "    for key,value in input_dict.items():\n",
    "        if value[1] == 'male':\n",
    "            male_salaries.append(value[0])\n",
    "        else:\n",
    "            female_salaries.append(value[0])\n",
    "    \n",
    "    mean_male_salary = statistics.mean(male_salaries)\n",
    "    mean_female_salary = statistics.mean(female_salaries)\n",
    "    \n",
    "    return mean_male_salary, mean_female_salary\n",
    "\n",
    "male_sal_flt, female_sal_flt = mean_salaries_by_gender(employees_dict)\n",
    "print(male_sal_flt, female_sal_flt)"
   ]
  },
  {
   "cell_type": "markdown",
   "metadata": {
    "slideshow": {
     "slide_type": "slide"
    }
   },
   "source": [
    "## Exercise 1\n",
    "Compare the mean salaries of people under 45 vs 45 and above. Call the function mean_salaries_by_age."
   ]
  },
  {
   "cell_type": "code",
   "execution_count": 55,
   "metadata": {},
   "outputs": [
    {
     "name": "stdout",
     "output_type": "stream",
     "text": [
      "66666.66666666667 75000\n"
     ]
    }
   ],
   "source": [
    "def mean_salaries_by_age(input_dict):\n",
    "    # test the data\n",
    "    #test_employee_dictionary(input_dict)\n",
    "    \n",
    "    below_45_salaries = []\n",
    "    above_45_salaries = []\n",
    "    for key,value in input_dict.items():\n",
    "        if value[2] < 45:\n",
    "            below_45_salaries.append(value[0])\n",
    "        else:\n",
    "            above_45_salaries.append(value[0])\n",
    "    \n",
    "    mean_below45_salary = statistics.mean(below_45_salaries)\n",
    "    mean_above45_salary = statistics.mean(above_45_salaries)\n",
    "    \n",
    "    return mean_below45_salary, mean_above45_salary\n",
    "\n",
    "below45_sal_flt, above45_sal_flt = mean_salaries_by_age(employees_dict)\n",
    "print(below45_sal_flt, above45_sal_flt)"
   ]
  },
  {
   "cell_type": "markdown",
   "metadata": {
    "slideshow": {
     "slide_type": "slide"
    }
   },
   "source": [
    "## Exercise 2\n",
    "Modify the function such that the critical age (which was 45 years in exercise 1) is an input to the function and can be changed. Please check that this function returns the same result as before for critical_age = 45! What happens if you set critical age to 0 or to 100?"
   ]
  },
  {
   "cell_type": "code",
   "execution_count": 58,
   "metadata": {
    "scrolled": true
   },
   "outputs": [
    {
     "ename": "StatisticsError",
     "evalue": "mean requires at least one data point",
     "output_type": "error",
     "traceback": [
      "\u001b[0;31m---------------------------------------------------------------------------\u001b[0m",
      "\u001b[0;31mStatisticsError\u001b[0m                           Traceback (most recent call last)",
      "\u001b[0;32m<ipython-input-58-48a43dc8ee0b>\u001b[0m in \u001b[0;36m<module>\u001b[0;34m\u001b[0m\n\u001b[1;32m     16\u001b[0m     \u001b[0;32mreturn\u001b[0m \u001b[0mmean_below_salary\u001b[0m\u001b[0;34m,\u001b[0m \u001b[0mmean_above_salary\u001b[0m\u001b[0;34m\u001b[0m\u001b[0;34m\u001b[0m\u001b[0m\n\u001b[1;32m     17\u001b[0m \u001b[0;34m\u001b[0m\u001b[0m\n\u001b[0;32m---> 18\u001b[0;31m \u001b[0mbelow_sal_flt\u001b[0m\u001b[0;34m,\u001b[0m \u001b[0mabove_sal_flt\u001b[0m \u001b[0;34m=\u001b[0m \u001b[0mmean_salaries_by_age\u001b[0m\u001b[0;34m(\u001b[0m\u001b[0memployees_dict\u001b[0m\u001b[0;34m,\u001b[0m\u001b[0;36m100\u001b[0m\u001b[0;34m)\u001b[0m\u001b[0;34m\u001b[0m\u001b[0;34m\u001b[0m\u001b[0m\n\u001b[0m\u001b[1;32m     19\u001b[0m \u001b[0mprint\u001b[0m\u001b[0;34m(\u001b[0m\u001b[0mbelow_sal_flt\u001b[0m\u001b[0;34m,\u001b[0m \u001b[0mabove_sal_flt\u001b[0m\u001b[0;34m)\u001b[0m\u001b[0;34m\u001b[0m\u001b[0;34m\u001b[0m\u001b[0m\n",
      "\u001b[0;32m<ipython-input-58-48a43dc8ee0b>\u001b[0m in \u001b[0;36mmean_salaries_by_age\u001b[0;34m(input_dict, critical_age)\u001b[0m\n\u001b[1;32m     12\u001b[0m \u001b[0;34m\u001b[0m\u001b[0m\n\u001b[1;32m     13\u001b[0m     \u001b[0mmean_below_salary\u001b[0m \u001b[0;34m=\u001b[0m \u001b[0mstatistics\u001b[0m\u001b[0;34m.\u001b[0m\u001b[0mmean\u001b[0m\u001b[0;34m(\u001b[0m\u001b[0mbelow_salaries\u001b[0m\u001b[0;34m)\u001b[0m\u001b[0;34m\u001b[0m\u001b[0;34m\u001b[0m\u001b[0m\n\u001b[0;32m---> 14\u001b[0;31m     \u001b[0mmean_above_salary\u001b[0m \u001b[0;34m=\u001b[0m \u001b[0mstatistics\u001b[0m\u001b[0;34m.\u001b[0m\u001b[0mmean\u001b[0m\u001b[0;34m(\u001b[0m\u001b[0mabove_salaries\u001b[0m\u001b[0;34m)\u001b[0m\u001b[0;34m\u001b[0m\u001b[0;34m\u001b[0m\u001b[0m\n\u001b[0m\u001b[1;32m     15\u001b[0m \u001b[0;34m\u001b[0m\u001b[0m\n\u001b[1;32m     16\u001b[0m     \u001b[0;32mreturn\u001b[0m \u001b[0mmean_below_salary\u001b[0m\u001b[0;34m,\u001b[0m \u001b[0mmean_above_salary\u001b[0m\u001b[0;34m\u001b[0m\u001b[0;34m\u001b[0m\u001b[0m\n",
      "\u001b[0;32m/anaconda3/envs/datasci_v0.0.2_local4/lib/python3.6/statistics.py\u001b[0m in \u001b[0;36mmean\u001b[0;34m(data)\u001b[0m\n\u001b[1;32m    309\u001b[0m     \u001b[0mn\u001b[0m \u001b[0;34m=\u001b[0m \u001b[0mlen\u001b[0m\u001b[0;34m(\u001b[0m\u001b[0mdata\u001b[0m\u001b[0;34m)\u001b[0m\u001b[0;34m\u001b[0m\u001b[0;34m\u001b[0m\u001b[0m\n\u001b[1;32m    310\u001b[0m     \u001b[0;32mif\u001b[0m \u001b[0mn\u001b[0m \u001b[0;34m<\u001b[0m \u001b[0;36m1\u001b[0m\u001b[0;34m:\u001b[0m\u001b[0;34m\u001b[0m\u001b[0;34m\u001b[0m\u001b[0m\n\u001b[0;32m--> 311\u001b[0;31m         \u001b[0;32mraise\u001b[0m \u001b[0mStatisticsError\u001b[0m\u001b[0;34m(\u001b[0m\u001b[0;34m'mean requires at least one data point'\u001b[0m\u001b[0;34m)\u001b[0m\u001b[0;34m\u001b[0m\u001b[0;34m\u001b[0m\u001b[0m\n\u001b[0m\u001b[1;32m    312\u001b[0m     \u001b[0mT\u001b[0m\u001b[0;34m,\u001b[0m \u001b[0mtotal\u001b[0m\u001b[0;34m,\u001b[0m \u001b[0mcount\u001b[0m \u001b[0;34m=\u001b[0m \u001b[0m_sum\u001b[0m\u001b[0;34m(\u001b[0m\u001b[0mdata\u001b[0m\u001b[0;34m)\u001b[0m\u001b[0;34m\u001b[0m\u001b[0;34m\u001b[0m\u001b[0m\n\u001b[1;32m    313\u001b[0m     \u001b[0;32massert\u001b[0m \u001b[0mcount\u001b[0m \u001b[0;34m==\u001b[0m \u001b[0mn\u001b[0m\u001b[0;34m\u001b[0m\u001b[0;34m\u001b[0m\u001b[0m\n",
      "\u001b[0;31mStatisticsError\u001b[0m: mean requires at least one data point"
     ]
    }
   ],
   "source": [
    "def mean_salaries_by_age(input_dict,critical_age):\n",
    "    # test the data\n",
    "    #test_employee_dictionary(input_dict)\n",
    "    \n",
    "    below_salaries = []\n",
    "    above_salaries = []\n",
    "    for key,value in input_dict.items():\n",
    "        if value[2] < critical_age:\n",
    "            below_salaries.append(value[0])\n",
    "        else:\n",
    "            above_salaries.append(value[0])\n",
    "    \n",
    "    mean_below_salary = statistics.mean(below_salaries)\n",
    "    mean_above_salary = statistics.mean(above_salaries)\n",
    "    \n",
    "    return mean_below_salary, mean_above_salary\n",
    "\n",
    "below_sal_flt, above_sal_flt = mean_salaries_by_age(employees_dict,100)\n",
    "print(below_sal_flt, above_sal_flt)"
   ]
  },
  {
   "cell_type": "markdown",
   "metadata": {
    "slideshow": {
     "slide_type": "slide"
    }
   },
   "source": [
    "## Exercise 3\n",
    "Take the bubble sort algorithm from two days ago, wrap it in a function, and add a test on top to check if all items in the list are float or int. If there are non-numeric elements in the list, the code should print a diagnostic message and raise a value error."
   ]
  },
  {
   "cell_type": "code",
   "execution_count": null,
   "metadata": {},
   "outputs": [],
   "source": [
    "# bubble sort algorithm\n",
    "for i in range(len(nums_lst)):\n",
    "    for j in range(i):\n",
    "        if nums_lst[j] > nums_lst[i]: # if an item is smaller than its neighbor, switch them\n",
    "            temp = nums_lst[i] # temporary variable\n",
    "            nums_lst[i] = nums_lst[j]\n",
    "            nums_lst[j] = temp\n",
    "            \n",
    "# list you need to use for testing. note that some elements are str, list, or boolean\n",
    "numbers_lst = [24,76.4,23,86,'f',[23,6],True]"
   ]
  },
  {
   "cell_type": "code",
   "execution_count": 59,
   "metadata": {
    "slideshow": {
     "slide_type": "slide"
    }
   },
   "outputs": [
    {
     "name": "stdout",
     "output_type": "stream",
     "text": [
      "incorrect input type\n",
      "f <class 'str'>\n"
     ]
    },
    {
     "ename": "ValueError",
     "evalue": "",
     "output_type": "error",
     "traceback": [
      "\u001b[0;31m---------------------------------------------------------------------------\u001b[0m",
      "\u001b[0;31mValueError\u001b[0m                                Traceback (most recent call last)",
      "\u001b[0;32m<ipython-input-59-161596055bce>\u001b[0m in \u001b[0;36m<module>\u001b[0;34m\u001b[0m\n\u001b[1;32m     21\u001b[0m \u001b[0mnumbers_lst\u001b[0m \u001b[0;34m=\u001b[0m \u001b[0;34m[\u001b[0m\u001b[0;36m24\u001b[0m\u001b[0;34m,\u001b[0m\u001b[0;36m76.4\u001b[0m\u001b[0;34m,\u001b[0m\u001b[0;36m23\u001b[0m\u001b[0;34m,\u001b[0m\u001b[0;36m86\u001b[0m\u001b[0;34m,\u001b[0m\u001b[0;34m'f'\u001b[0m\u001b[0;34m,\u001b[0m\u001b[0;34m[\u001b[0m\u001b[0;36m23\u001b[0m\u001b[0;34m,\u001b[0m\u001b[0;36m6\u001b[0m\u001b[0;34m]\u001b[0m\u001b[0;34m,\u001b[0m\u001b[0;32mTrue\u001b[0m\u001b[0;34m]\u001b[0m\u001b[0;34m\u001b[0m\u001b[0;34m\u001b[0m\u001b[0m\n\u001b[1;32m     22\u001b[0m \u001b[0;34m\u001b[0m\u001b[0m\n\u001b[0;32m---> 23\u001b[0;31m \u001b[0msorted_lst\u001b[0m \u001b[0;34m=\u001b[0m \u001b[0mbubble_sort\u001b[0m\u001b[0;34m(\u001b[0m\u001b[0mnumbers_lst\u001b[0m\u001b[0;34m)\u001b[0m\u001b[0;34m\u001b[0m\u001b[0;34m\u001b[0m\u001b[0m\n\u001b[0m",
      "\u001b[0;32m<ipython-input-59-161596055bce>\u001b[0m in \u001b[0;36mbubble_sort\u001b[0;34m(nums_lst)\u001b[0m\n\u001b[1;32m      9\u001b[0m \u001b[0;32mdef\u001b[0m \u001b[0mbubble_sort\u001b[0m\u001b[0;34m(\u001b[0m\u001b[0mnums_lst\u001b[0m\u001b[0;34m)\u001b[0m\u001b[0;34m:\u001b[0m\u001b[0;34m\u001b[0m\u001b[0;34m\u001b[0m\u001b[0m\n\u001b[1;32m     10\u001b[0m     \u001b[0;31m# test the input\u001b[0m\u001b[0;34m\u001b[0m\u001b[0;34m\u001b[0m\u001b[0;34m\u001b[0m\u001b[0m\n\u001b[0;32m---> 11\u001b[0;31m     \u001b[0mnumeric_input\u001b[0m\u001b[0;34m(\u001b[0m\u001b[0mnums_lst\u001b[0m\u001b[0;34m)\u001b[0m\u001b[0;34m\u001b[0m\u001b[0;34m\u001b[0m\u001b[0m\n\u001b[0m\u001b[1;32m     12\u001b[0m \u001b[0;34m\u001b[0m\u001b[0m\n\u001b[1;32m     13\u001b[0m     \u001b[0;32mfor\u001b[0m \u001b[0mi\u001b[0m \u001b[0;32min\u001b[0m \u001b[0mrange\u001b[0m\u001b[0;34m(\u001b[0m\u001b[0mlen\u001b[0m\u001b[0;34m(\u001b[0m\u001b[0mnums_lst\u001b[0m\u001b[0;34m)\u001b[0m\u001b[0;34m)\u001b[0m\u001b[0;34m:\u001b[0m\u001b[0;34m\u001b[0m\u001b[0;34m\u001b[0m\u001b[0m\n",
      "\u001b[0;32m<ipython-input-59-161596055bce>\u001b[0m in \u001b[0;36mnumeric_input\u001b[0;34m(input_lst)\u001b[0m\n\u001b[1;32m      4\u001b[0m             \u001b[0mprint\u001b[0m\u001b[0;34m(\u001b[0m\u001b[0;34m'incorrect input type'\u001b[0m\u001b[0;34m)\u001b[0m\u001b[0;34m\u001b[0m\u001b[0;34m\u001b[0m\u001b[0m\n\u001b[1;32m      5\u001b[0m             \u001b[0mprint\u001b[0m\u001b[0;34m(\u001b[0m\u001b[0mitem\u001b[0m\u001b[0;34m,\u001b[0m\u001b[0mtype\u001b[0m\u001b[0;34m(\u001b[0m\u001b[0mitem\u001b[0m\u001b[0;34m)\u001b[0m\u001b[0;34m)\u001b[0m\u001b[0;34m\u001b[0m\u001b[0;34m\u001b[0m\u001b[0m\n\u001b[0;32m----> 6\u001b[0;31m             \u001b[0;32mraise\u001b[0m \u001b[0mValueError\u001b[0m\u001b[0;34m\u001b[0m\u001b[0;34m\u001b[0m\u001b[0m\n\u001b[0m\u001b[1;32m      7\u001b[0m     \u001b[0;32mreturn\u001b[0m\u001b[0;34m\u001b[0m\u001b[0;34m\u001b[0m\u001b[0m\n\u001b[1;32m      8\u001b[0m \u001b[0;34m\u001b[0m\u001b[0m\n",
      "\u001b[0;31mValueError\u001b[0m: "
     ]
    }
   ],
   "source": [
    "def numeric_input(input_lst):\n",
    "    for item in input_lst:\n",
    "        if (type(item) != float) and (type(item) != int):\n",
    "            print('incorrect input type')\n",
    "            print(item,type(item))\n",
    "            raise ValueError\n",
    "    return\n",
    "\n",
    "def bubble_sort(nums_lst):\n",
    "    # test the input\n",
    "    numeric_input(nums_lst)\n",
    "    \n",
    "    for i in range(len(nums_lst)):\n",
    "        for j in range(i):\n",
    "            if nums_lst[j] > nums_lst[i]: # if an item is smaller than its neighbor, switch them\n",
    "                temp = nums_lst[i] # temporary variable\n",
    "                nums_lst[i] = nums_lst[j]\n",
    "                nums_lst[j] = temp\n",
    "    return nums_lst\n",
    "\n",
    "numbers_lst = [24,76.4,23,86,'f',[23,6],True]\n",
    "\n",
    "sorted_lst = bubble_sort(numbers_lst)"
   ]
  },
  {
   "cell_type": "code",
   "execution_count": null,
   "metadata": {},
   "outputs": [],
   "source": []
  }
 ],
 "metadata": {
  "celltoolbar": "Slideshow",
  "kernelspec": {
   "display_name": "Python 3",
   "language": "python",
   "name": "python3"
  },
  "language_info": {
   "codemirror_mode": {
    "name": "ipython",
    "version": 3
   },
   "file_extension": ".py",
   "mimetype": "text/x-python",
   "name": "python",
   "nbconvert_exporter": "python",
   "pygments_lexer": "ipython3",
   "version": "3.6.10"
  }
 },
 "nbformat": 4,
 "nbformat_minor": 4
}
