{
 "cells": [
  {
   "cell_type": "markdown",
   "metadata": {
    "slideshow": {
     "slide_type": "slide"
    }
   },
   "source": [
    "# Control flow - the 'grammar' of programing languages\n",
    "Today we combine for loops and if statements to do more complex operations\n",
    "\n",
    "### By the end of the day you'll be able to\n",
    "- filter container elements using a combination of a for loop and an if statement\n",
    "- update values in a nested list using double for loops (aka nested loop)\n",
    "- sort a list of numbers using a nested loop and an if statement\n"
   ]
  },
  {
   "cell_type": "markdown",
   "metadata": {
    "slideshow": {
     "slide_type": "slide"
    }
   },
   "source": [
    "## Recap - if statement"
   ]
  },
  {
   "cell_type": "code",
   "execution_count": null,
   "metadata": {},
   "outputs": [],
   "source": [
    "if var1_bool: # by default python check for True condition \n",
    "    # do something\n",
    "elif var2_bool:\n",
    "    # do something else\n",
    "...\n",
    "else: # if none of the conditions above were true\n",
    "    # do something else\n",
    "# continue the code"
   ]
  },
  {
   "cell_type": "markdown",
   "metadata": {
    "slideshow": {
     "slide_type": "slide"
    }
   },
   "source": [
    "## Recap - for loop"
   ]
  },
  {
   "cell_type": "code",
   "execution_count": null,
   "metadata": {},
   "outputs": [],
   "source": [
    "for item in container:\n",
    "    # do something with the item\n",
    "# continue the code "
   ]
  },
  {
   "cell_type": "markdown",
   "metadata": {
    "slideshow": {
     "slide_type": "slide"
    }
   },
   "source": [
    "### <font color='LIGHTGRAY'>By the end of the day you'll be able to</font>\n",
    "- **filter container elements using a combination of a for loop and an if statement**\n",
    "- <font color='LIGHTGRAY'>update values in a nested list using double for loops (aka nested loop)</font>\n",
    "- <font color='LIGHTGRAY'>sort a list of numbers using a nested loop and an if statement</font>"
   ]
  },
  {
   "cell_type": "code",
   "execution_count": 56,
   "metadata": {
    "slideshow": {
     "slide_type": "slide"
    }
   },
   "outputs": [
    {
     "name": "stdout",
     "output_type": "stream",
     "text": [
      "ambivert\n",
      "24\n",
      "4567\n",
      "582\n",
      "78\n",
      "calcspar\n",
      "deaness\n",
      "12\n",
      "675\n",
      "entrete\n",
      "gades\n",
      "['ambivert', 'calcspar', 'deaness', 'entrete', 'gades']\n"
     ]
    }
   ],
   "source": [
    "my_lst = ['ambivert', 24, 4567, 582, 78, 'calcspar', 'deaness', 12, 675, 'entrete', 'gades']\n",
    "\n",
    "# collect the string items of this list\n",
    "\n",
    "str_lst = [] # empty list to collect strings in\n",
    "for item in my_lst:\n",
    "    if type(item) == str: # indented once\n",
    "        str_lst.append(item) # indented twice\n",
    "    print(item) # indented once so this line is outside the if statement\n",
    "print(str_lst) # no indent, this line is performed once the for loop is done\n"
   ]
  },
  {
   "cell_type": "markdown",
   "metadata": {
    "slideshow": {
     "slide_type": "slide"
    }
   },
   "source": [
    "## Exercise 1:\n",
    "Create a `nums_lst`. Collect all numbers from `my_lst` into `nums_lst`."
   ]
  },
  {
   "cell_type": "code",
   "execution_count": 57,
   "metadata": {},
   "outputs": [
    {
     "name": "stdout",
     "output_type": "stream",
     "text": [
      "ambivert\n",
      "24\n",
      "4567\n",
      "582\n",
      "78\n",
      "calcspar\n",
      "deaness\n",
      "12\n",
      "675\n",
      "entrete\n",
      "gades\n",
      "[24, 4567, 582, 78, 12, 675]\n"
     ]
    },
    {
     "data": {
      "text/html": [
       "\n",
       "    \n",
       "    \n",
       "        <p>All tests passed!</p>\n",
       "    \n",
       "    "
      ],
      "text/plain": [
       "<gofer.ok.OKTestsResult at 0x10bda5828>"
      ]
     },
     "execution_count": 57,
     "metadata": {},
     "output_type": "execute_result"
    }
   ],
   "source": [
    "from gofer.ok import check\n",
    "\n",
    "# collect the string items of this list\n",
    "\n",
    "nums_lst = [] # empty list to collect strings in\n",
    "for item in my_lst:\n",
    "    if type(item) == int: # indented once\n",
    "        nums_lst.append(item) # indented twice\n",
    "    print(item) # indented once so this line is outside the if statement\n",
    "print(nums_lst) # no indent, this line is performed once the for loop is done\n",
    "check('tests/lec7_p1.py')"
   ]
  },
  {
   "cell_type": "code",
   "execution_count": 58,
   "metadata": {
    "slideshow": {
     "slide_type": "subslide"
    }
   },
   "outputs": [
    {
     "name": "stdout",
     "output_type": "stream",
     "text": [
      "{'Andras': [36, 'not singer'], 'Rihanna': [28, 'singer'], 'Madonna': [62, 'singer'], 'Ashley': [30, 'not singer'], 'Shawn Mendez': [22, 'singer']}\n"
     ]
    }
   ],
   "source": [
    "people_dict = {} # the keys are names, the values are a list of age and whether the person is a singer or not\n",
    "people_dict['Andras'] = [36, 'not singer']\n",
    "people_dict['Rihanna'] = [28, 'singer']\n",
    "people_dict['Madonna'] = [62, 'singer']\n",
    "people_dict['Ashley'] = [30, 'not singer']\n",
    "people_dict['Shawn Mendez'] = [22, 'singer']\n",
    "\n",
    "print(people_dict)\n"
   ]
  },
  {
   "cell_type": "code",
   "execution_count": 59,
   "metadata": {
    "slideshow": {
     "slide_type": "subslide"
    }
   },
   "outputs": [
    {
     "name": "stdout",
     "output_type": "stream",
     "text": [
      "Andras [36, 'not singer']\n",
      "Rihanna [28, 'singer']\n",
      "Madonna [62, 'singer']\n",
      "Ashley [30, 'not singer']\n",
      "Shawn Mendez [22, 'singer']\n",
      "['Rihanna', 'Madonna', 'Shawn Mendez']\n"
     ]
    }
   ],
   "source": [
    "# collect who the singers are\n",
    "singers_lst = [] # empty list to store the singers' names in\n",
    "for key, value in people_dict.items(): # iterate through the key-value pairs of the dict\n",
    "    print(key,value)\n",
    "    if value[1] == 'singer': # one indent: check if value[1] is singer\n",
    "        singers_lst.append(key) # two indent: if it is, append to list\n",
    "print(singers_lst) # print the list once the for loop is done"
   ]
  },
  {
   "cell_type": "markdown",
   "metadata": {
    "slideshow": {
     "slide_type": "slide"
    }
   },
   "source": [
    "## Exercise 2\n",
    "Collect everyone's name who is older than 30 into `oldies_lst`. :)"
   ]
  },
  {
   "cell_type": "code",
   "execution_count": 60,
   "metadata": {},
   "outputs": [
    {
     "name": "stdout",
     "output_type": "stream",
     "text": [
      "['Andras', 'Madonna']\n"
     ]
    },
    {
     "data": {
      "text/html": [
       "\n",
       "    \n",
       "    \n",
       "        <p>All tests passed!</p>\n",
       "    \n",
       "    "
      ],
      "text/plain": [
       "<gofer.ok.OKTestsResult at 0x10d1d54a8>"
      ]
     },
     "execution_count": 60,
     "metadata": {},
     "output_type": "execute_result"
    }
   ],
   "source": [
    "oldies_lst = []\n",
    "for key, value in people_dict.items(): \n",
    "    if value[0] > 30: \n",
    "        oldies_lst.append(key)\n",
    "print(oldies_lst)\n",
    "\n",
    "check('tests/lec7_p2.py')"
   ]
  },
  {
   "cell_type": "markdown",
   "metadata": {
    "slideshow": {
     "slide_type": "slide"
    }
   },
   "source": [
    "### <font color='LIGHTGRAY'>By the end of the day you'll be able to</font>\n",
    "- <font color='LIGHTGRAY'>filter container elements using a combination of a for loop and an if statement</font>\n",
    "- **update values in a nested list using double for loops (aka nested loop)**\n",
    "- <font color='LIGHTGRAY'>sort a list of numbers using a nested loop and an if statement</font>"
   ]
  },
  {
   "cell_type": "code",
   "execution_count": 61,
   "metadata": {
    "scrolled": true,
    "slideshow": {
     "slide_type": "slide"
    }
   },
   "outputs": [
    {
     "name": "stdout",
     "output_type": "stream",
     "text": [
      "1938\n",
      "before: [1976, 1956, 2013]\n",
      "before: 1976\n",
      "after: 1977\n",
      "before: 1956\n",
      "after: 1957\n",
      "before: 2013\n",
      "after: 2014\n",
      "after: [1976, 1956, 2013]\n",
      "before: [1989, 2002]\n",
      "before: 1989\n",
      "after: 1990\n",
      "before: 2002\n",
      "after: 2003\n",
      "after: [1989, 2002]\n",
      "before: [1954, 1978, 1928, 2009, 1938]\n",
      "before: 1954\n",
      "after: 1955\n",
      "before: 1978\n",
      "after: 1979\n",
      "before: 1928\n",
      "after: 1929\n",
      "before: 2009\n",
      "after: 2010\n",
      "before: 1938\n",
      "after: 1939\n",
      "after: [1954, 1978, 1928, 2009, 1938]\n",
      "before: [2001]\n",
      "before: 2001\n",
      "after: 2002\n",
      "after: [2001]\n",
      "before: [1978, 2000, 2015, 1981, 1995]\n",
      "before: 1978\n",
      "after: 1979\n",
      "before: 2000\n",
      "after: 2001\n",
      "before: 2015\n",
      "after: 2016\n",
      "before: 1981\n",
      "after: 1982\n",
      "before: 1995\n",
      "after: 1996\n",
      "after: [1978, 2000, 2015, 1981, 1995]\n",
      "[[1976, 1956, 2013], [1989, 2002], [1954, 1978, 1928, 2009, 1938], [2001], [1978, 2000, 2015, 1981, 1995]]\n"
     ]
    }
   ],
   "source": [
    "# each item in the list contains the birthyears of people living in the same household\n",
    "birthyears_lst = [[1976,1956,2013],[1989,2002],[1954,1978,1928,2009,1938],[2001],[1978,2000,2015,1981,1995]]\n",
    "\n",
    "# let's print out each number\n",
    "for item in birthyears_lst:\n",
    "    print('before:',item) # one indent!\n",
    "    for num in item:\n",
    "        print('before:',num)\n",
    "        num = num + 1\n",
    "        print('after:',num)\n",
    "    print('after:',item)\n",
    "print(birthyears_lst)\n",
    "# can we modify birthyears_lst with this approach?"
   ]
  },
  {
   "cell_type": "code",
   "execution_count": 62,
   "metadata": {
    "scrolled": true,
    "slideshow": {
     "slide_type": "subslide"
    }
   },
   "outputs": [
    {
     "name": "stdout",
     "output_type": "stream",
     "text": [
      "i 0 sublist [1976, 1956, 2013]\n",
      "   before i: 0 j: 0 element: 1976\n",
      "   after i: 0 j: 0 element: 1977\n",
      "   before i: 0 j: 1 element: 1956\n",
      "   after i: 0 j: 1 element: 1957\n",
      "   before i: 0 j: 2 element: 2013\n",
      "   after i: 0 j: 2 element: 2014\n",
      "moving on to the next sublist\n",
      "i 1 sublist [1989, 2002]\n",
      "   before i: 1 j: 0 element: 1989\n",
      "   after i: 1 j: 0 element: 1990\n",
      "   before i: 1 j: 1 element: 2002\n",
      "   after i: 1 j: 1 element: 2003\n",
      "moving on to the next sublist\n",
      "i 2 sublist [1954, 1978, 1928, 2009, 1938]\n",
      "   before i: 2 j: 0 element: 1954\n",
      "   after i: 2 j: 0 element: 1955\n",
      "   before i: 2 j: 1 element: 1978\n",
      "   after i: 2 j: 1 element: 1979\n",
      "   before i: 2 j: 2 element: 1928\n",
      "   after i: 2 j: 2 element: 1929\n",
      "   before i: 2 j: 3 element: 2009\n",
      "   after i: 2 j: 3 element: 2010\n",
      "   before i: 2 j: 4 element: 1938\n",
      "   after i: 2 j: 4 element: 1939\n",
      "moving on to the next sublist\n",
      "i 3 sublist [2001]\n",
      "   before i: 3 j: 0 element: 2001\n",
      "   after i: 3 j: 0 element: 2002\n",
      "moving on to the next sublist\n",
      "i 4 sublist [1978, 2000, 2015, 1981, 1995]\n",
      "   before i: 4 j: 0 element: 1978\n",
      "   after i: 4 j: 0 element: 1979\n",
      "   before i: 4 j: 1 element: 2000\n",
      "   after i: 4 j: 1 element: 2001\n",
      "   before i: 4 j: 2 element: 2015\n",
      "   after i: 4 j: 2 element: 2016\n",
      "   before i: 4 j: 3 element: 1981\n",
      "   after i: 4 j: 3 element: 1982\n",
      "   before i: 4 j: 4 element: 1995\n",
      "   after i: 4 j: 4 element: 1996\n",
      "moving on to the next sublist\n",
      "[[1977, 1957, 2014], [1990, 2003], [1955, 1979, 1929, 2010, 1939], [2002], [1979, 2001, 2016, 1982, 1996]]\n"
     ]
    }
   ],
   "source": [
    "# if you want to modify a list element, you need to reference them by index.\n",
    "\n",
    "i = 2\n",
    "j = 4\n",
    "print(birthyears_lst[i][j]) # just a reminder how to index nested lists\n",
    "\n",
    "\n",
    "for i in range(len(birthyears_lst)):\n",
    "    print('i',i,'sublist',birthyears_lst[i]) # one indent!\n",
    "    for j in range(len(birthyears_lst[i])):\n",
    "        print('   before i:',i,'j:',j,'element:',birthyears_lst[i][j])\n",
    "        # birthyears_lst[i][j] can be modified!\n",
    "        birthyears_lst[i][j] = birthyears_lst[i][j] + 1\n",
    "        print('   after i:',i,'j:',j,'element:',birthyears_lst[i][j])\n",
    "\n",
    "    print('moving on to the next sublist')\n",
    "print(birthyears_lst)"
   ]
  },
  {
   "cell_type": "markdown",
   "metadata": {
    "slideshow": {
     "slide_type": "subslide"
    }
   },
   "source": [
    "### Let's create a list that contains everyone's age and has the same shape as birthyears_lst"
   ]
  },
  {
   "cell_type": "code",
   "execution_count": 63,
   "metadata": {
    "scrolled": true,
    "slideshow": {
     "slide_type": "-"
    }
   },
   "outputs": [
    {
     "name": "stdout",
     "output_type": "stream",
     "text": [
      "sublist before: [1977, 1957, 2014]\n",
      "   before: 1977\n",
      "   after: 43\n",
      "   before: 1957\n",
      "   after: 63\n",
      "   before: 2014\n",
      "   after: 6\n",
      "sublist after: [43, 63, 6]\n",
      "sublist before: [1990, 2003]\n",
      "   before: 1990\n",
      "   after: 30\n",
      "   before: 2003\n",
      "   after: 17\n",
      "sublist after: [30, 17]\n",
      "sublist before: [1955, 1979, 1929, 2010, 1939]\n",
      "   before: 1955\n",
      "   after: 65\n",
      "   before: 1979\n",
      "   after: 41\n",
      "   before: 1929\n",
      "   after: 91\n",
      "   before: 2010\n",
      "   after: 10\n",
      "   before: 1939\n",
      "   after: 81\n",
      "sublist after: [65, 41, 91, 10, 81]\n",
      "sublist before: [2002]\n",
      "   before: 2002\n",
      "   after: 18\n",
      "sublist after: [18]\n",
      "sublist before: [1979, 2001, 2016, 1982, 1996]\n",
      "   before: 1979\n",
      "   after: 41\n",
      "   before: 2001\n",
      "   after: 19\n",
      "   before: 2016\n",
      "   after: 4\n",
      "   before: 1982\n",
      "   after: 38\n",
      "   before: 1996\n",
      "   after: 24\n",
      "sublist after: [41, 19, 4, 38, 24]\n",
      "[[43, 63, 6], [30, 17], [65, 41, 91, 10, 81], [18], [41, 19, 4, 38, 24]]\n"
     ]
    }
   ],
   "source": [
    "ages_lst = [] \n",
    "for i in range(len(birthyears_lst)):\n",
    "    print('sublist before:',birthyears_lst[i])\n",
    "    ages_lst.append([]) # add an empty sublist\n",
    "    for j in range(len(birthyears_lst[i])):\n",
    "        print('   before:',birthyears_lst[i][j])\n",
    "        ages_lst[i].append(2020 - birthyears_lst[i][j]) # add an element to the sublist\n",
    "        print('   after:',ages_lst[i][j])\n",
    "    print('sublist after:',ages_lst[i])\n",
    "print(ages_lst)"
   ]
  },
  {
   "cell_type": "markdown",
   "metadata": {
    "slideshow": {
     "slide_type": "slide"
    }
   },
   "source": [
    "## Exercise 3:\n",
    "Create a boolean nested list of the same shape as ages_lst and make the items True if someone is 18 or older and False otherwise. Call this list `can_vote_lst`."
   ]
  },
  {
   "cell_type": "code",
   "execution_count": 64,
   "metadata": {
    "scrolled": true
   },
   "outputs": [
    {
     "name": "stdout",
     "output_type": "stream",
     "text": [
      "sublist before: [43, 63, 6]\n",
      "before: 43\n",
      "after: True\n",
      "before: 63\n",
      "after: True\n",
      "before: 6\n",
      "after: False\n",
      "sublist after: [True, True, False]\n",
      "sublist before: [30, 17]\n",
      "before: 30\n",
      "after: True\n",
      "before: 17\n",
      "after: False\n",
      "sublist after: [True, False]\n",
      "sublist before: [65, 41, 91, 10, 81]\n",
      "before: 65\n",
      "after: True\n",
      "before: 41\n",
      "after: True\n",
      "before: 91\n",
      "after: True\n",
      "before: 10\n",
      "after: False\n",
      "before: 81\n",
      "after: True\n",
      "sublist after: [True, True, True, False, True]\n",
      "sublist before: [18]\n",
      "before: 18\n",
      "after: True\n",
      "sublist after: [True]\n",
      "sublist before: [41, 19, 4, 38, 24]\n",
      "before: 41\n",
      "after: True\n",
      "before: 19\n",
      "after: True\n",
      "before: 4\n",
      "after: False\n",
      "before: 38\n",
      "after: True\n",
      "before: 24\n",
      "after: True\n",
      "sublist after: [True, True, False, True, True]\n",
      "[[True, True, False], [True, False], [True, True, True, False, True], [True], [True, True, False, True, True]]\n"
     ]
    },
    {
     "data": {
      "text/html": [
       "\n",
       "    \n",
       "    \n",
       "        <p>All tests passed!</p>\n",
       "    \n",
       "    "
      ],
      "text/plain": [
       "<gofer.ok.OKTestsResult at 0x10d1d5cf8>"
      ]
     },
     "execution_count": 64,
     "metadata": {},
     "output_type": "execute_result"
    }
   ],
   "source": [
    "can_vote_lst = []\n",
    "for i in range(len(ages_lst)):\n",
    "    print('sublist before:',ages_lst[i])\n",
    "    can_vote_lst.append([]) # add an empty sublist\n",
    "    for j in range(len(ages_lst[i])):\n",
    "        print('before:',ages_lst[i][j])\n",
    "        can_vote_lst[i].append(ages_lst[i][j] >= 18) # add an element to the sublist\n",
    "        print('after:',can_vote_lst[i][j])\n",
    "    print('sublist after:',can_vote_lst[i])\n",
    "print(can_vote_lst)\n",
    "\n",
    "check('tests/lec7_p3.py')"
   ]
  },
  {
   "cell_type": "markdown",
   "metadata": {
    "slideshow": {
     "slide_type": "slide"
    }
   },
   "source": [
    "### <font color='LIGHTGRAY'>By the end of the day you'll be able to</font>\n",
    "- <font color='LIGHTGRAY'>filter container elements using a combination of a for loop and an if statement</font>\n",
    "- <font color='LIGHTGRAY'>update values in a nested list using double for loops (aka nested loop)</font>\n",
    "- **sort a list of numbers using a nested loop and an if statement**"
   ]
  },
  {
   "cell_type": "markdown",
   "metadata": {
    "slideshow": {
     "slide_type": "slide"
    }
   },
   "source": [
    "## Sorting\n",
    "- Given a list of numbers, rearrange the elements such that they are in increasing order.\n",
    "- Bubble sort is a simple but inefficient way to sort numbers.\n",
    "- It is good to learn about nesting loops and if statements\n",
    "\n",
    "[34, 8, 1335, 7]"
   ]
  },
  {
   "cell_type": "code",
   "execution_count": 65,
   "metadata": {
    "slideshow": {
     "slide_type": "subslide"
    }
   },
   "outputs": [
    {
     "name": "stdout",
     "output_type": "stream",
     "text": [
      "before: element 0 : 34 element 1 : 7\n",
      "   we switched elements\n",
      "after: element 0 : 7 element 1 : 34\n",
      "[7, 34, 1335, 8, 24, 78, 123, 576, 38]\n",
      "before: element 0 : 7 element 2 : 1335\n",
      "after: element 0 : 7 element 2 : 1335\n",
      "[7, 34, 1335, 8, 24, 78, 123, 576, 38]\n",
      "before: element 1 : 34 element 2 : 1335\n",
      "after: element 1 : 34 element 2 : 1335\n",
      "[7, 34, 1335, 8, 24, 78, 123, 576, 38]\n",
      "before: element 0 : 7 element 3 : 8\n",
      "after: element 0 : 7 element 3 : 8\n",
      "[7, 34, 1335, 8, 24, 78, 123, 576, 38]\n",
      "before: element 1 : 34 element 3 : 8\n",
      "   we switched elements\n",
      "after: element 1 : 8 element 3 : 34\n",
      "[7, 8, 1335, 34, 24, 78, 123, 576, 38]\n",
      "before: element 2 : 1335 element 3 : 34\n",
      "   we switched elements\n",
      "after: element 2 : 34 element 3 : 1335\n",
      "[7, 8, 34, 1335, 24, 78, 123, 576, 38]\n",
      "before: element 0 : 7 element 4 : 24\n",
      "after: element 0 : 7 element 4 : 24\n",
      "[7, 8, 34, 1335, 24, 78, 123, 576, 38]\n",
      "before: element 1 : 8 element 4 : 24\n",
      "after: element 1 : 8 element 4 : 24\n",
      "[7, 8, 34, 1335, 24, 78, 123, 576, 38]\n",
      "before: element 2 : 34 element 4 : 24\n",
      "   we switched elements\n",
      "after: element 2 : 24 element 4 : 34\n",
      "[7, 8, 24, 1335, 34, 78, 123, 576, 38]\n",
      "before: element 3 : 1335 element 4 : 34\n",
      "   we switched elements\n",
      "after: element 3 : 34 element 4 : 1335\n",
      "[7, 8, 24, 34, 1335, 78, 123, 576, 38]\n",
      "before: element 0 : 7 element 5 : 78\n",
      "after: element 0 : 7 element 5 : 78\n",
      "[7, 8, 24, 34, 1335, 78, 123, 576, 38]\n",
      "before: element 1 : 8 element 5 : 78\n",
      "after: element 1 : 8 element 5 : 78\n",
      "[7, 8, 24, 34, 1335, 78, 123, 576, 38]\n",
      "before: element 2 : 24 element 5 : 78\n",
      "after: element 2 : 24 element 5 : 78\n",
      "[7, 8, 24, 34, 1335, 78, 123, 576, 38]\n",
      "before: element 3 : 34 element 5 : 78\n",
      "after: element 3 : 34 element 5 : 78\n",
      "[7, 8, 24, 34, 1335, 78, 123, 576, 38]\n",
      "before: element 4 : 1335 element 5 : 78\n",
      "   we switched elements\n",
      "after: element 4 : 78 element 5 : 1335\n",
      "[7, 8, 24, 34, 78, 1335, 123, 576, 38]\n",
      "before: element 0 : 7 element 6 : 123\n",
      "after: element 0 : 7 element 6 : 123\n",
      "[7, 8, 24, 34, 78, 1335, 123, 576, 38]\n",
      "before: element 1 : 8 element 6 : 123\n",
      "after: element 1 : 8 element 6 : 123\n",
      "[7, 8, 24, 34, 78, 1335, 123, 576, 38]\n",
      "before: element 2 : 24 element 6 : 123\n",
      "after: element 2 : 24 element 6 : 123\n",
      "[7, 8, 24, 34, 78, 1335, 123, 576, 38]\n",
      "before: element 3 : 34 element 6 : 123\n",
      "after: element 3 : 34 element 6 : 123\n",
      "[7, 8, 24, 34, 78, 1335, 123, 576, 38]\n",
      "before: element 4 : 78 element 6 : 123\n",
      "after: element 4 : 78 element 6 : 123\n",
      "[7, 8, 24, 34, 78, 1335, 123, 576, 38]\n",
      "before: element 5 : 1335 element 6 : 123\n",
      "   we switched elements\n",
      "after: element 5 : 123 element 6 : 1335\n",
      "[7, 8, 24, 34, 78, 123, 1335, 576, 38]\n",
      "before: element 0 : 7 element 7 : 576\n",
      "after: element 0 : 7 element 7 : 576\n",
      "[7, 8, 24, 34, 78, 123, 1335, 576, 38]\n",
      "before: element 1 : 8 element 7 : 576\n",
      "after: element 1 : 8 element 7 : 576\n",
      "[7, 8, 24, 34, 78, 123, 1335, 576, 38]\n",
      "before: element 2 : 24 element 7 : 576\n",
      "after: element 2 : 24 element 7 : 576\n",
      "[7, 8, 24, 34, 78, 123, 1335, 576, 38]\n",
      "before: element 3 : 34 element 7 : 576\n",
      "after: element 3 : 34 element 7 : 576\n",
      "[7, 8, 24, 34, 78, 123, 1335, 576, 38]\n",
      "before: element 4 : 78 element 7 : 576\n",
      "after: element 4 : 78 element 7 : 576\n",
      "[7, 8, 24, 34, 78, 123, 1335, 576, 38]\n",
      "before: element 5 : 123 element 7 : 576\n",
      "after: element 5 : 123 element 7 : 576\n",
      "[7, 8, 24, 34, 78, 123, 1335, 576, 38]\n",
      "before: element 6 : 1335 element 7 : 576\n",
      "   we switched elements\n",
      "after: element 6 : 576 element 7 : 1335\n",
      "[7, 8, 24, 34, 78, 123, 576, 1335, 38]\n",
      "before: element 0 : 7 element 8 : 38\n",
      "after: element 0 : 7 element 8 : 38\n",
      "[7, 8, 24, 34, 78, 123, 576, 1335, 38]\n",
      "before: element 1 : 8 element 8 : 38\n",
      "after: element 1 : 8 element 8 : 38\n",
      "[7, 8, 24, 34, 78, 123, 576, 1335, 38]\n",
      "before: element 2 : 24 element 8 : 38\n",
      "after: element 2 : 24 element 8 : 38\n",
      "[7, 8, 24, 34, 78, 123, 576, 1335, 38]\n",
      "before: element 3 : 34 element 8 : 38\n",
      "after: element 3 : 34 element 8 : 38\n",
      "[7, 8, 24, 34, 78, 123, 576, 1335, 38]\n",
      "before: element 4 : 78 element 8 : 38\n",
      "   we switched elements\n",
      "after: element 4 : 38 element 8 : 78\n",
      "[7, 8, 24, 34, 38, 123, 576, 1335, 78]\n",
      "before: element 5 : 123 element 8 : 78\n",
      "   we switched elements\n",
      "after: element 5 : 78 element 8 : 123\n",
      "[7, 8, 24, 34, 38, 78, 576, 1335, 123]\n",
      "before: element 6 : 576 element 8 : 123\n",
      "   we switched elements\n",
      "after: element 6 : 123 element 8 : 576\n",
      "[7, 8, 24, 34, 38, 78, 123, 1335, 576]\n",
      "before: element 7 : 1335 element 8 : 576\n",
      "   we switched elements\n",
      "after: element 7 : 576 element 8 : 1335\n",
      "[7, 8, 24, 34, 38, 78, 123, 576, 1335]\n"
     ]
    }
   ],
   "source": [
    "nums_lst = [34,7,1335,8,24,78,123,576,38]\n",
    "\n",
    "for i in range(len(nums_lst)):\n",
    "    for j in range(i):\n",
    "        print('before:','element',j,':',nums_lst[j],'element', i,':', nums_lst[i])\n",
    "        if nums_lst[j] > nums_lst[i]: # if an item is smaller than its neighbor, switch them\n",
    "            temp = nums_lst[i] # temporary variable\n",
    "            nums_lst[i] = nums_lst[j]\n",
    "            nums_lst[j] = temp\n",
    "            print('   we switched elements')\n",
    "        # note: no else statement. if an element is equal or larger than its neighbor, there is nothing to do\n",
    "        print('after:','element',j,':',nums_lst[j],'element', i,':', nums_lst[i])\n",
    "        print(nums_lst)"
   ]
  },
  {
   "cell_type": "markdown",
   "metadata": {
    "slideshow": {
     "slide_type": "slide"
    }
   },
   "source": [
    "## Exercise 4\n",
    "Rewrite the bubble sort algorithm above to order strings in a list ascii-betically. \n",
    "\n",
    "Hint 1: You can compare strings with greater than (>) and smaller than (<). For example 'ba' < 'bb' is True, try it. \n",
    "\n",
    "Hint 2: The smaller than operation will tell you if two items in a list needs to be swapped."
   ]
  },
  {
   "cell_type": "code",
   "execution_count": 66,
   "metadata": {},
   "outputs": [
    {
     "name": "stdout",
     "output_type": "stream",
     "text": [
      "True\n"
     ]
    }
   ],
   "source": [
    "print('ba' < 'bb')"
   ]
  },
  {
   "cell_type": "code",
   "execution_count": 67,
   "metadata": {
    "slideshow": {
     "slide_type": "-"
    }
   },
   "outputs": [
    {
     "name": "stdout",
     "output_type": "stream",
     "text": [
      "before: element 0 : bath element 1 : knot\n",
      "after: element 0 : bath element 1 : knot\n",
      "['bath', 'knot', 'thank', 'library', 'sisters', 'scatter', 'chicken', 'confused', 'marked', 'breathe']\n",
      "before: element 0 : bath element 2 : thank\n",
      "after: element 0 : bath element 2 : thank\n",
      "['bath', 'knot', 'thank', 'library', 'sisters', 'scatter', 'chicken', 'confused', 'marked', 'breathe']\n",
      "before: element 1 : knot element 2 : thank\n",
      "after: element 1 : knot element 2 : thank\n",
      "['bath', 'knot', 'thank', 'library', 'sisters', 'scatter', 'chicken', 'confused', 'marked', 'breathe']\n",
      "before: element 0 : bath element 3 : library\n",
      "after: element 0 : bath element 3 : library\n",
      "['bath', 'knot', 'thank', 'library', 'sisters', 'scatter', 'chicken', 'confused', 'marked', 'breathe']\n",
      "before: element 1 : knot element 3 : library\n",
      "after: element 1 : knot element 3 : library\n",
      "['bath', 'knot', 'thank', 'library', 'sisters', 'scatter', 'chicken', 'confused', 'marked', 'breathe']\n",
      "before: element 2 : thank element 3 : library\n",
      "   we switched elements\n",
      "after: element 2 : library element 3 : thank\n",
      "['bath', 'knot', 'library', 'thank', 'sisters', 'scatter', 'chicken', 'confused', 'marked', 'breathe']\n",
      "before: element 0 : bath element 4 : sisters\n",
      "after: element 0 : bath element 4 : sisters\n",
      "['bath', 'knot', 'library', 'thank', 'sisters', 'scatter', 'chicken', 'confused', 'marked', 'breathe']\n",
      "before: element 1 : knot element 4 : sisters\n",
      "after: element 1 : knot element 4 : sisters\n",
      "['bath', 'knot', 'library', 'thank', 'sisters', 'scatter', 'chicken', 'confused', 'marked', 'breathe']\n",
      "before: element 2 : library element 4 : sisters\n",
      "after: element 2 : library element 4 : sisters\n",
      "['bath', 'knot', 'library', 'thank', 'sisters', 'scatter', 'chicken', 'confused', 'marked', 'breathe']\n",
      "before: element 3 : thank element 4 : sisters\n",
      "   we switched elements\n",
      "after: element 3 : sisters element 4 : thank\n",
      "['bath', 'knot', 'library', 'sisters', 'thank', 'scatter', 'chicken', 'confused', 'marked', 'breathe']\n",
      "before: element 0 : bath element 5 : scatter\n",
      "after: element 0 : bath element 5 : scatter\n",
      "['bath', 'knot', 'library', 'sisters', 'thank', 'scatter', 'chicken', 'confused', 'marked', 'breathe']\n",
      "before: element 1 : knot element 5 : scatter\n",
      "after: element 1 : knot element 5 : scatter\n",
      "['bath', 'knot', 'library', 'sisters', 'thank', 'scatter', 'chicken', 'confused', 'marked', 'breathe']\n",
      "before: element 2 : library element 5 : scatter\n",
      "after: element 2 : library element 5 : scatter\n",
      "['bath', 'knot', 'library', 'sisters', 'thank', 'scatter', 'chicken', 'confused', 'marked', 'breathe']\n",
      "before: element 3 : sisters element 5 : scatter\n",
      "   we switched elements\n",
      "after: element 3 : scatter element 5 : sisters\n",
      "['bath', 'knot', 'library', 'scatter', 'thank', 'sisters', 'chicken', 'confused', 'marked', 'breathe']\n",
      "before: element 4 : thank element 5 : sisters\n",
      "   we switched elements\n",
      "after: element 4 : sisters element 5 : thank\n",
      "['bath', 'knot', 'library', 'scatter', 'sisters', 'thank', 'chicken', 'confused', 'marked', 'breathe']\n",
      "before: element 0 : bath element 6 : chicken\n",
      "after: element 0 : bath element 6 : chicken\n",
      "['bath', 'knot', 'library', 'scatter', 'sisters', 'thank', 'chicken', 'confused', 'marked', 'breathe']\n",
      "before: element 1 : knot element 6 : chicken\n",
      "   we switched elements\n",
      "after: element 1 : chicken element 6 : knot\n",
      "['bath', 'chicken', 'library', 'scatter', 'sisters', 'thank', 'knot', 'confused', 'marked', 'breathe']\n",
      "before: element 2 : library element 6 : knot\n",
      "   we switched elements\n",
      "after: element 2 : knot element 6 : library\n",
      "['bath', 'chicken', 'knot', 'scatter', 'sisters', 'thank', 'library', 'confused', 'marked', 'breathe']\n",
      "before: element 3 : scatter element 6 : library\n",
      "   we switched elements\n",
      "after: element 3 : library element 6 : scatter\n",
      "['bath', 'chicken', 'knot', 'library', 'sisters', 'thank', 'scatter', 'confused', 'marked', 'breathe']\n",
      "before: element 4 : sisters element 6 : scatter\n",
      "   we switched elements\n",
      "after: element 4 : scatter element 6 : sisters\n",
      "['bath', 'chicken', 'knot', 'library', 'scatter', 'thank', 'sisters', 'confused', 'marked', 'breathe']\n",
      "before: element 5 : thank element 6 : sisters\n",
      "   we switched elements\n",
      "after: element 5 : sisters element 6 : thank\n",
      "['bath', 'chicken', 'knot', 'library', 'scatter', 'sisters', 'thank', 'confused', 'marked', 'breathe']\n",
      "before: element 0 : bath element 7 : confused\n",
      "after: element 0 : bath element 7 : confused\n",
      "['bath', 'chicken', 'knot', 'library', 'scatter', 'sisters', 'thank', 'confused', 'marked', 'breathe']\n",
      "before: element 1 : chicken element 7 : confused\n",
      "after: element 1 : chicken element 7 : confused\n",
      "['bath', 'chicken', 'knot', 'library', 'scatter', 'sisters', 'thank', 'confused', 'marked', 'breathe']\n",
      "before: element 2 : knot element 7 : confused\n",
      "   we switched elements\n",
      "after: element 2 : confused element 7 : knot\n",
      "['bath', 'chicken', 'confused', 'library', 'scatter', 'sisters', 'thank', 'knot', 'marked', 'breathe']\n",
      "before: element 3 : library element 7 : knot\n",
      "   we switched elements\n",
      "after: element 3 : knot element 7 : library\n",
      "['bath', 'chicken', 'confused', 'knot', 'scatter', 'sisters', 'thank', 'library', 'marked', 'breathe']\n",
      "before: element 4 : scatter element 7 : library\n",
      "   we switched elements\n",
      "after: element 4 : library element 7 : scatter\n",
      "['bath', 'chicken', 'confused', 'knot', 'library', 'sisters', 'thank', 'scatter', 'marked', 'breathe']\n",
      "before: element 5 : sisters element 7 : scatter\n",
      "   we switched elements\n",
      "after: element 5 : scatter element 7 : sisters\n",
      "['bath', 'chicken', 'confused', 'knot', 'library', 'scatter', 'thank', 'sisters', 'marked', 'breathe']\n",
      "before: element 6 : thank element 7 : sisters\n",
      "   we switched elements\n",
      "after: element 6 : sisters element 7 : thank\n",
      "['bath', 'chicken', 'confused', 'knot', 'library', 'scatter', 'sisters', 'thank', 'marked', 'breathe']\n",
      "before: element 0 : bath element 8 : marked\n",
      "after: element 0 : bath element 8 : marked\n",
      "['bath', 'chicken', 'confused', 'knot', 'library', 'scatter', 'sisters', 'thank', 'marked', 'breathe']\n",
      "before: element 1 : chicken element 8 : marked\n",
      "after: element 1 : chicken element 8 : marked\n",
      "['bath', 'chicken', 'confused', 'knot', 'library', 'scatter', 'sisters', 'thank', 'marked', 'breathe']\n",
      "before: element 2 : confused element 8 : marked\n",
      "after: element 2 : confused element 8 : marked\n",
      "['bath', 'chicken', 'confused', 'knot', 'library', 'scatter', 'sisters', 'thank', 'marked', 'breathe']\n",
      "before: element 3 : knot element 8 : marked\n",
      "after: element 3 : knot element 8 : marked\n",
      "['bath', 'chicken', 'confused', 'knot', 'library', 'scatter', 'sisters', 'thank', 'marked', 'breathe']\n",
      "before: element 4 : library element 8 : marked\n",
      "after: element 4 : library element 8 : marked\n",
      "['bath', 'chicken', 'confused', 'knot', 'library', 'scatter', 'sisters', 'thank', 'marked', 'breathe']\n",
      "before: element 5 : scatter element 8 : marked\n",
      "   we switched elements\n",
      "after: element 5 : marked element 8 : scatter\n",
      "['bath', 'chicken', 'confused', 'knot', 'library', 'marked', 'sisters', 'thank', 'scatter', 'breathe']\n",
      "before: element 6 : sisters element 8 : scatter\n",
      "   we switched elements\n",
      "after: element 6 : scatter element 8 : sisters\n",
      "['bath', 'chicken', 'confused', 'knot', 'library', 'marked', 'scatter', 'thank', 'sisters', 'breathe']\n",
      "before: element 7 : thank element 8 : sisters\n",
      "   we switched elements\n",
      "after: element 7 : sisters element 8 : thank\n",
      "['bath', 'chicken', 'confused', 'knot', 'library', 'marked', 'scatter', 'sisters', 'thank', 'breathe']\n",
      "before: element 0 : bath element 9 : breathe\n",
      "after: element 0 : bath element 9 : breathe\n",
      "['bath', 'chicken', 'confused', 'knot', 'library', 'marked', 'scatter', 'sisters', 'thank', 'breathe']\n",
      "before: element 1 : chicken element 9 : breathe\n",
      "   we switched elements\n",
      "after: element 1 : breathe element 9 : chicken\n",
      "['bath', 'breathe', 'confused', 'knot', 'library', 'marked', 'scatter', 'sisters', 'thank', 'chicken']\n",
      "before: element 2 : confused element 9 : chicken\n",
      "   we switched elements\n",
      "after: element 2 : chicken element 9 : confused\n",
      "['bath', 'breathe', 'chicken', 'knot', 'library', 'marked', 'scatter', 'sisters', 'thank', 'confused']\n",
      "before: element 3 : knot element 9 : confused\n",
      "   we switched elements\n",
      "after: element 3 : confused element 9 : knot\n",
      "['bath', 'breathe', 'chicken', 'confused', 'library', 'marked', 'scatter', 'sisters', 'thank', 'knot']\n",
      "before: element 4 : library element 9 : knot\n",
      "   we switched elements\n",
      "after: element 4 : knot element 9 : library\n",
      "['bath', 'breathe', 'chicken', 'confused', 'knot', 'marked', 'scatter', 'sisters', 'thank', 'library']\n",
      "before: element 5 : marked element 9 : library\n",
      "   we switched elements\n",
      "after: element 5 : library element 9 : marked\n",
      "['bath', 'breathe', 'chicken', 'confused', 'knot', 'library', 'scatter', 'sisters', 'thank', 'marked']\n",
      "before: element 6 : scatter element 9 : marked\n",
      "   we switched elements\n",
      "after: element 6 : marked element 9 : scatter\n",
      "['bath', 'breathe', 'chicken', 'confused', 'knot', 'library', 'marked', 'sisters', 'thank', 'scatter']\n",
      "before: element 7 : sisters element 9 : scatter\n",
      "   we switched elements\n",
      "after: element 7 : scatter element 9 : sisters\n",
      "['bath', 'breathe', 'chicken', 'confused', 'knot', 'library', 'marked', 'scatter', 'thank', 'sisters']\n",
      "before: element 8 : thank element 9 : sisters\n",
      "   we switched elements\n",
      "after: element 8 : sisters element 9 : thank\n",
      "['bath', 'breathe', 'chicken', 'confused', 'knot', 'library', 'marked', 'scatter', 'sisters', 'thank']\n"
     ]
    },
    {
     "data": {
      "text/html": [
       "\n",
       "    \n",
       "    \n",
       "        <p>All tests passed!</p>\n",
       "    \n",
       "    "
      ],
      "text/plain": [
       "<gofer.ok.OKTestsResult at 0x10d05ccf8>"
      ]
     },
     "execution_count": 67,
     "metadata": {},
     "output_type": "execute_result"
    }
   ],
   "source": [
    "str_lst = ['bath','knot','thank','library','sisters','scatter','chicken','confused','marked','breathe']\n",
    "\n",
    "for i in range(len(str_lst)):\n",
    "    for j in range(i):\n",
    "        print('before:','element',j,':',str_lst[j],'element', i,':', str_lst[i])\n",
    "        if str_lst[j] > str_lst[i]: # if an item is smaller than its neighbor, switch them\n",
    "            temp = str_lst[i] # temporary variable\n",
    "            str_lst[i] = str_lst[j]\n",
    "            str_lst[j] = temp\n",
    "            print('   we switched elements')\n",
    "        # note: no else statement. if an element is equal or larger than its neighbor, there is nothing to do\n",
    "        print('after:','element',j,':',str_lst[j],'element', i,':', str_lst[i])\n",
    "        print(str_lst)\n",
    "        \n",
    "        \n",
    "check('tests/lec7_p4.py')"
   ]
  }
 ],
 "metadata": {
  "celltoolbar": "Slideshow",
  "kernelspec": {
   "display_name": "Python 3",
   "language": "python",
   "name": "python3"
  },
  "language_info": {
   "codemirror_mode": {
    "name": "ipython",
    "version": 3
   },
   "file_extension": ".py",
   "mimetype": "text/x-python",
   "name": "python",
   "nbconvert_exporter": "python",
   "pygments_lexer": "ipython3",
   "version": "3.6.10"
  }
 },
 "nbformat": 4,
 "nbformat_minor": 4
}
