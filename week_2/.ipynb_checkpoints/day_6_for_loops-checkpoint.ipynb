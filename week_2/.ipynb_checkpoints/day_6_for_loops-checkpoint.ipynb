{
 "cells": [
  {
   "cell_type": "markdown",
   "metadata": {
    "slideshow": {
     "slide_type": "slide"
    }
   },
   "source": [
    "# <center> Please go to https://ccv.jupyter.brown.edu </center>"
   ]
  },
  {
   "cell_type": "markdown",
   "metadata": {
    "slideshow": {
     "slide_type": "slide"
    }
   },
   "source": [
    "# <center> What we learned so far...</center>\n",
    "- What are if statements useful for\n",
    "- How to write simple and multiple condition if statements"
   ]
  },
  {
   "cell_type": "markdown",
   "metadata": {
    "slideshow": {
     "slide_type": "slide"
    }
   },
   "source": [
    "# <center> `for` loops </center>\n",
    "## By the end of the day you will be able to\n",
    "- write for loops to iterate over containers\n",
    "- write for loops to iterate a given number of times\n",
    "- updating containers in a for loop\n",
    "- write a list comprehension\n",
    "- write a dictionary comprehension"
   ]
  },
  {
   "cell_type": "markdown",
   "metadata": {
    "slideshow": {
     "slide_type": "slide"
    }
   },
   "source": [
    "- write for loops to iterate over containers\n",
    "- <font color='LIGHTGRAY'> write for loops to iterate a given number of times </font>\n",
    "- <font color='LIGHTGRAY'> updating containers in a for loop </font>\n",
    "- <font color='LIGHTGRAY'> write a list comprehension </font>\n",
    "- <font color='LIGHTGRAY'> write a dictionary comprehension </font>"
   ]
  },
  {
   "cell_type": "markdown",
   "metadata": {
    "slideshow": {
     "slide_type": "subslide"
    }
   },
   "source": [
    "## <center>For loop</center>\n",
    "```sequence_list = [item 1, item 2, item 3, item 4, item 5]\n",
    "for item in sequence_list:\n",
    "    do something with item\n",
    "    (do another thing with item)```"
   ]
  },
  {
   "cell_type": "code",
   "execution_count": 1,
   "metadata": {
    "slideshow": {
     "slide_type": "-"
    }
   },
   "outputs": [
    {
     "name": "stdout",
     "output_type": "stream",
     "text": [
      "1\n",
      "2\n",
      "3\n",
      "4\n",
      "5\n"
     ]
    }
   ],
   "source": [
    "num_list = [1,2,3,4,5]\n",
    "\n",
    "for item in num_list:\n",
    "    print(item)"
   ]
  },
  {
   "cell_type": "code",
   "execution_count": 2,
   "metadata": {
    "slideshow": {
     "slide_type": "subslide"
    }
   },
   "outputs": [
    {
     "name": "stdout",
     "output_type": "stream",
     "text": [
      "1\n",
      "10\n",
      "2\n",
      "20\n",
      "3\n",
      "30\n",
      "4\n",
      "40\n",
      "5\n",
      "50\n"
     ]
    }
   ],
   "source": [
    "for item in num_list:\n",
    "    print(item)\n",
    "    print(item * 10)"
   ]
  },
  {
   "cell_type": "code",
   "execution_count": 3,
   "metadata": {
    "slideshow": {
     "slide_type": "subslide"
    }
   },
   "outputs": [
    {
     "name": "stdout",
     "output_type": "stream",
     "text": [
      "a\n",
      "aZ\n",
      "s\n",
      "sZ\n",
      "h\n",
      "hZ\n",
      "l\n",
      "lZ\n",
      "e\n",
      "eZ\n",
      "y\n",
      "yZ\n"
     ]
    }
   ],
   "source": [
    "letters_list = ['a','s','h','l','e','y']\n",
    "for item in letters_list:\n",
    "    print(item)\n",
    "    new_item = item + 'Z'\n",
    "    print(new_item)"
   ]
  },
  {
   "cell_type": "markdown",
   "metadata": {
    "slideshow": {
     "slide_type": "subslide"
    }
   },
   "source": [
    "## Exercise\n",
    "iterate through the items in `my_numbers_list`, add 100 to each item, and print each item. `my_numbers_list = [10,20,30,40,50]`\n",
    "\n",
    "Use the format:\n",
    "```\n",
    "for item in ...\n",
    "```"
   ]
  },
  {
   "cell_type": "code",
   "execution_count": null,
   "metadata": {
    "slideshow": {
     "slide_type": "-"
    }
   },
   "outputs": [],
   "source": [
    "from gofer.ok import check\n",
    "# write your code after this line\n",
    "\n",
    "my_numbers_list = [10,20,30,40,50]\n",
    "for item in my_numbers_list:\n",
    "    print(item + 100)\n",
    "    \n",
    "# write your code before this line\n",
    "check('tests/lec6_p1.py')"
   ]
  },
  {
   "cell_type": "markdown",
   "metadata": {
    "slideshow": {
     "slide_type": "subslide"
    }
   },
   "source": [
    "## Iterating over strings"
   ]
  },
  {
   "cell_type": "code",
   "execution_count": 6,
   "metadata": {
    "slideshow": {
     "slide_type": "-"
    }
   },
   "outputs": [
    {
     "name": "stdout",
     "output_type": "stream",
     "text": [
      "a\n",
      "s\n",
      "h\n",
      "l\n",
      "e\n",
      "y\n",
      " \n",
      "s\n",
      ".\n",
      " \n",
      "l\n",
      "e\n",
      "e\n"
     ]
    }
   ],
   "source": [
    "# iterate over characters in a string\n",
    "my_str = 'ashley s. lee'\n",
    "\n",
    "for char in my_str:\n",
    "    print(char)"
   ]
  },
  {
   "cell_type": "code",
   "execution_count": 7,
   "metadata": {
    "slideshow": {
     "slide_type": "subslide"
    }
   },
   "outputs": [
    {
     "name": "stdout",
     "output_type": "stream",
     "text": [
      "ashley\n",
      "s.\n",
      "lee\n"
     ]
    }
   ],
   "source": [
    "# iterate over words in a string (split by space)\n",
    "for word in my_str.split():\n",
    "    print(word)"
   ]
  },
  {
   "cell_type": "markdown",
   "metadata": {
    "slideshow": {
     "slide_type": "subslide"
    }
   },
   "source": [
    "## Exercise: `this_str = 'I am a dog.'`\n",
    "\n",
    "#### Iterate over the characters in `this_str` and print the characters. \n",
    "Use the format:\n",
    "```\n",
    "for char in ...\n",
    "```\n",
    "\n",
    "#### Then, iterate over the words and print.\n",
    "Use the format:\n",
    "```\n",
    "for word in ...\n",
    "```"
   ]
  },
  {
   "cell_type": "code",
   "execution_count": null,
   "metadata": {
    "slideshow": {
     "slide_type": "subslide"
    }
   },
   "outputs": [],
   "source": [
    "this_str = 'I am a dog.'\n",
    "\n",
    "for char in this_str:\n",
    "    print(char)\n",
    "    \n",
    "for word in this_str.split():\n",
    "    print(word)\n",
    "    \n",
    "# write your code before this line\n",
    "check('tests/lec6_p2.py')"
   ]
  },
  {
   "cell_type": "markdown",
   "metadata": {
    "slideshow": {
     "slide_type": "subslide"
    }
   },
   "source": [
    "## For loops that iterate over dictionaries"
   ]
  },
  {
   "cell_type": "code",
   "execution_count": 28,
   "metadata": {
    "slideshow": {
     "slide_type": "-"
    }
   },
   "outputs": [
    {
     "name": "stdout",
     "output_type": "stream",
     "text": [
      "{'Ashley': 1990, 'Rihanna': 1992, 'Emily': 1986}\n"
     ]
    }
   ],
   "source": [
    "birth_year_dict = dict(Ashley=1990, Rihanna=1992, Emily=1986)\n",
    "print(birth_year_dict)"
   ]
  },
  {
   "cell_type": "code",
   "execution_count": 29,
   "metadata": {
    "slideshow": {
     "slide_type": "-"
    }
   },
   "outputs": [
    {
     "name": "stdout",
     "output_type": "stream",
     "text": [
      "Ashley\n",
      "Rihanna\n",
      "Emily\n"
     ]
    }
   ],
   "source": [
    "for key in birth_year_dict.keys():\n",
    "    print(key)"
   ]
  },
  {
   "cell_type": "code",
   "execution_count": 30,
   "metadata": {
    "slideshow": {
     "slide_type": "subslide"
    }
   },
   "outputs": [
    {
     "name": "stdout",
     "output_type": "stream",
     "text": [
      "1990\n",
      "1992\n",
      "1986\n"
     ]
    }
   ],
   "source": [
    "for value in birth_year_dict.values():\n",
    "    print(value)"
   ]
  },
  {
   "cell_type": "code",
   "execution_count": 32,
   "metadata": {
    "slideshow": {
     "slide_type": "-"
    }
   },
   "outputs": [
    {
     "name": "stdout",
     "output_type": "stream",
     "text": [
      "Ashley 1990\n",
      "Rihanna 1992\n",
      "Emily 1986\n"
     ]
    }
   ],
   "source": [
    "for key, value in birth_year_dict.items():\n",
    "    print(key, value)"
   ]
  },
  {
   "cell_type": "code",
   "execution_count": 38,
   "metadata": {
    "slideshow": {
     "slide_type": "subslide"
    }
   },
   "outputs": [
    {
     "name": "stdout",
     "output_type": "stream",
     "text": [
      "{'Ashley': 1991, 'Rihanna': 1993, 'Emily': 1987}\n"
     ]
    }
   ],
   "source": [
    "for k, v in birth_year_dict.items():\n",
    "    birth_year_dict[k] = v + 1\n",
    "    \n",
    "print(birth_year_dict)\n",
    "# keys cannot be updated in this way"
   ]
  },
  {
   "cell_type": "markdown",
   "metadata": {
    "slideshow": {
     "slide_type": "subslide"
    }
   },
   "source": [
    "## Exercise: Iterate over `cities_dict`, printing keys and values\n",
    "```\n",
    "cities_dict = {'BOS': 'Boston',\n",
    "          'NYC': 'New York City',\n",
    "          'LAX': 'Los Angeles'}\n",
    "```\n",
    "          \n",
    "\n",
    "Use the format:\n",
    "```\n",
    "for key, value in ...\n",
    "```"
   ]
  },
  {
   "cell_type": "code",
   "execution_count": null,
   "metadata": {
    "slideshow": {
     "slide_type": "-"
    }
   },
   "outputs": [],
   "source": [
    "cities_dict = {'BOS': 'Boston',\n",
    "          'NYC': 'New York City',\n",
    "          'LAX': 'Los Angeles'}\n",
    "\n",
    "for key, value in cities_dict.items():\n",
    "    print(key, value)\n",
    "    \n",
    "# write your code before this line\n",
    "check('tests/lec6_p6.py')"
   ]
  },
  {
   "cell_type": "markdown",
   "metadata": {
    "slideshow": {
     "slide_type": "slide"
    }
   },
   "source": [
    "- <font color='LIGHTGRAY'> write for loops to iterate over containers </font>\n",
    "- write for loops to iterate a given number of times\n",
    "- <font color='LIGHTGRAY'> updating containers in a for loop </font>\n",
    "- <font color='LIGHTGRAY'> write a list comprehension </font>\n",
    "- <font color='LIGHTGRAY'> write a dictionary comprehension </font>"
   ]
  },
  {
   "cell_type": "markdown",
   "metadata": {
    "slideshow": {
     "slide_type": "subslide"
    }
   },
   "source": [
    "## Iterating for a given number of times"
   ]
  },
  {
   "cell_type": "code",
   "execution_count": 8,
   "metadata": {
    "slideshow": {
     "slide_type": "-"
    }
   },
   "outputs": [
    {
     "name": "stdout",
     "output_type": "stream",
     "text": [
      "0\n",
      "1\n",
      "2\n",
      "3\n",
      "4\n",
      "5\n",
      "6\n",
      "7\n",
      "8\n",
      "9\n",
      "10\n",
      "11\n"
     ]
    }
   ],
   "source": [
    "for i in range(12):\n",
    "    print(i)"
   ]
  },
  {
   "cell_type": "code",
   "execution_count": 9,
   "metadata": {
    "slideshow": {
     "slide_type": "subslide"
    }
   },
   "outputs": [
    {
     "name": "stdout",
     "output_type": "stream",
     "text": [
      "0 a\n",
      "1 s\n",
      "2 h\n",
      "3 l\n",
      "4 e\n",
      "5 y\n",
      "6  \n",
      "7 s\n",
      "8 .\n",
      "9  \n",
      "10 l\n",
      "11 e\n",
      "12 e\n"
     ]
    }
   ],
   "source": [
    "for i in range(len(my_str)):\n",
    "    print(i, my_str[i])"
   ]
  },
  {
   "cell_type": "markdown",
   "metadata": {
    "slideshow": {
     "slide_type": "slide"
    }
   },
   "source": [
    "- <font color='LIGHTGRAY'> write for loops to iterate over containers </font>\n",
    "- <font color='LIGHTGRAY'> write for loops to iterate a given number of times </font>\n",
    "- updating containers in a for loop\n",
    "- <font color='LIGHTGRAY'> write a list comprehension </font>\n",
    "- <font color='LIGHTGRAY'> write a dictionary comprehension </font>"
   ]
  },
  {
   "cell_type": "markdown",
   "metadata": {
    "slideshow": {
     "slide_type": "subslide"
    }
   },
   "source": [
    "## Updating list elements by index"
   ]
  },
  {
   "cell_type": "code",
   "execution_count": 50,
   "metadata": {
    "slideshow": {
     "slide_type": "-"
    }
   },
   "outputs": [
    {
     "name": "stdout",
     "output_type": "stream",
     "text": [
      "[1, 9, 25, 49, 121]\n"
     ]
    }
   ],
   "source": [
    "\n",
    "prime_list = [1,3,5,7,11]\n",
    "for i in range(len(prime_list)):\n",
    "    prime_list[i] = prime_list[i] ** 2\n",
    "    \n",
    "print(prime_list)"
   ]
  },
  {
   "cell_type": "markdown",
   "metadata": {
    "slideshow": {
     "slide_type": "subslide"
    }
   },
   "source": [
    "## Exercise: Iterate over the length of `years_list`, update the values in `years_list` by adding 5 to each value, and print the index of each list item and the list item.\n",
    "\n",
    "years_list = [1990, 1956, 1959, 1988]\n",
    "\n",
    "\n",
    "Use the format:\n",
    "```\n",
    "for i in ...\n",
    "```"
   ]
  },
  {
   "cell_type": "code",
   "execution_count": 47,
   "metadata": {
    "slideshow": {
     "slide_type": "-"
    }
   },
   "outputs": [
    {
     "name": "stdout",
     "output_type": "stream",
     "text": [
      "0 1995\n",
      "1 1964\n",
      "2 1961\n",
      "3 1993\n",
      "[1995, 1964, 1961, 1993]\n"
     ]
    },
    {
     "data": {
      "text/html": [
       "\n",
       "    \n",
       "    \n",
       "        <p>All tests passed!</p>\n",
       "    \n",
       "    "
      ],
      "text/plain": [
       "<gofer.ok.OKTestsResult at 0x7fb8311d2cc0>"
      ]
     },
     "execution_count": 47,
     "metadata": {},
     "output_type": "execute_result"
    }
   ],
   "source": [
    "years_list = [1990, 1959, 1956, 1988]\n",
    "\n",
    "for i in range(len(years_list)):\n",
    "    years_list[i] = years_list[i] + 5\n",
    "    print(i, years_list[i])\n",
    "\n",
    "# write your code before this line\n",
    "check('tests/lec6_p3.py')"
   ]
  },
  {
   "cell_type": "markdown",
   "metadata": {
    "slideshow": {
     "slide_type": "subslide"
    }
   },
   "source": [
    "## Appending to a list in a loop"
   ]
  },
  {
   "cell_type": "code",
   "execution_count": 10,
   "metadata": {
    "slideshow": {
     "slide_type": "-"
    }
   },
   "outputs": [
    {
     "name": "stdout",
     "output_type": "stream",
     "text": [
      "[0.01, 0.05, 0.1, 0.25, 1.0]\n"
     ]
    }
   ],
   "source": [
    "coins_list = [0.01, 0.05, 0.1, 0.25]\n",
    "coins_list.append(1.0)\n",
    "print(coins_list)"
   ]
  },
  {
   "cell_type": "code",
   "execution_count": 11,
   "metadata": {
    "slideshow": {
     "slide_type": "-"
    }
   },
   "outputs": [
    {
     "name": "stdout",
     "output_type": "stream",
     "text": [
      "[1.0]\n"
     ]
    }
   ],
   "source": [
    "new_coins_list = []\n",
    "new_coins_list.append(1.0)\n",
    "print(new_coins_list)"
   ]
  },
  {
   "cell_type": "code",
   "execution_count": 17,
   "metadata": {
    "slideshow": {
     "slide_type": "subslide"
    }
   },
   "outputs": [
    {
     "name": "stdout",
     "output_type": "stream",
     "text": [
      "[1, 4, 9, 16]\n"
     ]
    }
   ],
   "source": [
    "ints_list = [1,2,3,4]\n",
    "sq_list = []\n",
    "for item in ints_list:\n",
    "    sq_list.append(item**2)\n",
    "    \n",
    "print(sq_list)"
   ]
  },
  {
   "cell_type": "markdown",
   "metadata": {
    "slideshow": {
     "slide_type": "subslide"
    }
   },
   "source": [
    "## Exercise: Iterate over `int_list`, multiply the values by 10, and append the values to an empty list called `tens_list`. Then, print it. `int_list = [1,2,3,4,5,6,7,8,9,10]`\n",
    "\n",
    "Use the format:\n",
    "```\n",
    "for item in ...\n",
    "```"
   ]
  },
  {
   "cell_type": "code",
   "execution_count": null,
   "metadata": {
    "slideshow": {
     "slide_type": "-"
    }
   },
   "outputs": [],
   "source": [
    "int_list = [1,2,3,4,5,6,7,8,9,10]\n",
    "tens_list = []\n",
    "for item in int_list:\n",
    "    tens_list.append(item*10)\n",
    "    \n",
    "print(tens_list)\n",
    "\n",
    "# write your code before this line\n",
    "check('tests/lec6_p4.py')"
   ]
  },
  {
   "cell_type": "markdown",
   "metadata": {
    "slideshow": {
     "slide_type": "slide"
    }
   },
   "source": [
    "- <font color='LIGHTGRAY'> write for loops to iterate over containers </font>\n",
    "- <font color='LIGHTGRAY'> write for loops to iterate a given number of times </font>\n",
    "- <font color='LIGHTGRAY'> updating containers in a for loop </font>\n",
    "- write a list comprehension\n",
    "- <font color='LIGHTGRAY'> write a dictionary comprehension </font>"
   ]
  },
  {
   "cell_type": "markdown",
   "metadata": {
    "slideshow": {
     "slide_type": "subslide"
    }
   },
   "source": [
    "## List Comprehensions (another way to iterate over a list)\n",
    "`[do something to item for item in sequence]`"
   ]
  },
  {
   "cell_type": "code",
   "execution_count": 18,
   "metadata": {
    "slideshow": {
     "slide_type": "-"
    }
   },
   "outputs": [
    {
     "name": "stdout",
     "output_type": "stream",
     "text": [
      "[1, 2, 3, 4, 5]\n",
      "[1, 2, 3, 4, 5]\n"
     ]
    }
   ],
   "source": [
    "print(num_list)\n",
    "print([item for item in num_list])"
   ]
  },
  {
   "cell_type": "code",
   "execution_count": 19,
   "metadata": {
    "slideshow": {
     "slide_type": "-"
    }
   },
   "outputs": [
    {
     "name": "stdout",
     "output_type": "stream",
     "text": [
      "[1, 2, 3, 4, 5]\n"
     ]
    }
   ],
   "source": [
    "print([number for number in num_list])"
   ]
  },
  {
   "cell_type": "code",
   "execution_count": 20,
   "metadata": {
    "slideshow": {
     "slide_type": "-"
    }
   },
   "outputs": [
    {
     "name": "stdout",
     "output_type": "stream",
     "text": [
      "[100, 200, 300, 400, 500]\n"
     ]
    }
   ],
   "source": [
    "print([item * 100 for item in num_list])"
   ]
  },
  {
   "cell_type": "code",
   "execution_count": 21,
   "metadata": {
    "slideshow": {
     "slide_type": "subslide"
    }
   },
   "outputs": [
    {
     "name": "stdout",
     "output_type": "stream",
     "text": [
      "hello world\n"
     ]
    }
   ],
   "source": [
    "this_str = 'hello world'\n",
    "print(this_str)"
   ]
  },
  {
   "cell_type": "code",
   "execution_count": 22,
   "metadata": {
    "slideshow": {
     "slide_type": "-"
    }
   },
   "outputs": [
    {
     "name": "stdout",
     "output_type": "stream",
     "text": [
      "['h', 'e', 'l', 'l', 'o', ' ', 'w', 'o', 'r', 'l', 'd']\n"
     ]
    }
   ],
   "source": [
    "chars_list = [char for char in this_str]\n",
    "print(chars_list)"
   ]
  },
  {
   "cell_type": "code",
   "execution_count": 23,
   "metadata": {
    "slideshow": {
     "slide_type": "-"
    }
   },
   "outputs": [
    {
     "name": "stdout",
     "output_type": "stream",
     "text": [
      "['hello', 'world']\n"
     ]
    }
   ],
   "source": [
    "words_list = [word for word in this_str.split()]\n",
    "print(words_list)"
   ]
  },
  {
   "cell_type": "code",
   "execution_count": 27,
   "metadata": {
    "slideshow": {
     "slide_type": "subslide"
    }
   },
   "outputs": [
    {
     "name": "stdout",
     "output_type": "stream",
     "text": [
      "[[0, 'h'], [1, 'e'], [2, 'l'], [3, 'l'], [4, 'o'], [5, ' '], [6, 'w'], [7, 'o'], [8, 'r'], [9, 'l'], [10, 'd']]\n"
     ]
    }
   ],
   "source": [
    "index_list = [[i, this_str[i]] for i in range(len(this_str))]\n",
    "print(index_list)"
   ]
  },
  {
   "cell_type": "markdown",
   "metadata": {
    "slideshow": {
     "slide_type": "subslide"
    }
   },
   "source": [
    "## Exercise: construct a list comprehension that multiplies each number in `exercise_list` by 2 and assign it to a container called `doubles_list`. Print it.\n",
    "\n",
    "`exercise_list = [10, 20, 30, 40, 50, 100]`"
   ]
  },
  {
   "cell_type": "code",
   "execution_count": null,
   "metadata": {
    "slideshow": {
     "slide_type": "-"
    }
   },
   "outputs": [],
   "source": [
    "exercise_list = [10, 20, 30, 40, 50, 100]\n",
    "doubles_list = [item*2 for item in exercise_list]\n",
    "print(doubles_list)\n",
    "\n",
    "# write your code before this line\n",
    "check('tests/lec6_p5.py')"
   ]
  },
  {
   "cell_type": "markdown",
   "metadata": {
    "slideshow": {
     "slide_type": "slide"
    }
   },
   "source": [
    "- <font color='LIGHTGRAY'> write for loops to iterate over containers </font>\n",
    "- <font color='LIGHTGRAY'> write for loops to iterate a given number of times </font>\n",
    "- <font color='LIGHTGRAY'> updating containers in a for loop </font>\n",
    "- <font color='LIGHTGRAY'> write a list comprehension </font>\n",
    "- write a dictionary comprehension"
   ]
  },
  {
   "cell_type": "markdown",
   "metadata": {
    "slideshow": {
     "slide_type": "subslide"
    }
   },
   "source": [
    "## Dictionary Comprehensions"
   ]
  },
  {
   "cell_type": "code",
   "execution_count": 39,
   "metadata": {
    "slideshow": {
     "slide_type": "-"
    }
   },
   "outputs": [
    {
     "name": "stdout",
     "output_type": "stream",
     "text": [
      "['Ashley', 'Rihanna', 'Emily']\n"
     ]
    }
   ],
   "source": [
    "print([key for key in birth_year_dict.keys()])"
   ]
  },
  {
   "cell_type": "code",
   "execution_count": 40,
   "metadata": {
    "slideshow": {
     "slide_type": "-"
    }
   },
   "outputs": [
    {
     "name": "stdout",
     "output_type": "stream",
     "text": [
      "[1991, 1993, 1987]\n"
     ]
    }
   ],
   "source": [
    "print([value for value in birth_year_dict.values()])"
   ]
  },
  {
   "cell_type": "code",
   "execution_count": 41,
   "metadata": {
    "slideshow": {
     "slide_type": "-"
    }
   },
   "outputs": [
    {
     "name": "stdout",
     "output_type": "stream",
     "text": [
      "[['Ashley', 1991], ['Rihanna', 1993], ['Emily', 1987]]\n"
     ]
    }
   ],
   "source": [
    "print([[key, value] for key, value in birth_year_dict.items()])"
   ]
  },
  {
   "cell_type": "markdown",
   "metadata": {
    "slideshow": {
     "slide_type": "subslide"
    }
   },
   "source": [
    "## Exercise: Construct a dictionary comprehension that iterates over the values in `cities_dict` and assign it to a variable called `cities_list`. Print it.\n",
    "```\n",
    "cities_dict = {'BOS': 'Boston',\n",
    "          'NYC': 'New York City',\n",
    "          'LAX': 'Los Angeles'}\n",
    "```      "
   ]
  },
  {
   "cell_type": "code",
   "execution_count": null,
   "metadata": {
    "slideshow": {
     "slide_type": "-"
    }
   },
   "outputs": [],
   "source": [
    "cities_dict = {'BOS': 'Boston',\n",
    "          'NYC': 'New York City',\n",
    "          'LAX': 'Los Angeles'}\n",
    "\n",
    "cities_list = [v for v in cities_dict.values()]\n",
    "print(cities_list)\n",
    "\n",
    "# write your code before this line\n",
    "check('tests/lec6_p7.py')"
   ]
  }
 ],
 "metadata": {
  "celltoolbar": "Slideshow",
  "kernelspec": {
   "display_name": "Python 3",
   "language": "python",
   "name": "python3"
  },
  "language_info": {
   "codemirror_mode": {
    "name": "ipython",
    "version": 3
   },
   "file_extension": ".py",
   "mimetype": "text/x-python",
   "name": "python",
   "nbconvert_exporter": "python",
   "pygments_lexer": "ipython3",
   "version": "3.7.3"
  }
 },
 "nbformat": 4,
 "nbformat_minor": 2
}
