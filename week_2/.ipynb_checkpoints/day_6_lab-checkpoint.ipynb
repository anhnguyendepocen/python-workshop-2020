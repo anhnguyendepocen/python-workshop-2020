{
 "cells": [
  {
   "cell_type": "markdown",
   "metadata": {},
   "source": [
    "# <center> Problem 1 </center>"
   ]
  },
  {
   "cell_type": "markdown",
   "metadata": {},
   "source": [
    "## Using `name_str = Willie`, loop through the letters in the string, printing each letter"
   ]
  },
  {
   "cell_type": "code",
   "execution_count": 6,
   "metadata": {},
   "outputs": [
    {
     "name": "stdout",
     "output_type": "stream",
     "text": [
      "W\n",
      "i\n",
      "l\n",
      "l\n",
      "i\n",
      "e\n"
     ]
    }
   ],
   "source": [
    "name_str = 'Willie'\n",
    "for letter in name_str:\n",
    "    print(letter)"
   ]
  },
  {
   "cell_type": "markdown",
   "metadata": {},
   "source": [
    "## Loop through the letters in the string, printing each element uppercased using the `.upper()` method"
   ]
  },
  {
   "cell_type": "code",
   "execution_count": 7,
   "metadata": {},
   "outputs": [
    {
     "name": "stdout",
     "output_type": "stream",
     "text": [
      "W\n",
      "I\n",
      "L\n",
      "L\n",
      "I\n",
      "E\n"
     ]
    }
   ],
   "source": [
    "for letter in name_str:\n",
    "    print(letter.upper())"
   ]
  },
  {
   "cell_type": "markdown",
   "metadata": {},
   "source": [
    "## Loop through the letters in the string, add a space and a period to each element and print each element\n",
    "\n",
    "Use the format:\n",
    "```\n",
    "for letter in name_str:\n",
    "    new_letter = ...\n",
    "```"
   ]
  },
  {
   "cell_type": "code",
   "execution_count": 15,
   "metadata": {},
   "outputs": [
    {
     "name": "stdout",
     "output_type": "stream",
     "text": [
      "W .\n",
      "i .\n",
      "l .\n",
      "l .\n",
      "i .\n",
      "e .\n"
     ]
    },
    {
     "data": {
      "text/html": [
       "\n",
       "    \n",
       "    \n",
       "        <p>All tests passed!</p>\n",
       "    \n",
       "    "
      ],
      "text/plain": [
       "<gofer.ok.OKTestsResult at 0x7fdf881320f0>"
      ]
     },
     "execution_count": 15,
     "metadata": {},
     "output_type": "execute_result"
    }
   ],
   "source": [
    "from gofer.ok import check\n",
    "# write your code below this line\n",
    "\n",
    "for letter in name_str:\n",
    "    new_letter = letter + ' .'\n",
    "    print(new_letter)\n",
    "    \n",
    "# write your code above this line\n",
    "check('tests/lab6_p1.py')"
   ]
  },
  {
   "cell_type": "markdown",
   "metadata": {},
   "source": [
    "## Loop through the letters in the string, concatenating each element to a string, `sentence_str = 'My name is: `, and print `sentence_str`"
   ]
  },
  {
   "cell_type": "code",
   "execution_count": 18,
   "metadata": {},
   "outputs": [
    {
     "name": "stdout",
     "output_type": "stream",
     "text": [
      "My name is: Willie\n"
     ]
    },
    {
     "data": {
      "text/html": [
       "\n",
       "    \n",
       "    \n",
       "        <p>All tests passed!</p>\n",
       "    \n",
       "    "
      ],
      "text/plain": [
       "<gofer.ok.OKTestsResult at 0x7fdf88141278>"
      ]
     },
     "execution_count": 18,
     "metadata": {},
     "output_type": "execute_result"
    }
   ],
   "source": [
    "sentence_str = 'My name is: '\n",
    "for letter in name_str:\n",
    "    sentence_str = sentence_str + letter\n",
    "print(sentence_str)\n",
    "\n",
    "# write your code above this line\n",
    "check('tests/lab6_p2.py')"
   ]
  },
  {
   "cell_type": "markdown",
   "metadata": {},
   "source": [
    "# <center> Problem 2 </center>"
   ]
  },
  {
   "cell_type": "markdown",
   "metadata": {},
   "source": [
    "## Create a list called `word_list` containing the words \"Willie\", \"likes\", \"sleeping\", \"and\", \"eating\"."
   ]
  },
  {
   "cell_type": "code",
   "execution_count": 19,
   "metadata": {},
   "outputs": [
    {
     "data": {
      "text/html": [
       "\n",
       "    \n",
       "    \n",
       "        <p>All tests passed!</p>\n",
       "    \n",
       "    "
      ],
      "text/plain": [
       "<gofer.ok.OKTestsResult at 0x7fdf78aff278>"
      ]
     },
     "execution_count": 19,
     "metadata": {},
     "output_type": "execute_result"
    }
   ],
   "source": [
    "word_list = [\"Willie\", \"likes\", \"sleeping\", \"and\", \"eating\"]\n",
    "\n",
    "# write your code above this line\n",
    "check('tests/lab6_p3.py')"
   ]
  },
  {
   "cell_type": "markdown",
   "metadata": {},
   "source": [
    "## Assign the length of `word_list` to `num_words_int` and print"
   ]
  },
  {
   "cell_type": "code",
   "execution_count": 20,
   "metadata": {},
   "outputs": [
    {
     "name": "stdout",
     "output_type": "stream",
     "text": [
      "5\n"
     ]
    },
    {
     "data": {
      "text/html": [
       "\n",
       "    \n",
       "    \n",
       "        <p>All tests passed!</p>\n",
       "    \n",
       "    "
      ],
      "text/plain": [
       "<gofer.ok.OKTestsResult at 0x7fdf78aff940>"
      ]
     },
     "execution_count": 20,
     "metadata": {},
     "output_type": "execute_result"
    }
   ],
   "source": [
    "num_words_int = len(word_list)\n",
    "print(num_words_int)\n",
    "\n",
    "# write your code above this line\n",
    "check('tests/lab6_p4.py')"
   ]
  },
  {
   "cell_type": "markdown",
   "metadata": {},
   "source": [
    "## Loop through each element in `word_list`, printing the index of the element and the element."
   ]
  },
  {
   "cell_type": "code",
   "execution_count": 12,
   "metadata": {},
   "outputs": [
    {
     "name": "stdout",
     "output_type": "stream",
     "text": [
      "0 Willie\n",
      "1 likes\n",
      "2 sleeping\n",
      "3 and\n",
      "4 eating\n"
     ]
    }
   ],
   "source": [
    "for i in range(len(word_list)):\n",
    "    print(i, word_list[i])"
   ]
  },
  {
   "cell_type": "markdown",
   "metadata": {},
   "source": [
    "## Loop through each element in `word_list`, printing the current element and the next element, separated by a space, in each loop\n",
    "\n",
    "Use the format:\n",
    "```\n",
    "for i in range ... :\n",
    "    phrase_str = ...\n",
    "    print(phrase_str)\n",
    "```"
   ]
  },
  {
   "cell_type": "code",
   "execution_count": 21,
   "metadata": {},
   "outputs": [
    {
     "name": "stdout",
     "output_type": "stream",
     "text": [
      "Willie likes\n",
      "likes sleeping\n",
      "sleeping and\n",
      "and eating\n"
     ]
    },
    {
     "data": {
      "text/html": [
       "\n",
       "    \n",
       "    \n",
       "        <p>All tests passed!</p>\n",
       "    \n",
       "    "
      ],
      "text/plain": [
       "<gofer.ok.OKTestsResult at 0x7fdf88132198>"
      ]
     },
     "execution_count": 21,
     "metadata": {},
     "output_type": "execute_result"
    }
   ],
   "source": [
    "for i in range(len(word_list) - 1):\n",
    "    phrase_str = word_list[i] + ' ' + word_list[i+1]\n",
    "    print(phrase_str)\n",
    "    \n",
    "# write your code above this line\n",
    "check('tests/lab6_p5.py')"
   ]
  },
  {
   "cell_type": "markdown",
   "metadata": {},
   "source": [
    "## Loop through each element of the list, adding a space to them and then concatenating the result to an empty string called `dog_str` "
   ]
  },
  {
   "cell_type": "code",
   "execution_count": 24,
   "metadata": {},
   "outputs": [
    {
     "name": "stdout",
     "output_type": "stream",
     "text": [
      "Willie likes sleeping and eating \n"
     ]
    },
    {
     "data": {
      "text/html": [
       "\n",
       "    \n",
       "    \n",
       "        <p>All tests passed!</p>\n",
       "    \n",
       "    "
      ],
      "text/plain": [
       "<gofer.ok.OKTestsResult at 0x7fdf78b12390>"
      ]
     },
     "execution_count": 24,
     "metadata": {},
     "output_type": "execute_result"
    }
   ],
   "source": [
    "dog_str = ''\n",
    "for word in word_list:\n",
    "    new_word = word + ' '\n",
    "    dog_str = dog_str + new_word\n",
    "print(dog_str)\n",
    "\n",
    "# write your code above this line\n",
    "check('tests/lab6_p6.py')"
   ]
  },
  {
   "cell_type": "markdown",
   "metadata": {},
   "source": [
    "# <center> Problem 3 </center>"
   ]
  },
  {
   "cell_type": "markdown",
   "metadata": {},
   "source": [
    "## Loop through `nums_list`, multiplying each element by 3 and adding to a `new_nums_list`. Print `new_nums_list`.\n",
    "```\n",
    "nums_list = [1,2,3,5,7]\n",
    "```"
   ]
  },
  {
   "cell_type": "code",
   "execution_count": 25,
   "metadata": {},
   "outputs": [
    {
     "name": "stdout",
     "output_type": "stream",
     "text": [
      "[3, 6, 9, 15, 21]\n"
     ]
    },
    {
     "data": {
      "text/html": [
       "\n",
       "    \n",
       "    \n",
       "        <p>All tests passed!</p>\n",
       "    \n",
       "    "
      ],
      "text/plain": [
       "<gofer.ok.OKTestsResult at 0x7fdfb8313e80>"
      ]
     },
     "execution_count": 25,
     "metadata": {},
     "output_type": "execute_result"
    }
   ],
   "source": [
    "nums_list = [1,2,3,5,7]\n",
    "new_nums_list = []\n",
    "for num in nums_list:\n",
    "    new_num = num * 3\n",
    "    new_nums_list.append(new_num)\n",
    "print(new_nums_list)\n",
    "\n",
    "# write your code above this line\n",
    "check('tests/lab6_p7.py')"
   ]
  },
  {
   "cell_type": "markdown",
   "metadata": {},
   "source": [
    "## Do the same exercise as above, but using a list comprehension."
   ]
  },
  {
   "cell_type": "code",
   "execution_count": 26,
   "metadata": {},
   "outputs": [
    {
     "name": "stdout",
     "output_type": "stream",
     "text": [
      "[3, 6, 9, 15, 21]\n"
     ]
    },
    {
     "data": {
      "text/html": [
       "\n",
       "    \n",
       "    \n",
       "        <p>All tests passed!</p>\n",
       "    \n",
       "    "
      ],
      "text/plain": [
       "<gofer.ok.OKTestsResult at 0x7fdf78b129b0>"
      ]
     },
     "execution_count": 26,
     "metadata": {},
     "output_type": "execute_result"
    }
   ],
   "source": [
    "new_nums_list = [num*3 for num in nums_list]\n",
    "print(new_nums_list)\n",
    "\n",
    "# write your code above this line\n",
    "check('tests/lab6_p8.py')"
   ]
  },
  {
   "cell_type": "markdown",
   "metadata": {},
   "source": [
    "# <center> Problem 4 </center>"
   ]
  },
  {
   "cell_type": "markdown",
   "metadata": {},
   "source": [
    "## Loop through `ages_dict`, printing the names and ages in the dictionary.\n",
    "```\n",
    "ages_dict = {'Ashley': 30, 'Emily': 33, 'Kurt': 28}\n",
    "```"
   ]
  },
  {
   "cell_type": "code",
   "execution_count": 28,
   "metadata": {},
   "outputs": [
    {
     "name": "stdout",
     "output_type": "stream",
     "text": [
      "Ashley 30\n",
      "Emily 33\n",
      "Kurt 28\n"
     ]
    }
   ],
   "source": [
    "ages_dict = {'Ashley': 30, 'Emily': 33, 'Kurt': 28}\n",
    "\n",
    "for k, v in ages_dict.items():\n",
    "    print(k, v)"
   ]
  },
  {
   "cell_type": "markdown",
   "metadata": {},
   "source": [
    "## Loop through `ages_dict`, lowercasing the names and adding 10 to the ages in the dictionary and printing."
   ]
  },
  {
   "cell_type": "code",
   "execution_count": 29,
   "metadata": {},
   "outputs": [
    {
     "name": "stdout",
     "output_type": "stream",
     "text": [
      "ashley 40\n",
      "emily 43\n",
      "kurt 38\n"
     ]
    }
   ],
   "source": [
    "for k, v in ages_dict.items():\n",
    "    print(k.lower(), v+10)"
   ]
  },
  {
   "cell_type": "markdown",
   "metadata": {},
   "source": [
    "## Do the same exercise as above, but using a dictionary comprehension. Assign the dictionary comprehension to a variable called `my_list` and print."
   ]
  },
  {
   "cell_type": "code",
   "execution_count": 30,
   "metadata": {},
   "outputs": [
    {
     "name": "stdout",
     "output_type": "stream",
     "text": [
      "[('ashley', 40), ('emily', 43), ('kurt', 38)]\n"
     ]
    },
    {
     "data": {
      "text/html": [
       "\n",
       "    \n",
       "    \n",
       "        <p>All tests passed!</p>\n",
       "    \n",
       "    "
      ],
      "text/plain": [
       "<gofer.ok.OKTestsResult at 0x7fdf78b762e8>"
      ]
     },
     "execution_count": 30,
     "metadata": {},
     "output_type": "execute_result"
    }
   ],
   "source": [
    "my_list = [(k.lower(), v+10) for k, v in ages_dict.items()]\n",
    "print(my_list)\n",
    "\n",
    "# write your code above this line\n",
    "check('tests/lab6_p9.py')"
   ]
  },
  {
   "cell_type": "code",
   "execution_count": null,
   "metadata": {},
   "outputs": [],
   "source": []
  }
 ],
 "metadata": {
  "kernelspec": {
   "display_name": "Python 3",
   "language": "python",
   "name": "python3"
  },
  "language_info": {
   "codemirror_mode": {
    "name": "ipython",
    "version": 3
   },
   "file_extension": ".py",
   "mimetype": "text/x-python",
   "name": "python",
   "nbconvert_exporter": "python",
   "pygments_lexer": "ipython3",
   "version": "3.7.0"
  }
 },
 "nbformat": 4,
 "nbformat_minor": 2
}
