{
 "cells": [
  {
   "cell_type": "markdown",
   "metadata": {
    "slideshow": {
     "slide_type": "slide"
    }
   },
   "source": [
    "# <center>Introduction to Python Programming</center>\n",
    "## <center>Instructors: Ashley Lee and Andras Zsom</center>\n",
    "### <center>Center for Computation and Visualization</center>\n",
    "### <center>Sponsored by the Data Science Initiative</center>"
   ]
  },
  {
   "cell_type": "markdown",
   "metadata": {
    "slideshow": {
     "slide_type": "slide"
    }
   },
   "source": [
    "## <center>Overview of the workshop</center>\n",
    "Learning objectives of the first two weeks:\n",
    "- describe and work with container types such as variables, lists, dictionaries, and arrays,\n",
    "- describe and write short code snippets using control flow techniques such as if and while statements, for loops, and list comprehensions,\n",
    "- prepare functions to manipulate data.\n"
   ]
  },
  {
   "cell_type": "markdown",
   "metadata": {
    "slideshow": {
     "slide_type": "subslide"
    }
   },
   "source": [
    "## <center>Overview of the workshop</center>\n",
    "Learning objectives of the third week:\n",
    "- describe the basics of web page structures (HTML, CSS),\n",
    "- use developer tools in Google Chrome to inspect the page source underlying a web page,\n",
    "- grasp the fundamentals of scraping several different web pages of varying complexity,\n",
    "- control crawl rates and monitor the scraping loop,\n",
    "- scrape a multi-page web query into a dataframe.\n"
   ]
  },
  {
   "cell_type": "markdown",
   "metadata": {
    "slideshow": {
     "slide_type": "subslide"
    }
   },
   "source": [
    "## <center>Overview of the workshop</center>\n",
    "Learning objectives of the fourth week:\n",
    "- read in and manipulate the scraped data from csv and excel files, and sql databases\n",
    "- filter and modify the scraped data\n",
    "- visualize the data\n",
    "- calculate summary statistics \n"
   ]
  },
  {
   "cell_type": "markdown",
   "metadata": {
    "slideshow": {
     "slide_type": "slide"
    }
   },
   "source": [
    "## <center>What is programming?</center>\n",
    "- You type instructions for the computer to perform.\n",
    "- The computer performs those instructions to the letter.\n",
    "- **Testing**: you make sure the computer does what you want it to do\n",
    "- **Debugging**: your instructions are inaccurate, so you fix them. :)\n",
    "- It is a language heavy with mathematical concepts that might seem  weird at first"
   ]
  },
  {
   "cell_type": "markdown",
   "metadata": {
    "slideshow": {
     "slide_type": "slide"
    }
   },
   "source": [
    "## <center>Coding is a language</center>\n",
    "- It is tough to learn a new language, be patient with yourself!\n",
    "- You learn to \"talk\" to a computer\n",
    "   - it's tough because the computer is unforgiving\n",
    "   - it's easy because you'll know if your code is correct or not - feedback through testing\n",
    "- Don't expect to be 'fluent' by the end of this workshop."
   ]
  },
  {
   "cell_type": "markdown",
   "metadata": {
    "slideshow": {
     "slide_type": "slide"
    }
   },
   "source": [
    "## <center>The language analogy</center>\n",
    "- variables are the letters\n",
    "- containers are the words\n",
    "- control flow is grammar\n",
    "- functions are sentences"
   ]
  },
  {
   "cell_type": "markdown",
   "metadata": {
    "slideshow": {
     "slide_type": "slide"
    }
   },
   "source": [
    "## <center>What is programming good for?</center>\n",
    "### <center>AUTOMATION!</center>\n",
    "\n",
    "#### Computer is explicitly programmed how to perform a task.\n",
    "- Manipulate data,\n",
    "- Automatically download files and text from websites,\n",
    "- Perform any task with excel spreadsheets.\n"
   ]
  },
  {
   "cell_type": "markdown",
   "metadata": {
    "slideshow": {
     "slide_type": "slide"
    }
   },
   "source": [
    "# <center>Jupyterhub walk through</center>"
   ]
  },
  {
   "cell_type": "markdown",
   "metadata": {
    "slideshow": {
     "slide_type": "slide"
    }
   },
   "source": [
    "# <center> Python as a calculator </center>"
   ]
  },
  {
   "cell_type": "code",
   "execution_count": 4,
   "metadata": {},
   "outputs": [
    {
     "data": {
      "text/plain": [
       "2.3529411764705883"
      ]
     },
     "execution_count": 4,
     "metadata": {},
     "output_type": "execute_result"
    }
   ],
   "source": [
    "12/5.1"
   ]
  },
  {
   "cell_type": "markdown",
   "metadata": {
    "slideshow": {
     "slide_type": "slide"
    }
   },
   "source": [
    "# <center> Variables - Overview</center>\n",
    "- Data is represented as numbers, strings, or boolean variables.\n",
    "    - Variables store a value but it can be changed/updated by the program\n",
    "- Numbers can be integers (whole numbers) or floats (numbers with decimal points).\n",
    "- Boolean variables can have only two values: True or False.\n",
    "- Strings are a sequence of characters within quotation marks.\n"
   ]
  },
  {
   "cell_type": "markdown",
   "metadata": {
    "slideshow": {
     "slide_type": "slide"
    }
   },
   "source": [
    "# <center> Numbers </center>"
   ]
  },
  {
   "cell_type": "code",
   "execution_count": 5,
   "metadata": {
    "slideshow": {
     "slide_type": "-"
    }
   },
   "outputs": [
    {
     "name": "stdout",
     "output_type": "stream",
     "text": [
      "<class 'int'>\n",
      "<class 'int'>\n",
      "<class 'float'>\n",
      "<class 'float'>\n"
     ]
    }
   ],
   "source": [
    "# variables store values that we can work with and modify it later.\n",
    "# variables can be named arbitrarily but we use the hungarian notation!\n",
    "# assign value to variables\n",
    "a_int = 5\n",
    "b_int = 8\n",
    "c_flt = 1.6\n",
    "d_flt = 5.2\n",
    "\n",
    "# to check the type of a variable:\n",
    "print(type(a_int)) # use parentheses for type and print\n",
    "print(type(b_int))\n",
    "print(type(c_flt))\n",
    "print(type(d_flt))"
   ]
  },
  {
   "cell_type": "markdown",
   "metadata": {
    "slideshow": {
     "slide_type": "subslide"
    }
   },
   "source": [
    "### Let's work with the variables and create new ones"
   ]
  },
  {
   "cell_type": "code",
   "execution_count": 7,
   "metadata": {
    "slideshow": {
     "slide_type": "-"
    }
   },
   "outputs": [
    {
     "name": "stdout",
     "output_type": "stream",
     "text": [
      "13\n",
      "8.0\n",
      "<class 'float'>\n",
      "8.0\n"
     ]
    }
   ],
   "source": [
    "a_int = 5\n",
    "b_int = 8\n",
    "c_flt = 1.6\n",
    "d_flt = 5.2\n",
    "\n",
    "# print the sum of two numbers\n",
    "print(a_int+b_int)\n",
    "# print the product of two numbers\n",
    "print(a_int*c_flt)\n",
    "# what is the type of this new variable?\n",
    "print(type(a_int*c_flt))\n",
    "# create a new varible!\n",
    "e_flt = a_int*c_flt\n",
    "print(e_flt)"
   ]
  },
  {
   "cell_type": "code",
   "execution_count": 9,
   "metadata": {
    "slideshow": {
     "slide_type": "subslide"
    }
   },
   "outputs": [
    {
     "name": "stdout",
     "output_type": "stream",
     "text": [
      "<class 'float'>\n",
      "-2.8\n",
      "<class 'int'>\n",
      "40\n"
     ]
    }
   ],
   "source": [
    "# create a new variable and equate it to the difference of two numbers\n",
    "print(type(d_flt - b_int))\n",
    "f_flt = d_flt - b_int\n",
    "print(f_flt)\n",
    "# multiply two numbers and store the value in a new variable\n",
    "print(type(b_int*a_int))\n",
    "g_int = b_int*a_int\n",
    "print(g_int) "
   ]
  },
  {
   "cell_type": "markdown",
   "metadata": {
    "slideshow": {
     "slide_type": "subslide"
    }
   },
   "source": [
    "### Change the value of a variable"
   ]
  },
  {
   "cell_type": "code",
   "execution_count": 15,
   "metadata": {
    "slideshow": {
     "slide_type": "-"
    }
   },
   "outputs": [
    {
     "name": "stdout",
     "output_type": "stream",
     "text": [
      "15\n",
      "17\n"
     ]
    }
   ],
   "source": [
    "# let's add 2 to a_int\n",
    "print(a_int)\n",
    "a_int = a_int + 2\n",
    "print(a_int)\n",
    "# be careful! if you rerun this cell, a_int will keep increasing by 2."
   ]
  },
  {
   "cell_type": "code",
   "execution_count": 19,
   "metadata": {
    "slideshow": {
     "slide_type": "subslide"
    }
   },
   "outputs": [
    {
     "name": "stdout",
     "output_type": "stream",
     "text": [
      "12.0\n",
      "<class 'float'>\n",
      "<class 'int'>\n",
      "<class 'float'>\n"
     ]
    }
   ],
   "source": [
    "# let's multiply b_int with 1.5\n",
    "# what's the type of the new variable? \n",
    "# Should we store this value in b_int?\n",
    "b_int = 8\n",
    "print(b_int*1.5)\n",
    "print(type(b_int*1.5))\n",
    "print(type(b_int))\n",
    "b_flt = b_int*1.5 # NOT CORRECT!\n",
    "print(type(b_flt))\n"
   ]
  },
  {
   "cell_type": "markdown",
   "metadata": {
    "slideshow": {
     "slide_type": "slide"
    }
   },
   "source": [
    "## Exercise 1\n",
    "- What's the type of a_int / b_int?  Create a new variable for it and start the name of the variable with ans1_ and complete it with the type of a_int / b_int!"
   ]
  },
  {
   "cell_type": "code",
   "execution_count": 19,
   "metadata": {},
   "outputs": [
    {
     "name": "stdout",
     "output_type": "stream",
     "text": [
      "<class 'float'>\n"
     ]
    },
    {
     "data": {
      "text/html": [
       "\n",
       "    \n",
       "    \n",
       "        <p>All tests passed!</p>\n",
       "    \n",
       "    "
      ],
      "text/plain": [
       "<gofer.ok.OKTestsResult at 0x103c0f2b0>"
      ]
     },
     "execution_count": 19,
     "metadata": {},
     "output_type": "execute_result"
    }
   ],
   "source": [
    "from gofer.ok import check\n",
    "# add your code below this line\n",
    "\n",
    "\n",
    "check('tests/lec1_p1.py')"
   ]
  },
  {
   "cell_type": "code",
   "execution_count": 30,
   "metadata": {},
   "outputs": [
    {
     "name": "stdout",
     "output_type": "stream",
     "text": [
      "2\n"
     ]
    }
   ],
   "source": [
    "print(True + 1)"
   ]
  },
  {
   "cell_type": "markdown",
   "metadata": {
    "slideshow": {
     "slide_type": "slide"
    }
   },
   "source": [
    "# <center> Boolean variables</center>"
   ]
  },
  {
   "cell_type": "code",
   "execution_count": 32,
   "metadata": {},
   "outputs": [
    {
     "name": "stdout",
     "output_type": "stream",
     "text": [
      "True False\n",
      "<class 'bool'>\n"
     ]
    }
   ],
   "source": [
    "# create a boolean variable\n",
    "var1_bool = True\n",
    "var2_bool = False\n",
    "print(var1_bool, var2_bool)\n",
    "print(type(var1_bool))"
   ]
  },
  {
   "cell_type": "markdown",
   "metadata": {
    "slideshow": {
     "slide_type": "subslide"
    }
   },
   "source": [
    "### Compare variables"
   ]
  },
  {
   "cell_type": "code",
   "execution_count": 33,
   "metadata": {},
   "outputs": [
    {
     "name": "stdout",
     "output_type": "stream",
     "text": [
      "True\n",
      "False\n",
      "True\n"
     ]
    }
   ],
   "source": [
    "a_int = 5\n",
    "b_int = 8\n",
    "c_flt = 1.6\n",
    "d_flt = 5.0\n",
    "c1_bool = c_flt < b_int\n",
    "c2_bool = a_int > b_int\n",
    "c3_bool = a_int == d_flt\n",
    "print(c1_bool)\n",
    "print(c2_bool)\n",
    "print(c3_bool)"
   ]
  },
  {
   "cell_type": "code",
   "execution_count": 21,
   "metadata": {
    "slideshow": {
     "slide_type": "subslide"
    }
   },
   "outputs": [
    {
     "name": "stdout",
     "output_type": "stream",
     "text": [
      "False\n",
      "True\n"
     ]
    }
   ],
   "source": [
    "a_int = 5\n",
    "b_int = 8\n",
    "c_flt = 1.6\n",
    "d_flt = 5.0\n",
    "# is b_int+c_flt larger than a_int+d_flt?\n",
    "compvars1_bool = b_int+c_flt > a_int+d_flt\n",
    "# is c_flt-a_int smaller than b_int-d_flt?\n",
    "compvars2_bool = c_flt-a_int < b_int-d_flt\n",
    "print(compvars1_bool)\n",
    "print(compvars2_bool)"
   ]
  },
  {
   "cell_type": "markdown",
   "metadata": {
    "slideshow": {
     "slide_type": "subslide"
    }
   },
   "source": [
    "### check variable type"
   ]
  },
  {
   "cell_type": "code",
   "execution_count": 23,
   "metadata": {
    "slideshow": {
     "slide_type": "-"
    }
   },
   "outputs": [
    {
     "name": "stdout",
     "output_type": "stream",
     "text": [
      "False\n",
      "True\n",
      "True\n"
     ]
    }
   ],
   "source": [
    "# is the type of a_int and c_flt the same?\n",
    "comptypes1_bool = type(a_int) == type(c_flt)\n",
    "print(comptypes1_bool)\n",
    "\n",
    "# is a_int of type int?\n",
    "type_a_bool = type(a_int) == int\n",
    "print(type_a_bool)\n",
    "\n",
    "# is d_flt really a float?\n",
    "type_d_bool = type(d_flt) == float\n",
    "print(type_d_bool)"
   ]
  },
  {
   "cell_type": "markdown",
   "metadata": {
    "slideshow": {
     "slide_type": "slide"
    }
   },
   "source": [
    "## <center>Exercise 2</center>"
   ]
  },
  {
   "cell_type": "code",
   "execution_count": 32,
   "metadata": {},
   "outputs": [
    {
     "name": "stdout",
     "output_type": "stream",
     "text": [
      "<class 'int'>\n",
      "<class 'float'>\n",
      "False\n"
     ]
    },
    {
     "data": {
      "text/html": [
       "\n",
       "    \n",
       "    \n",
       "        <p>All tests passed!</p>\n",
       "    \n",
       "    "
      ],
      "text/plain": [
       "<gofer.ok.OKTestsResult at 0x104f3a278>"
      ]
     },
     "execution_count": 32,
     "metadata": {},
     "output_type": "execute_result"
    }
   ],
   "source": [
    "a_int = 3\n",
    "b_int = 9.1\n",
    "# Check if a_int and b_int are really of type int! Create a boolean variable with the name \n",
    "# compvars_ab_bool and check if the two types are the same!\n",
    "# Do you notice anything strange here? \n",
    "\n",
    "check('tests/lec1_p2.py')"
   ]
  },
  {
   "cell_type": "code",
   "execution_count": null,
   "metadata": {},
   "outputs": [],
   "source": []
  }
 ],
 "metadata": {
  "celltoolbar": "Slideshow",
  "kernelspec": {
   "display_name": "Python 3",
   "language": "python",
   "name": "python3"
  },
  "language_info": {
   "codemirror_mode": {
    "name": "ipython",
    "version": 3
   },
   "file_extension": ".py",
   "mimetype": "text/x-python",
   "name": "python",
   "nbconvert_exporter": "python",
   "pygments_lexer": "ipython3",
   "version": "3.7.3"
  }
 },
 "nbformat": 4,
 "nbformat_minor": 2
}
