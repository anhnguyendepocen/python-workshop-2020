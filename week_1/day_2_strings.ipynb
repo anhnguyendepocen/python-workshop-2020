{
 "cells": [
  {
   "cell_type": "markdown",
   "metadata": {
    "slideshow": {
     "slide_type": "slide"
    }
   },
   "source": [
    "# <center> Please go to https://ccv.jupyter.brown.edu </center>"
   ]
  },
  {
   "cell_type": "markdown",
   "metadata": {
    "slideshow": {
     "slide_type": "slide"
    }
   },
   "source": [
    "# <center> What we learned so far... </center>\n",
    "- What are Jupyter notebooks\n",
    "- What are variables\n",
    "- How to work with number and boolean variables"
   ]
  },
  {
   "cell_type": "markdown",
   "metadata": {
    "slideshow": {
     "slide_type": "slide"
    }
   },
   "source": [
    "# <center> String Variables </center>\n",
    "## By the end of the day you'll be able to \n",
    "- Describe and create characters and strings\n",
    "- Index strings\n",
    "- Use string operations\n",
    "- Describe special characters\n",
    "- Convert strings to numbers and numbers to strings"
   ]
  },
  {
   "cell_type": "markdown",
   "metadata": {
    "slideshow": {
     "slide_type": "slide"
    }
   },
   "source": [
    "# <center> Variables Review </center>\n",
    "* You assign a value to a variable using the `=` sign.\n",
    "* You can change the value assigned to a variable.\n",
    "* Data is represented as numbers, strings, or boolean variables.\n",
    "* Numbers can be integers (whole numbers) or floats (numbers with decimal points).\n",
    "* Boolean variables can have only two values: True or False."
   ]
  },
  {
   "cell_type": "markdown",
   "metadata": {
    "slideshow": {
     "slide_type": "slide"
    }
   },
   "source": [
    "- Describe and create characters and strings\n",
    "- <font color='LIGHTGRAY'>Index strings </font>\n",
    "- <font color='LIGHTGRAY'>Use string operations </font>\n",
    "- <font color='LIGHTGRAY'>Describe special characters </font>\n",
    "- <font color='LIGHTGRAY'>Convert strings to numbers and numbers to strings </font>"
   ]
  },
  {
   "cell_type": "markdown",
   "metadata": {
    "slideshow": {
     "slide_type": "subslide"
    }
   },
   "source": [
    "# <center> Characters </center>"
   ]
  },
  {
   "cell_type": "code",
   "execution_count": null,
   "metadata": {
    "slideshow": {
     "slide_type": "fragment"
    }
   },
   "outputs": [],
   "source": [
    "a_lowercase_str = 'a'\n",
    "print(a_lowercase_str)"
   ]
  },
  {
   "cell_type": "code",
   "execution_count": null,
   "metadata": {
    "slideshow": {
     "slide_type": "fragment"
    }
   },
   "outputs": [],
   "source": [
    "another_lowercase_str = \"b\"\n",
    "print(another_lowercase_str) "
   ]
  },
  {
   "cell_type": "code",
   "execution_count": null,
   "metadata": {
    "slideshow": {
     "slide_type": "fragment"
    }
   },
   "outputs": [],
   "source": [
    "an_uppercase_str = 'Z'\n",
    "print(an_uppercase_str)"
   ]
  },
  {
   "cell_type": "markdown",
   "metadata": {
    "slideshow": {
     "slide_type": "subslide"
    }
   },
   "source": [
    "## Exercise: Define a character variable called `another_uppercase_str` and assign the value \"A\" to it. Then, print the variable."
   ]
  },
  {
   "cell_type": "code",
   "execution_count": null,
   "metadata": {
    "slideshow": {
     "slide_type": "-"
    }
   },
   "outputs": [],
   "source": [
    "from gofer.ok import check\n",
    "# write your code below this line\n",
    "\n",
    "\n",
    "# write your code above this line\n",
    "\n",
    "check('tests/lec2_p1.py')"
   ]
  },
  {
   "cell_type": "code",
   "execution_count": null,
   "metadata": {
    "slideshow": {
     "slide_type": "subslide"
    }
   },
   "outputs": [],
   "source": [
    "a_number_str = '9'\n",
    "print(a_number_str)\n",
    "\n",
    "# a_number_char + 6"
   ]
  },
  {
   "cell_type": "code",
   "execution_count": null,
   "metadata": {
    "slideshow": {
     "slide_type": "fragment"
    }
   },
   "outputs": [],
   "source": [
    "a_symbol_str = '-' \n",
    "print(a_symbol_str)"
   ]
  },
  {
   "cell_type": "code",
   "execution_count": null,
   "metadata": {
    "slideshow": {
     "slide_type": "fragment"
    }
   },
   "outputs": [],
   "source": [
    "combined_str = a_lowercase_str + a_number_str\n",
    "print(combined_str)"
   ]
  },
  {
   "cell_type": "markdown",
   "metadata": {
    "slideshow": {
     "slide_type": "subslide"
    }
   },
   "source": [
    "## Exercise: Create a variable called `comb_str` and using the character variables we defined, assign the value \"A-Z\" to it. Then, print it."
   ]
  },
  {
   "cell_type": "code",
   "execution_count": null,
   "metadata": {
    "slideshow": {
     "slide_type": "-"
    }
   },
   "outputs": [],
   "source": [
    "\n",
    "# write your code above this line\n",
    "check('tests/lec2_p2.py')"
   ]
  },
  {
   "cell_type": "markdown",
   "metadata": {
    "slideshow": {
     "slide_type": "slide"
    }
   },
   "source": [
    "# <center> Strings </center>"
   ]
  },
  {
   "cell_type": "code",
   "execution_count": null,
   "metadata": {
    "slideshow": {
     "slide_type": "subslide"
    }
   },
   "outputs": [],
   "source": [
    "short_str = \"string\"\n",
    "longer_str = 'This is my first string!'\n",
    "\n",
    "print(short_str)\n",
    "print(longer_str) "
   ]
  },
  {
   "cell_type": "code",
   "execution_count": null,
   "metadata": {
    "slideshow": {
     "slide_type": "subslide"
    }
   },
   "outputs": [],
   "source": [
    "# beware of apostrophe in strings!\n",
    "\n",
    "# NOT VALID\n",
    "print('There's my first string!')\n",
    "\n",
    "# VALID\n",
    "print(\"There's my first string!\")"
   ]
  },
  {
   "cell_type": "markdown",
   "metadata": {
    "slideshow": {
     "slide_type": "subslide"
    }
   },
   "source": [
    "## Exercise: define a variable called `exercise_str` and assign the following sentence to it: \n",
    "\n",
    "`This is a sentence that I have assigned to the variable, \"exercise string\".`\n",
    "## Then, print it."
   ]
  },
  {
   "cell_type": "code",
   "execution_count": null,
   "metadata": {
    "slideshow": {
     "slide_type": "-"
    }
   },
   "outputs": [],
   "source": [
    "\n",
    "# write your code above this line\n",
    "check('tests/lec2_p3.py')"
   ]
  },
  {
   "cell_type": "markdown",
   "metadata": {
    "slideshow": {
     "slide_type": "slide"
    }
   },
   "source": [
    "- <font color='LIGHTGRAY'> Describe and create characters and strings </font>\n",
    "- Index strings\n",
    "- <font color='LIGHTGRAY'>Use string operations </font>\n",
    "- <font color='LIGHTGRAY'>Describe special characters </font>\n",
    "- <font color='LIGHTGRAY'>Convert strings to numbers and numbers to strings </font>"
   ]
  },
  {
   "cell_type": "markdown",
   "metadata": {
    "slideshow": {
     "slide_type": "subslide"
    }
   },
   "source": [
    "# <center> String indexing </center>\n",
    "\n",
    "### <center> string[*starting index* : *stopping index* : *step size*] </center>\n",
    "\n",
    "#### Default Values:\n",
    "* start = beginning of string\n",
    "* stop = end of string\n",
    "* step = 1\n"
   ]
  },
  {
   "cell_type": "code",
   "execution_count": null,
   "metadata": {
    "slideshow": {
     "slide_type": "subslide"
    }
   },
   "outputs": [],
   "source": [
    "my_name_str = 'Ashley S. Lee'\n",
    "\n",
    "# indexing one character\n",
    "print(my_name_str[0])\n",
    "print(my_name_str[1])\n",
    "print(my_name_str[-3])"
   ]
  },
  {
   "cell_type": "code",
   "execution_count": null,
   "metadata": {
    "slideshow": {
     "slide_type": "subslide"
    }
   },
   "outputs": [],
   "source": [
    "# indexing a range of characters\n",
    "print(my_name_str[0:3]) # stop index is not included"
   ]
  },
  {
   "cell_type": "code",
   "execution_count": null,
   "metadata": {
    "slideshow": {
     "slide_type": "fragment"
    }
   },
   "outputs": [],
   "source": [
    "print(my_name_str[3:])"
   ]
  },
  {
   "cell_type": "code",
   "execution_count": null,
   "metadata": {
    "slideshow": {
     "slide_type": "fragment"
    }
   },
   "outputs": [],
   "source": [
    "print(my_name_str[:6]) "
   ]
  },
  {
   "cell_type": "code",
   "execution_count": null,
   "metadata": {
    "slideshow": {
     "slide_type": "subslide"
    }
   },
   "outputs": [],
   "source": [
    "# indexing a range of characters with a step\n",
    "print(my_name_str[::2])"
   ]
  },
  {
   "cell_type": "code",
   "execution_count": null,
   "metadata": {
    "slideshow": {
     "slide_type": "fragment"
    }
   },
   "outputs": [],
   "source": [
    "print(my_name_str[1::3]) "
   ]
  },
  {
   "cell_type": "code",
   "execution_count": null,
   "metadata": {
    "slideshow": {
     "slide_type": "fragment"
    }
   },
   "outputs": [],
   "source": [
    "print(my_name_str[::]) # default step size = 1"
   ]
  },
  {
   "cell_type": "code",
   "execution_count": null,
   "metadata": {
    "slideshow": {
     "slide_type": "subslide"
    }
   },
   "outputs": [],
   "source": [
    "# backwards indexing\n",
    "print(my_name_str[::-1])"
   ]
  },
  {
   "cell_type": "markdown",
   "metadata": {
    "slideshow": {
     "slide_type": "subslide"
    }
   },
   "source": [
    "## Exercise: Indexing a string\n",
    "`my_name_str = 'Andras Zsom'`\n",
    "* Assign the initial of the last name to `a_str`\n",
    "* Assign the last four characters to `b_str`\n",
    "* Assign every second character to `c_str`\n",
    "* Assign every third character in reverse order to `d_str`\n",
    "* Assign the characters between the second and the sixth location to `e_str`\n",
    "* Print all variables"
   ]
  },
  {
   "cell_type": "code",
   "execution_count": null,
   "metadata": {
    "slideshow": {
     "slide_type": "subslide"
    }
   },
   "outputs": [],
   "source": [
    "my_name_str = 'Andras Zsom'\n",
    "\n",
    "\n",
    "# write your code above this line\n",
    "check('tests/lec2_p4.py')"
   ]
  },
  {
   "cell_type": "markdown",
   "metadata": {
    "slideshow": {
     "slide_type": "slide"
    }
   },
   "source": [
    "- <font color='LIGHTGRAY'> Describe and create characters and strings </font>\n",
    "- <font color='LIGHTGRAY'>Index strings </font>\n",
    "- Use string operations\n",
    "- <font color='LIGHTGRAY'>Describe special characters </font>\n",
    "- <font color='LIGHTGRAY'>Convert strings to numbers and numbers to strings </font>"
   ]
  },
  {
   "cell_type": "markdown",
   "metadata": {
    "slideshow": {
     "slide_type": "subslide"
    }
   },
   "source": [
    "# <center> Useful string operations </center>"
   ]
  },
  {
   "cell_type": "code",
   "execution_count": null,
   "metadata": {
    "slideshow": {
     "slide_type": "subslide"
    }
   },
   "outputs": [],
   "source": [
    "# combine strings\n",
    "first_name_str = 'Ashley'\n",
    "second_name_str = 'Lee'\n",
    "full_name_str = first_name_str + second_name_str\n",
    "print(full_name_str)"
   ]
  },
  {
   "cell_type": "code",
   "execution_count": null,
   "metadata": {
    "slideshow": {
     "slide_type": "subslide"
    }
   },
   "outputs": [],
   "source": [
    "space_name_str = first_name_str + \" \" + second_name_str\n",
    "print(space_name_str)"
   ]
  },
  {
   "cell_type": "code",
   "execution_count": null,
   "metadata": {
    "slideshow": {
     "slide_type": "subslide"
    }
   },
   "outputs": [],
   "source": [
    "# repeat strings\n",
    "laugh_str = 'ha'\n",
    "print(laugh_str*3)"
   ]
  },
  {
   "cell_type": "code",
   "execution_count": null,
   "metadata": {
    "slideshow": {
     "slide_type": "subslide"
    }
   },
   "outputs": [],
   "source": [
    "# split strings\n",
    "print(space_name_str)"
   ]
  },
  {
   "cell_type": "code",
   "execution_count": null,
   "metadata": {
    "slideshow": {
     "slide_type": "fragment"
    }
   },
   "outputs": [],
   "source": [
    "# split on space\n",
    "print(space_name_str.split())\n",
    "print(space_name_str.split(' '))"
   ]
  },
  {
   "cell_type": "code",
   "execution_count": null,
   "metadata": {
    "slideshow": {
     "slide_type": "fragment"
    }
   },
   "outputs": [],
   "source": [
    "# split on another character\n",
    "print(space_name_str.split('l'))"
   ]
  },
  {
   "cell_type": "code",
   "execution_count": null,
   "metadata": {
    "slideshow": {
     "slide_type": "subslide"
    }
   },
   "outputs": [],
   "source": [
    "# check if characters are in string\n",
    "full_name_str = 'Ashley S. Lee'\n",
    "chars = 'ash'\n",
    "check_bool = chars in full_name_str\n",
    "print(check_bool)"
   ]
  },
  {
   "cell_type": "code",
   "execution_count": null,
   "metadata": {
    "slideshow": {
     "slide_type": "subslide"
    }
   },
   "outputs": [],
   "source": [
    "chars = 'Ash'\n",
    "check_bool = chars in full_name_str\n",
    "print(check_bool)"
   ]
  },
  {
   "cell_type": "code",
   "execution_count": null,
   "metadata": {
    "slideshow": {
     "slide_type": "subslide"
    }
   },
   "outputs": [],
   "source": [
    "# find - returns the first occurrence of a character\n",
    "print(full_name_str)\n",
    "print(full_name_str.find('e'))"
   ]
  },
  {
   "cell_type": "markdown",
   "metadata": {
    "slideshow": {
     "slide_type": "subslide"
    }
   },
   "source": [
    "## Exercise: How would you check if `first_str = 'racecar'` is a palindrome? Assign the check to a variable called `check_pal_bool` and print it."
   ]
  },
  {
   "cell_type": "code",
   "execution_count": null,
   "metadata": {
    "slideshow": {
     "slide_type": "-"
    }
   },
   "outputs": [],
   "source": [
    "first_str = 'racecar'\n",
    "\n",
    "\n",
    "# write your code above this line\n",
    "check('tests/lec2_p6.py')"
   ]
  },
  {
   "cell_type": "markdown",
   "metadata": {
    "slideshow": {
     "slide_type": "slide"
    }
   },
   "source": [
    "- <font color='LIGHTGRAY'> Describe and create characters and strings </font>\n",
    "- <font color='LIGHTGRAY'>Index strings </font>\n",
    "- <font color='LIGHTGRAY'>Use string operations </font>\n",
    "- Describe special characters\n",
    "- <font color='LIGHTGRAY'>Convert strings to numbers and numbers to strings </font>"
   ]
  },
  {
   "cell_type": "markdown",
   "metadata": {
    "slideshow": {
     "slide_type": "slide"
    }
   },
   "source": [
    "# <center> Special String Characters </center>"
   ]
  },
  {
   "cell_type": "code",
   "execution_count": null,
   "metadata": {
    "slideshow": {
     "slide_type": "subslide"
    }
   },
   "outputs": [],
   "source": [
    "print('first line \\n second line')"
   ]
  },
  {
   "cell_type": "code",
   "execution_count": null,
   "metadata": {
    "slideshow": {
     "slide_type": "subslide"
    }
   },
   "outputs": [],
   "source": [
    "print('first line \\\\n second line')"
   ]
  },
  {
   "cell_type": "markdown",
   "metadata": {
    "slideshow": {
     "slide_type": "subslide"
    }
   },
   "source": [
    "## Exercise: print your first name, a line break, then your last name"
   ]
  },
  {
   "cell_type": "code",
   "execution_count": null,
   "metadata": {
    "slideshow": {
     "slide_type": "-"
    }
   },
   "outputs": [],
   "source": []
  },
  {
   "cell_type": "markdown",
   "metadata": {
    "slideshow": {
     "slide_type": "slide"
    }
   },
   "source": [
    "- <font color='LIGHTGRAY'> Describe and create characters and strings </font>\n",
    "- <font color='LIGHTGRAY'>Index strings </font>\n",
    "- <font color='LIGHTGRAY'>Use string operations </font>\n",
    "- <font color='LIGHTGRAY'>Describe special characters </font>\n",
    "- Convert strings to numbers and numbers to strings"
   ]
  },
  {
   "cell_type": "markdown",
   "metadata": {
    "slideshow": {
     "slide_type": "subslide"
    }
   },
   "source": [
    "## Casting between types"
   ]
  },
  {
   "cell_type": "code",
   "execution_count": null,
   "metadata": {
    "slideshow": {
     "slide_type": "-"
    }
   },
   "outputs": [],
   "source": [
    "print(9 + 5)"
   ]
  },
  {
   "cell_type": "code",
   "execution_count": null,
   "metadata": {
    "slideshow": {
     "slide_type": "-"
    }
   },
   "outputs": [],
   "source": [
    "print('9' + '5')"
   ]
  },
  {
   "cell_type": "code",
   "execution_count": null,
   "metadata": {
    "slideshow": {
     "slide_type": "-"
    }
   },
   "outputs": [],
   "source": [
    "print('9' + 5)"
   ]
  },
  {
   "cell_type": "code",
   "execution_count": null,
   "metadata": {
    "slideshow": {
     "slide_type": "subslide"
    }
   },
   "outputs": [],
   "source": [
    "print(str(9))\n",
    "print(type(str(9)))\n",
    "\n",
    "print(int('9'))\n",
    "print(type(int('9')))"
   ]
  },
  {
   "cell_type": "code",
   "execution_count": null,
   "metadata": {
    "slideshow": {
     "slide_type": "-"
    }
   },
   "outputs": [],
   "source": [
    "print(int('9') + 5)"
   ]
  },
  {
   "cell_type": "code",
   "execution_count": null,
   "metadata": {
    "slideshow": {
     "slide_type": "subslide"
    }
   },
   "outputs": [],
   "source": [
    "print(float('9.5'))\n",
    "print(type(float('9.5')))"
   ]
  },
  {
   "cell_type": "code",
   "execution_count": null,
   "metadata": {
    "slideshow": {
     "slide_type": "-"
    }
   },
   "outputs": [],
   "source": [
    "int('a')"
   ]
  },
  {
   "cell_type": "code",
   "execution_count": null,
   "metadata": {},
   "outputs": [],
   "source": []
  }
 ],
 "metadata": {
  "celltoolbar": "Slideshow",
  "kernelspec": {
   "display_name": "Python 3",
   "language": "python",
   "name": "python3"
  },
  "language_info": {
   "codemirror_mode": {
    "name": "ipython",
    "version": 3
   },
   "file_extension": ".py",
   "mimetype": "text/x-python",
   "name": "python",
   "nbconvert_exporter": "python",
   "pygments_lexer": "ipython3",
   "version": "3.7.3"
  }
 },
 "nbformat": 4,
 "nbformat_minor": 2
}
