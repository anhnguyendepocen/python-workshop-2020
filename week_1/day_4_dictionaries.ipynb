{
 "cells": [
  {
   "cell_type": "markdown",
   "metadata": {
    "slideshow": {
     "slide_type": "slide"
    }
   },
   "source": [
    "# <center> Please go to https://ccv.jupyter.brown.edu </center>"
   ]
  },
  {
   "cell_type": "markdown",
   "metadata": {
    "slideshow": {
     "slide_type": "subslide"
    }
   },
   "source": [
    "# <center>What we learned so far... </center>\n",
    "- What is a container\n",
    "- What is a list\n",
    "- How to index and slice lists\n",
    "- Strings are a special type of list"
   ]
  },
  {
   "cell_type": "markdown",
   "metadata": {
    "slideshow": {
     "slide_type": "subslide"
    }
   },
   "source": [
    "# <center> Dictionaries </center>\n",
    "## By the end of the day you'll be able to\n",
    "- Describe dictionaries and why they are useful\n",
    "- Creating dictionaries\n",
    "- Adding entries to a dictionary\n",
    "- Accessing, updating, removing key/values from a dictionary\n",
    "- Dictionary methods\n",
    "- Casting between lists and dictionaries"
   ]
  },
  {
   "cell_type": "markdown",
   "metadata": {
    "slideshow": {
     "slide_type": "slide"
    }
   },
   "source": [
    "- Describe dictionaries and why they are useful\n",
    "- <font color='LIGHTGRAY'>Creating dictionaries </font>\n",
    "- <font color='LIGHTGRAY'>Adding entries to a dictionary </font>\n",
    "- <font color='LIGHTGRAY'>Accessing, updating, removing key/values from a dictionary </font>\n",
    "- <font color='LIGHTGRAY'>Dictionary methods </font>\n",
    "- <font color='LIGHTGRAY'>Casting between lists and dictionaries </font>"
   ]
  },
  {
   "cell_type": "markdown",
   "metadata": {
    "slideshow": {
     "slide_type": "subslide"
    }
   },
   "source": [
    "# <center> The `dict` container type </center>\n",
    "* Fast lookup table with keys and values\n",
    "* Similar and different from `list`\n",
    "    * Unlike lists, which are indexed by a range of numbers, dictionaries are indexed by keys\n",
    "        * keys can be any type (int, flt, str, bool, dict, list, etc.)\n",
    "    * Like lists, can store mixed types"
   ]
  },
  {
   "cell_type": "markdown",
   "metadata": {
    "slideshow": {
     "slide_type": "slide"
    }
   },
   "source": [
    "- <font color='LIGHTGRAY'>Describe dictionaries and why they are useful </font>\n",
    "- Creating dictionaries\n",
    "- <font color='LIGHTGRAY'>Adding entries to a dictionary </font>\n",
    "- <font color='LIGHTGRAY'>Accessing, updating, removing key/values from a dictionary </font>\n",
    "- <font color='LIGHTGRAY'>Dictionary methods </font>\n",
    "- <font color='LIGHTGRAY'>Casting between lists and dictionaries </font>"
   ]
  },
  {
   "cell_type": "markdown",
   "metadata": {
    "slideshow": {
     "slide_type": "subslide"
    }
   },
   "source": [
    "## Defining a dict, one key value pair at a time"
   ]
  },
  {
   "cell_type": "code",
   "execution_count": null,
   "metadata": {
    "slideshow": {
     "slide_type": "-"
    }
   },
   "outputs": [],
   "source": [
    "# create an empty dictionary\n",
    "phone_nums_dict = {}\n",
    "print(phone_nums_dict)\n",
    "print(type(phone_nums_dict))\n",
    "print(len(phone_nums_dict))"
   ]
  },
  {
   "cell_type": "code",
   "execution_count": null,
   "metadata": {
    "slideshow": {
     "slide_type": "-"
    }
   },
   "outputs": [],
   "source": [
    "phone_nums_dict[\"zsom\"] = \"555-666-777\"\n",
    "print(phone_nums_dict)\n",
    "print(len(phone_nums_dict))"
   ]
  },
  {
   "cell_type": "code",
   "execution_count": null,
   "metadata": {
    "slideshow": {
     "slide_type": "-"
    }
   },
   "outputs": [],
   "source": [
    "phone_nums_dict[\"lee\"] = \"555-444-333\"\n",
    "print(phone_nums_dict)"
   ]
  },
  {
   "cell_type": "markdown",
   "metadata": {
    "slideshow": {
     "slide_type": "subslide"
    }
   },
   "source": [
    "## Exercise: add key=\"smith\" and value=\"307-821-7788\" to the `phone_nums_dict`"
   ]
  },
  {
   "cell_type": "code",
   "execution_count": null,
   "metadata": {
    "slideshow": {
     "slide_type": "-"
    }
   },
   "outputs": [],
   "source": [
    "from gofer.ok import check\n",
    "# write your code below this line\n",
    "\n",
    "\n",
    "# write your code above this line\n",
    "check('tests/lec4_p1.py')"
   ]
  },
  {
   "cell_type": "markdown",
   "metadata": {
    "slideshow": {
     "slide_type": "subslide"
    }
   },
   "source": [
    "## Defining a dict with all key value pairs at once"
   ]
  },
  {
   "cell_type": "code",
   "execution_count": null,
   "metadata": {
    "slideshow": {
     "slide_type": "fragment"
    }
   },
   "outputs": [],
   "source": [
    "cities_dict = {'BOS': 'Boston',\n",
    "          'NYC': 'New York City',\n",
    "          'LAX': 'Los Angeles'}\n",
    "print(cities_dict)"
   ]
  },
  {
   "cell_type": "code",
   "execution_count": null,
   "metadata": {
    "slideshow": {
     "slide_type": "fragment"
    }
   },
   "outputs": [],
   "source": [
    "birth_year_dict = dict(Ashley=1990, Jenny=1990)\n",
    "print(birth_year_dict) "
   ]
  },
  {
   "cell_type": "code",
   "execution_count": null,
   "metadata": {
    "slideshow": {
     "slide_type": "subslide"
    }
   },
   "outputs": [],
   "source": [
    "hometown_dict = dict([('Ashley', 'McLean'), ('Jenny', 'Reston')])\n",
    "print(hometown_dict)"
   ]
  },
  {
   "cell_type": "code",
   "execution_count": null,
   "metadata": {
    "slideshow": {
     "slide_type": "fragment"
    }
   },
   "outputs": [],
   "source": [
    "age_dict = dict([('Ashley', 30), ('Jenny', 29)])\n",
    "print(age_dict)"
   ]
  },
  {
   "cell_type": "markdown",
   "metadata": {
    "slideshow": {
     "slide_type": "subslide"
    }
   },
   "source": [
    "## Exercise: define a dictionary called `hometown_dict` with two key value pairs...\n",
    "* (Ashley Lee, McLean)\n",
    "* (Jenny Yang, Reston)"
   ]
  },
  {
   "cell_type": "code",
   "execution_count": null,
   "metadata": {
    "slideshow": {
     "slide_type": "-"
    }
   },
   "outputs": [],
   "source": [
    "\n",
    "\n",
    "# write your code above this line\n",
    "check('tests/lec4_p2.py')"
   ]
  },
  {
   "cell_type": "markdown",
   "metadata": {
    "slideshow": {
     "slide_type": "slide"
    }
   },
   "source": [
    "- <font color='LIGHTGRAY'>Describe dictionaries and why they are useful </font>\n",
    "- <font color='LIGHTGRAY'>Creating dictionaries </font>\n",
    "- Adding entries to a dictionary\n",
    "- <font color='LIGHTGRAY'>Accessing, updating, removing key/values from a dictionary </font>\n",
    "- <font color='LIGHTGRAY'>Dictionary methods </font>\n",
    "- <font color='LIGHTGRAY'>Casting between lists and dictionaries </font>"
   ]
  },
  {
   "cell_type": "markdown",
   "metadata": {
    "slideshow": {
     "slide_type": "subslide"
    }
   },
   "source": [
    "## Adding Entries of Arbitrary Type"
   ]
  },
  {
   "cell_type": "code",
   "execution_count": null,
   "metadata": {
    "slideshow": {
     "slide_type": "-"
    }
   },
   "outputs": [],
   "source": [
    "print(phone_nums_dict)"
   ]
  },
  {
   "cell_type": "code",
   "execution_count": null,
   "metadata": {
    "slideshow": {
     "slide_type": "-"
    }
   },
   "outputs": [],
   "source": [
    "phone_nums_dict[16] = 'abc'\n",
    "print(phone_nums_dict)"
   ]
  },
  {
   "cell_type": "code",
   "execution_count": null,
   "metadata": {
    "slideshow": {
     "slide_type": "subslide"
    }
   },
   "outputs": [],
   "source": [
    "print(phone_nums_dict[0]) # this will throw an error"
   ]
  },
  {
   "cell_type": "code",
   "execution_count": null,
   "metadata": {
    "slideshow": {
     "slide_type": "-"
    }
   },
   "outputs": [],
   "source": [
    " print(phone_nums_dict[16]) # this will not throw an error"
   ]
  },
  {
   "cell_type": "code",
   "execution_count": null,
   "metadata": {
    "slideshow": {
     "slide_type": "subslide"
    }
   },
   "outputs": [],
   "source": [
    "phone_nums_dict['gomez'] = ['999-999-9999', '1-800-666-6666']\n",
    "print(phone_nums_dict)"
   ]
  },
  {
   "cell_type": "code",
   "execution_count": null,
   "metadata": {
    "slideshow": {
     "slide_type": "-"
    }
   },
   "outputs": [],
   "source": [
    "print(phone_nums_dict['gomez'][1])"
   ]
  },
  {
   "cell_type": "markdown",
   "metadata": {
    "slideshow": {
     "slide_type": "subslide"
    }
   },
   "source": [
    "## Exercise: Add the key 9 to the `phone_nums_dict` dictionary with the value 27"
   ]
  },
  {
   "cell_type": "code",
   "execution_count": null,
   "metadata": {
    "slideshow": {
     "slide_type": "-"
    }
   },
   "outputs": [],
   "source": [
    "\n",
    "\n",
    "# write your code above this line\n",
    "check('tests/lec4_p3.py')"
   ]
  },
  {
   "cell_type": "markdown",
   "metadata": {
    "slideshow": {
     "slide_type": "slide"
    }
   },
   "source": [
    "- <font color='LIGHTGRAY'>Describe dictionaries and why they are useful </font>\n",
    "- <font color='LIGHTGRAY'>Creating dictionaries </font>\n",
    "- <font color='LIGHTGRAY'>Adding entries to a dictionary </font>\n",
    "- Accessing, updating, removing key/values from a dictionary\n",
    "- <font color='LIGHTGRAY'>Dictionary methods </font>\n",
    "- <font color='LIGHTGRAY'>Casting between lists and dictionaries </font>"
   ]
  },
  {
   "cell_type": "markdown",
   "metadata": {
    "slideshow": {
     "slide_type": "subslide"
    }
   },
   "source": [
    "## Accessing a value in a dictionary"
   ]
  },
  {
   "cell_type": "code",
   "execution_count": null,
   "metadata": {
    "slideshow": {
     "slide_type": "-"
    }
   },
   "outputs": [],
   "source": [
    "print(phone_nums_dict[\"zsom\"])"
   ]
  },
  {
   "cell_type": "code",
   "execution_count": null,
   "metadata": {
    "slideshow": {
     "slide_type": "-"
    }
   },
   "outputs": [],
   "source": [
    "print(phone_nums_dict[\"jones\"])"
   ]
  },
  {
   "cell_type": "markdown",
   "metadata": {
    "slideshow": {
     "slide_type": "subslide"
    }
   },
   "source": [
    "## Updating a value in a dictionary"
   ]
  },
  {
   "cell_type": "code",
   "execution_count": null,
   "metadata": {
    "slideshow": {
     "slide_type": "-"
    }
   },
   "outputs": [],
   "source": [
    "print(phone_nums_dict)\n",
    "phone_nums_dict[\"lee\"] = '666-666-6666'\n",
    "print(phone_nums_dict)"
   ]
  },
  {
   "cell_type": "code",
   "execution_count": null,
   "metadata": {
    "slideshow": {
     "slide_type": "-"
    }
   },
   "outputs": [],
   "source": [
    "# if you specify a key twice when constructing a dictionary, the second key will override the first\n",
    "cities_dict = {'BOS': 'Boston',\n",
    "              'NYC': 'New York City',\n",
    "              'LAX': 'Los Angeles',\n",
    "              'BOS': 'Providence'}\n",
    "print(cities_dict)"
   ]
  },
  {
   "cell_type": "markdown",
   "metadata": {
    "slideshow": {
     "slide_type": "subslide"
    }
   },
   "source": [
    "## Exercise: Using `cities_dict`, update the value for the 'NYC' key to 'Brooklyn'"
   ]
  },
  {
   "cell_type": "code",
   "execution_count": null,
   "metadata": {
    "slideshow": {
     "slide_type": "-"
    }
   },
   "outputs": [],
   "source": [
    "\n",
    "\n",
    "# write your code above this line\n",
    "check('tests/lec4_p4.py')"
   ]
  },
  {
   "cell_type": "markdown",
   "metadata": {
    "slideshow": {
     "slide_type": "subslide"
    }
   },
   "source": [
    "## Removing entries from a dictionary"
   ]
  },
  {
   "cell_type": "code",
   "execution_count": null,
   "metadata": {
    "slideshow": {
     "slide_type": "-"
    }
   },
   "outputs": [],
   "source": [
    "print(phone_nums_dict)\n",
    "del phone_nums_dict['smith']\n",
    "print(phone_nums_dict)"
   ]
  },
  {
   "cell_type": "markdown",
   "metadata": {
    "slideshow": {
     "slide_type": "subslide"
    }
   },
   "source": [
    "## Checking if a key is in a dictionary"
   ]
  },
  {
   "cell_type": "code",
   "execution_count": null,
   "metadata": {
    "slideshow": {
     "slide_type": "-"
    }
   },
   "outputs": [],
   "source": [
    "check_bool = 'NYC' in cities_dict\n",
    "print(check_bool)"
   ]
  },
  {
   "cell_type": "code",
   "execution_count": null,
   "metadata": {
    "slideshow": {
     "slide_type": "-"
    }
   },
   "outputs": [],
   "source": [
    "check_bool = 'NYC' not in cities_dict\n",
    "print(check_bool)"
   ]
  },
  {
   "cell_type": "markdown",
   "metadata": {
    "slideshow": {
     "slide_type": "slide"
    }
   },
   "source": [
    "- <font color='LIGHTGRAY'>Describe dictionaries and why they are useful </font>\n",
    "- <font color='LIGHTGRAY'>Creating dictionaries </font>\n",
    "- <font color='LIGHTGRAY'>Adding entries to a dictionary </font>\n",
    "- <font color='LIGHTGRAY'>Accessing, updating, removing key/values from a dictionary </font>\n",
    "- Dictionary methods\n",
    "- <font color='LIGHTGRAY'>Casting between lists and dictionaries </font>"
   ]
  },
  {
   "cell_type": "markdown",
   "metadata": {
    "slideshow": {
     "slide_type": "subslide"
    }
   },
   "source": [
    "## Dictionary methods"
   ]
  },
  {
   "cell_type": "code",
   "execution_count": null,
   "metadata": {
    "slideshow": {
     "slide_type": "-"
    }
   },
   "outputs": [],
   "source": [
    "print(cities_dict.keys())"
   ]
  },
  {
   "cell_type": "code",
   "execution_count": null,
   "metadata": {
    "slideshow": {
     "slide_type": "-"
    }
   },
   "outputs": [],
   "source": [
    "print(cities_dict.values())"
   ]
  },
  {
   "cell_type": "code",
   "execution_count": null,
   "metadata": {
    "slideshow": {
     "slide_type": "-"
    }
   },
   "outputs": [],
   "source": [
    "print(cities_dict.items())"
   ]
  },
  {
   "cell_type": "code",
   "execution_count": null,
   "metadata": {
    "slideshow": {
     "slide_type": "subslide"
    }
   },
   "outputs": [],
   "source": [
    "print(cities_dict)\n",
    "print(cities_dict.pop('LAX'))\n",
    "print(cities_dict)"
   ]
  },
  {
   "cell_type": "code",
   "execution_count": null,
   "metadata": {
    "slideshow": {
     "slide_type": "subslide"
    }
   },
   "outputs": [],
   "source": [
    "print(cities_dict.get('NYC'))\n",
    "print(cities_dict.get('CHI'))\n",
    "print(cities_dict.get('CHI', -1))"
   ]
  },
  {
   "cell_type": "code",
   "execution_count": null,
   "metadata": {
    "slideshow": {
     "slide_type": "subslide"
    }
   },
   "outputs": [],
   "source": [
    "print(cities_dict)\n",
    "another_cities_dict = {'PHL': 'Philadelphia',\n",
    "                       'SF': 'San Francisco',\n",
    "                       'ATL': 'Atlanta',\n",
    "                       'BOS': 'Boston'}\n",
    "cities_dict.update(another_cities_dict)\n",
    "print(cities_dict)"
   ]
  },
  {
   "cell_type": "code",
   "execution_count": null,
   "metadata": {
    "slideshow": {
     "slide_type": "-"
    }
   },
   "outputs": [],
   "source": [
    "print(cities_dict)\n",
    "cities_dict.update(SF='San Fran')\n",
    "print(cities_dict)"
   ]
  },
  {
   "cell_type": "code",
   "execution_count": null,
   "metadata": {
    "slideshow": {
     "slide_type": "-"
    }
   },
   "outputs": [],
   "source": [
    "print(cities_dict)\n",
    "cities_dict.update([('SF', 'San Francisco')])\n",
    "print(cities_dict)"
   ]
  },
  {
   "cell_type": "markdown",
   "metadata": {
    "slideshow": {
     "slide_type": "subslide"
    }
   },
   "source": [
    "## Exercise: check if ATL is in the `cities_dict` using the `.get()` method. Update the value for ATL to \"Atlanta, GA\" using the `.update()` method. Print `cities_dict`."
   ]
  },
  {
   "cell_type": "code",
   "execution_count": null,
   "metadata": {
    "slideshow": {
     "slide_type": "-"
    }
   },
   "outputs": [],
   "source": [
    "\n",
    "# write your code above this line\n",
    "check('tests/lec4_p5.py')"
   ]
  },
  {
   "cell_type": "markdown",
   "metadata": {
    "slideshow": {
     "slide_type": "slide"
    }
   },
   "source": [
    "- <font color='LIGHTGRAY'>Describe dictionaries and why they are useful </font>\n",
    "- <font color='LIGHTGRAY'>Creating dictionaries </font>\n",
    "- <font color='LIGHTGRAY'>Adding entries to a dictionary </font>\n",
    "- <font color='LIGHTGRAY'>Accessing, updating, removing key/values from a dictionary </font>\n",
    "- <font color='LIGHTGRAY'>Dictionary methods </font>\n",
    "- Casting between lists and dictionaries"
   ]
  },
  {
   "cell_type": "markdown",
   "metadata": {
    "slideshow": {
     "slide_type": "subslide"
    }
   },
   "source": [
    "# <center> Casting from one container type to another </center>"
   ]
  },
  {
   "cell_type": "code",
   "execution_count": null,
   "metadata": {
    "slideshow": {
     "slide_type": "subslide"
    }
   },
   "outputs": [],
   "source": [
    "# cast lists to dictionary\n",
    "codes = ['NYC', 'BOS', 'LAX', 'PHL', 'WAS']\n",
    "cities = ['new york', 'boston', 'los angeles', 'philadelphia', 'washington dc']\n",
    "\n",
    "d_dict = dict(zip(codes, cities))\n",
    "print(d_dict)"
   ]
  },
  {
   "cell_type": "code",
   "execution_count": null,
   "metadata": {
    "slideshow": {
     "slide_type": "-"
    }
   },
   "outputs": [],
   "source": [
    "# WATCH OUT!!!\n",
    "codes = ['NYC', 'BOS', 'LAX', 'PHL', 'WAS']\n",
    "cities = ['chicago', 'new york', 'boston', 'los angeles', 'philadelphia', 'washington dc']\n",
    "\n",
    "d_dict = dict(zip(codes, cities))\n",
    "print(d_dict)"
   ]
  },
  {
   "cell_type": "code",
   "execution_count": null,
   "metadata": {
    "slideshow": {
     "slide_type": "subslide"
    }
   },
   "outputs": [],
   "source": [
    "keys_lst = list(d_dict.keys())\n",
    "values_lst = list(d_dict.values())\n",
    "\n",
    "print(keys_lst)\n",
    "print(type(keys_lst))\n",
    "print(values_lst)\n",
    "print(type(values_lst))"
   ]
  },
  {
   "cell_type": "code",
   "execution_count": null,
   "metadata": {},
   "outputs": [],
   "source": []
  }
 ],
 "metadata": {
  "celltoolbar": "Slideshow",
  "kernelspec": {
   "display_name": "Python 3",
   "language": "python",
   "name": "python3"
  },
  "language_info": {
   "codemirror_mode": {
    "name": "ipython",
    "version": 3
   },
   "file_extension": ".py",
   "mimetype": "text/x-python",
   "name": "python",
   "nbconvert_exporter": "python",
   "pygments_lexer": "ipython3",
   "version": "3.7.3"
  }
 },
 "nbformat": 4,
 "nbformat_minor": 2
}
