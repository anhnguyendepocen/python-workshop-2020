{
 "cells": [
  {
   "cell_type": "code",
   "execution_count": null,
   "metadata": {},
   "outputs": [],
   "source": [
    "# run this cell first\n",
    "from gofer.ok import check"
   ]
  },
  {
   "cell_type": "markdown",
   "metadata": {},
   "source": [
    "# P1: create variables using the hungarian notation\n",
    "The value of pi is 3.1416. Create a variable and store this value."
   ]
  },
  {
   "cell_type": "code",
   "execution_count": null,
   "metadata": {},
   "outputs": [],
   "source": [
    "\n",
    "\n",
    "check('tests/lab1_p1a.py')"
   ]
  },
  {
   "cell_type": "markdown",
   "metadata": {},
   "source": [
    "There are 86400 seconds in a day. What variable type is suitable to store this value? The variable name should start with `seconds_in_day_`."
   ]
  },
  {
   "cell_type": "code",
   "execution_count": null,
   "metadata": {},
   "outputs": [],
   "source": [
    "\n",
    "\n",
    "check('tests/lab1_p1b.py')"
   ]
  },
  {
   "cell_type": "markdown",
   "metadata": {},
   "source": [
    "# P2: Are the following variables named correctly? \n",
    "\n",
    "Create a new boolean variable that checks if their type is correctly indicated in the variable name. The name of the boolean variable should start with the same string as the original variable. For example, if the variable is `a_int`, the boolean variabe should be `a_bool`; or if the variable is `num_flt`, the boolean variable should be `num_bool`."
   ]
  },
  {
   "cell_type": "code",
   "execution_count": null,
   "metadata": {},
   "outputs": [],
   "source": [
    "somenum_int = 623\n",
    "\n",
    "\n",
    "\n",
    "check('tests/lab1_p2a.py')"
   ]
  },
  {
   "cell_type": "code",
   "execution_count": null,
   "metadata": {},
   "outputs": [],
   "source": [
    "someothernum_flt = 92\n",
    "\n",
    "\n",
    "\n",
    "check('tests/lab1_p2b.py')"
   ]
  },
  {
   "cell_type": "code",
   "execution_count": null,
   "metadata": {},
   "outputs": [],
   "source": [
    "whatevs_flt = 456.256\n",
    "\n",
    "\n",
    "\n",
    "check('tests/lab1_p2c.py')"
   ]
  },
  {
   "cell_type": "code",
   "execution_count": null,
   "metadata": {},
   "outputs": [],
   "source": [
    "giraffe_int = 78.13\n",
    "\n",
    "\n",
    "\n",
    "check('tests/lab1_p2d.py')"
   ]
  },
  {
   "cell_type": "markdown",
   "metadata": {},
   "source": [
    "# P3: Update an existing variable or create a new one using hungarian notation as appropriate."
   ]
  },
  {
   "cell_type": "code",
   "execution_count": null,
   "metadata": {},
   "outputs": [],
   "source": [
    "# Multiply the variable below by 2. Can you use the same variable to store the new value?\n",
    "# Or do you need to create a new one?\n",
    "somenum_int = 327\n",
    "\n",
    "\n",
    "\n",
    "check('tests/lab1_p3a.py')"
   ]
  },
  {
   "cell_type": "code",
   "execution_count": null,
   "metadata": {},
   "outputs": [],
   "source": [
    "# Multiply the variable below by 2.25. Can you use the same variable to store the new value?\n",
    "# Or do you need to create a new one?\n",
    "someothernum_int = 67\n",
    "\n",
    "\n",
    "\n",
    "check('tests/lab1_p3b.py')"
   ]
  },
  {
   "cell_type": "code",
   "execution_count": null,
   "metadata": {},
   "outputs": [],
   "source": []
  }
 ],
 "metadata": {
  "kernelspec": {
   "display_name": "Python 3",
   "language": "python",
   "name": "python3"
  },
  "language_info": {
   "codemirror_mode": {
    "name": "ipython",
    "version": 3
   },
   "file_extension": ".py",
   "mimetype": "text/x-python",
   "name": "python",
   "nbconvert_exporter": "python",
   "pygments_lexer": "ipython3",
   "version": "3.6.10"
  }
 },
 "nbformat": 4,
 "nbformat_minor": 2
}
