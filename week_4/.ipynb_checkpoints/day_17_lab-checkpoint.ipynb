{
 "cells": [
  {
   "cell_type": "markdown",
   "metadata": {},
   "source": [
    "## Exercise\n",
    "Same as yesterday. Work with the data that you scraped and prepare visualizations. Here are some examples:\n",
    "    \n",
    "- Prepare a heatmap or a scatter plot using the rating and votes columns of the imdb data,\n",
    "- Prepare a scatter matrix using the runtime, votes, and ratings columns of the imdb data,\n",
    "\n",
    "Be creative, explore the data or scrape new data if necessary, and visualize a new insight that you discover."
   ]
  },
  {
   "cell_type": "code",
   "execution_count": null,
   "metadata": {},
   "outputs": [],
   "source": []
  }
 ],
 "metadata": {
  "kernelspec": {
   "display_name": "Python 3",
   "language": "python",
   "name": "python3"
  },
  "language_info": {
   "codemirror_mode": {
    "name": "ipython",
    "version": 3
   },
   "file_extension": ".py",
   "mimetype": "text/x-python",
   "name": "python",
   "nbconvert_exporter": "python",
   "pygments_lexer": "ipython3",
   "version": "3.6.10"
  }
 },
 "nbformat": 4,
 "nbformat_minor": 4
}
