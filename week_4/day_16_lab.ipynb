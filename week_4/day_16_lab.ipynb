{
 "cells": [
  {
   "cell_type": "markdown",
   "metadata": {},
   "source": [
    "## Exercise\n",
    "Work with the data that you scraped and prepare visualizations. Here are a couple of examples:\n",
    "\n",
    "- You could prepare histograms using the runtime, rating, and votes of the imdb data,\n",
    "- You could prepare a bar plot showing how many movies were nominated in each category using the oscars data,\n",
    "- You could also combine the oscars and imdb data and compare the ratings of movies that were nominated in at least one category and movies that were not nominated in any category (this can be done using a stacked histogram, a violin plot, or a box plot) \n",
    "\n",
    "Be creative, explore the data or scrape new data if necessary, and visualize a new insight that you discover."
   ]
  },
  {
   "cell_type": "code",
   "execution_count": null,
   "metadata": {},
   "outputs": [],
   "source": []
  },
  {
   "cell_type": "markdown",
   "metadata": {},
   "source": [
    "## Alternative exercise\n",
    "Clean the genres column in imdb.csv. One movie could belong to multiple genres. For example, the genre of the first movie (Get Paid, Get Laid & Get Lucky) is \"Crime, Drama, Romance\". This is one string. Ideally you'd like to split this string into three parts \"Crime\", \"Drama\", and \"Romance\". The primary genre of the movis is 'Crime', the secondary genre is 'Drama', and the third genre is 'Romance'. You should store these three values in three different columns named something like genre 1, genre 2, genre 3. \n",
    "\n",
    "Once you cleaned the genre columns, you could compare the ratings of different genres. Are there genres that are generally favorably rated than other genres? Prepare visualization(s) to illustrate your findings."
   ]
  },
  {
   "cell_type": "code",
   "execution_count": null,
   "metadata": {},
   "outputs": [],
   "source": []
  }
 ],
 "metadata": {
  "kernelspec": {
   "display_name": "Python 3",
   "language": "python",
   "name": "python3"
  },
  "language_info": {
   "codemirror_mode": {
    "name": "ipython",
    "version": 3
   },
   "file_extension": ".py",
   "mimetype": "text/x-python",
   "name": "python",
   "nbconvert_exporter": "python",
   "pygments_lexer": "ipython3",
   "version": "3.6.10"
  }
 },
 "nbformat": 4,
 "nbformat_minor": 4
}
